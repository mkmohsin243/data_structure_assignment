{
 "cells": [
  {
   "cell_type": "markdown",
   "id": "58482eef-1ea1-4684-9f6d-21317d55cf32",
   "metadata": {},
   "source": [
    "## Question 1 -  Discuss String slicing and provide examples."
   ]
  },
  {
   "cell_type": "code",
   "execution_count": null,
   "id": "1995199f-6e02-4d0d-9b4d-634c647a807b",
   "metadata": {},
   "outputs": [],
   "source": [
    "# Ans :-  String is a ordered collection  of character , where each charecter is in the form of single text , which is used to be access and manipulate the data. \n",
    "# string is a heterogenous data structure. (It can contain any type of data.)\n",
    "# String is immutable data structure. (can access , but cannot manipulate)"
   ]
  },
  {
   "cell_type": "code",
   "execution_count": 40,
   "id": "5e52d051-3066-4173-a84d-d6d889fb9bd3",
   "metadata": {},
   "outputs": [
    {
     "name": "stdout",
     "output_type": "stream",
     "text": [
      "mohsin\n",
      "<class 'str'>\n"
     ]
    }
   ],
   "source": [
    "# Understand with some examples :-\n",
    "nam = \"mohsin\"\n",
    "print(nam)\n",
    "print(type(nam))"
   ]
  },
  {
   "cell_type": "code",
   "execution_count": 41,
   "id": "8c0a81ff-6777-45cc-ae88-175a6a45eec0",
   "metadata": {},
   "outputs": [
    {
     "data": {
      "text/plain": [
       "'m'"
      ]
     },
     "execution_count": 41,
     "metadata": {},
     "output_type": "execute_result"
    }
   ],
   "source": [
    "## accessing of the elements.\n",
    "nam[0] "
   ]
  },
  {
   "cell_type": "code",
   "execution_count": 43,
   "id": "c802c22b-a27e-4b15-aff0-33c365a5c4e1",
   "metadata": {},
   "outputs": [
    {
     "data": {
      "text/plain": [
       "'s'"
      ]
     },
     "execution_count": 43,
     "metadata": {},
     "output_type": "execute_result"
    }
   ],
   "source": [
    "nam[3]"
   ]
  },
  {
   "cell_type": "code",
   "execution_count": 45,
   "id": "60b3ce7b-b518-4f09-84f5-c08ff424864e",
   "metadata": {},
   "outputs": [
    {
     "data": {
      "text/plain": [
       "'n'"
      ]
     },
     "execution_count": 45,
     "metadata": {},
     "output_type": "execute_result"
    }
   ],
   "source": [
    "nam[5]"
   ]
  },
  {
   "cell_type": "code",
   "execution_count": 44,
   "id": "9a01c7b2-f49e-4d9a-919e-5ee37aed51fd",
   "metadata": {},
   "outputs": [
    {
     "data": {
      "text/plain": [
       "'o'"
      ]
     },
     "execution_count": 44,
     "metadata": {},
     "output_type": "execute_result"
    }
   ],
   "source": [
    "nam[-5]"
   ]
  },
  {
   "cell_type": "code",
   "execution_count": 42,
   "id": "2bdbbee6-b355-4b95-8a88-5904fa9159dc",
   "metadata": {},
   "outputs": [
    {
     "data": {
      "text/plain": [
       "'s'"
      ]
     },
     "execution_count": 42,
     "metadata": {},
     "output_type": "execute_result"
    }
   ],
   "source": [
    "nam[-3]"
   ]
  },
  {
   "cell_type": "code",
   "execution_count": 47,
   "id": "4cea0e05-332d-48f6-8c15-30597c8ed463",
   "metadata": {},
   "outputs": [
    {
     "ename": "TypeError",
     "evalue": "'str' object does not support item assignment",
     "output_type": "error",
     "traceback": [
      "\u001b[0;31m---------------------------------------------------------------------------\u001b[0m",
      "\u001b[0;31mTypeError\u001b[0m                                 Traceback (most recent call last)",
      "Cell \u001b[0;32mIn[47], line 2\u001b[0m\n\u001b[1;32m      1\u001b[0m \u001b[38;5;66;03m## lets try to manipulate the elements :-\u001b[39;00m\n\u001b[0;32m----> 2\u001b[0m \u001b[43mname\u001b[49m\u001b[43m[\u001b[49m\u001b[38;5;241;43m1\u001b[39;49m\u001b[43m]\u001b[49m \u001b[38;5;241m=\u001b[39m \u001b[38;5;124m\"\u001b[39m\u001b[38;5;124ml\u001b[39m\u001b[38;5;124m\"\u001b[39m\n",
      "\u001b[0;31mTypeError\u001b[0m: 'str' object does not support item assignment"
     ]
    }
   ],
   "source": [
    "## lets try to manipulate the elements :-\n",
    "name[1] = \"l\" # we cannot manipulate , because string is immutable, always get error. (does not support item assignment)"
   ]
  },
  {
   "cell_type": "code",
   "execution_count": 48,
   "id": "ceba41c0-4196-4181-aefa-ca8ad6de976c",
   "metadata": {},
   "outputs": [
    {
     "ename": "TypeError",
     "evalue": "'str' object does not support item assignment",
     "output_type": "error",
     "traceback": [
      "\u001b[0;31m---------------------------------------------------------------------------\u001b[0m",
      "\u001b[0;31mTypeError\u001b[0m                                 Traceback (most recent call last)",
      "Cell \u001b[0;32mIn[48], line 1\u001b[0m\n\u001b[0;32m----> 1\u001b[0m \u001b[43mname\u001b[49m\u001b[43m[\u001b[49m\u001b[38;5;241;43m-\u001b[39;49m\u001b[38;5;241;43m3\u001b[39;49m\u001b[43m]\u001b[49m \u001b[38;5;241m=\u001b[39m \u001b[38;5;124m\"\u001b[39m\u001b[38;5;124mf\u001b[39m\u001b[38;5;124m\"\u001b[39m\n",
      "\u001b[0;31mTypeError\u001b[0m: 'str' object does not support item assignment"
     ]
    }
   ],
   "source": [
    "name[-3] = \"f\" # we cannot manipulate , because string is immutable, always get error. (does not support item assignment)"
   ]
  },
  {
   "cell_type": "code",
   "execution_count": null,
   "id": "acf6b808-af2a-4b4b-9438-ebbc2e06bcef",
   "metadata": {},
   "outputs": [],
   "source": [
    "# String Slicing :- String slicing is used to slice or extract the string. Basically it used to make a sub-string by cuttting or extracting of a string.\n",
    "                  # Slicing is used to cut the full string in parts, And we can make a new sub-string from that string.\n",
    "                  # Slicing used to break a string into sub-strings.\n",
    "                  # We can also reverse the complete string by the use of slicing of string.\n",
    "                  # We used accessing of index for slicing/extracting the string.\n",
    "                  # Syntax of string is >> [start:end:step]\n",
    "                  # In index we will also count space as a index."
   ]
  },
  {
   "cell_type": "code",
   "execution_count": 1,
   "id": "ea2b20f1-b21f-494f-9d68-b24916435688",
   "metadata": {},
   "outputs": [],
   "source": [
    "# Examples of String slicing:-"
   ]
  },
  {
   "cell_type": "code",
   "execution_count": 5,
   "id": "69633fc9-4ebd-4352-8817-2483a73a05a0",
   "metadata": {},
   "outputs": [
    {
     "name": "stdout",
     "output_type": "stream",
     "text": [
      "My name is Mohsin Khan\n",
      "<class 'str'>\n"
     ]
    }
   ],
   "source": [
    "name = \"My name is Mohsin Khan\" # This is a string data structure.\n",
    "print(name)\n",
    "print(type(name))"
   ]
  },
  {
   "cell_type": "code",
   "execution_count": 6,
   "id": "a8bb4995-5057-4d96-b5f1-a6f967e28dc8",
   "metadata": {},
   "outputs": [
    {
     "data": {
      "text/plain": [
       "'My name is Mohsin Khan'"
      ]
     },
     "execution_count": 6,
     "metadata": {},
     "output_type": "execute_result"
    }
   ],
   "source": [
    "# This is used to print the complete string.\n",
    "name[0:] # here we give only start point that is from 0th index , and we not provide any end point , so it will ptint the complete string."
   ]
  },
  {
   "cell_type": "code",
   "execution_count": 7,
   "id": "e3e795fd-bcc4-4957-b07d-0d66b3502bed",
   "metadata": {},
   "outputs": [
    {
     "data": {
      "text/plain": [
       "'My name is Mohsin Khan'"
      ]
     },
     "execution_count": 7,
     "metadata": {},
     "output_type": "execute_result"
    }
   ],
   "source": [
    "# by this method we can print the complete string, because we not give any start point or end point , so it will by default print from starting to end.\n",
    "name[::]"
   ]
  },
  {
   "cell_type": "code",
   "execution_count": 8,
   "id": "53474a7e-51e8-419a-a864-8689cd821150",
   "metadata": {},
   "outputs": [
    {
     "data": {
      "text/plain": [
       "'ame is M'"
      ]
     },
     "execution_count": 8,
     "metadata": {},
     "output_type": "execute_result"
    }
   ],
   "source": [
    "name[4:12] # so here we provide code , to print from 4rth index to the 11th index , it will exclude 12th index , because we start counting from 0 in index."
   ]
  },
  {
   "cell_type": "code",
   "execution_count": 9,
   "id": "f1c0a223-f345-485f-8b1e-d3f0bd4694f0",
   "metadata": {},
   "outputs": [
    {
     "data": {
      "text/plain": [
       "'My name is'"
      ]
     },
     "execution_count": 9,
     "metadata": {},
     "output_type": "execute_result"
    }
   ],
   "source": [
    "name[0:10] # here we provide code , to print from 0th index to the 9th index , it will exclude the 10th index."
   ]
  },
  {
   "cell_type": "code",
   "execution_count": 10,
   "id": "0d7b21e1-6cdb-4150-a456-2032ba62288c",
   "metadata": {},
   "outputs": [
    {
     "data": {
      "text/plain": [
       "' name is M'"
      ]
     },
     "execution_count": 10,
     "metadata": {},
     "output_type": "execute_result"
    }
   ],
   "source": [
    "name[2:12:1] # here it will print from 2nd index to the 11th index , exclude 12th index , it will print by taking step 1."
   ]
  },
  {
   "cell_type": "code",
   "execution_count": 11,
   "id": "ceefe499-ccbd-47be-8f26-b975ad95b3bc",
   "metadata": {},
   "outputs": [
    {
     "data": {
      "text/plain": [
       "' aei '"
      ]
     },
     "execution_count": 11,
     "metadata": {},
     "output_type": "execute_result"
    }
   ],
   "source": [
    "name[2:12:2] # here we can see we give same starting and ending index, but the step count is 2, that's why it print this result.It will print by taking step 2. "
   ]
  },
  {
   "cell_type": "code",
   "execution_count": 16,
   "id": "5e26b711-0ef3-47de-a39f-b65ef5dcac4f",
   "metadata": {},
   "outputs": [
    {
     "data": {
      "text/plain": [
       "' name is Mohsin Khan'"
      ]
     },
     "execution_count": 16,
     "metadata": {},
     "output_type": "execute_result"
    }
   ],
   "source": [
    "name[2::] # it means it will start from 2nd index , and by taking step 1 , print the complete string , because there is no input given regarding end index."
   ]
  },
  {
   "cell_type": "code",
   "execution_count": 17,
   "id": "245bfc6d-5654-4045-b4da-358b4849eaf0",
   "metadata": {},
   "outputs": [
    {
     "data": {
      "text/plain": [
       "' miMs a'"
      ]
     },
     "execution_count": 17,
     "metadata": {},
     "output_type": "execute_result"
    }
   ],
   "source": [
    "name[2::3] #it will print from the 2nd index, to the last index, because there is no input given regarding end index, it wil print by taking step 3. "
   ]
  },
  {
   "cell_type": "raw",
   "id": "1c329fe9-a218-4a5b-aafe-0e0be2378cf3",
   "metadata": {},
   "source": [
    "# If we try with negative index it will give different result , because negative index will start counting from right to left (-1 , -2 , -3 , -4 , -infinity.)\n",
    "but it will also follow the same rule."
   ]
  },
  {
   "cell_type": "code",
   "execution_count": 14,
   "id": "a798a310-734b-441c-9496-b15ac8304785",
   "metadata": {},
   "outputs": [
    {
     "data": {
      "text/plain": [
       "'han'"
      ]
     },
     "execution_count": 14,
     "metadata": {},
     "output_type": "execute_result"
    }
   ],
   "source": [
    "name[-3:] # it will start from -3rd index and will print till the last index."
   ]
  },
  {
   "cell_type": "code",
   "execution_count": 15,
   "id": "d592118d-314b-4f8d-8786-4ce27b6afaac",
   "metadata": {},
   "outputs": [
    {
     "data": {
      "text/plain": [
       "' is Mohsin Kh'"
      ]
     },
     "execution_count": 15,
     "metadata": {},
     "output_type": "execute_result"
    }
   ],
   "source": [
    "name[-15:-2] # so it will start from the -15th index and print to the -3nd index , it will exlude the -2nd index. Because negative index works opposite direction(right to left)."
   ]
  },
  {
   "cell_type": "code",
   "execution_count": 20,
   "id": "20e7ac30-7f3d-4ba3-b905-fdb77b3ee488",
   "metadata": {},
   "outputs": [
    {
     "data": {
      "text/plain": [
       "'osnK'"
      ]
     },
     "execution_count": 20,
     "metadata": {},
     "output_type": "execute_result"
    }
   ],
   "source": [
    "name[-10:-3:2] # it will print from -10th index to the -4th index , it will exclude the -3rd index, by taking step 2."
   ]
  },
  {
   "cell_type": "code",
   "execution_count": 33,
   "id": "48fe60e4-5187-45cc-b059-ff2a8546fa2c",
   "metadata": {},
   "outputs": [
    {
     "data": {
      "text/plain": [
       "'My name is Mohsin'"
      ]
     },
     "execution_count": 33,
     "metadata": {},
     "output_type": "execute_result"
    }
   ],
   "source": [
    "name[:-5] # it means print the string from starting till the -6th index , exclude the -5th index."
   ]
  },
  {
   "cell_type": "code",
   "execution_count": 35,
   "id": "4cfe8b2b-a053-43d9-ba59-b0c0ec492b8d",
   "metadata": {},
   "outputs": [
    {
     "data": {
      "text/plain": [
       "'My name is Mohsin K'"
      ]
     },
     "execution_count": 35,
     "metadata": {},
     "output_type": "execute_result"
    }
   ],
   "source": [
    "name[:-3] # it means print the string from starting till the -4th index , exclude the -3rd index."
   ]
  },
  {
   "cell_type": "markdown",
   "id": "db7a3bfd-0006-4afe-834e-489c784f526c",
   "metadata": {},
   "source": [
    "#### If we want to reverse the complete string :-"
   ]
  },
  {
   "cell_type": "code",
   "execution_count": 25,
   "id": "57cf4dbb-ef20-4702-afe4-d36d375c4e3b",
   "metadata": {},
   "outputs": [
    {
     "data": {
      "text/plain": [
       "'nahK nishoM si eman yM'"
      ]
     },
     "execution_count": 25,
     "metadata": {},
     "output_type": "execute_result"
    }
   ],
   "source": [
    "name[::-1] # by giving -1 as a step , it will reverse the complete string."
   ]
  },
  {
   "cell_type": "code",
   "execution_count": 26,
   "id": "3db74349-ef02-4d67-9e8c-34fdbdf73ab7",
   "metadata": {},
   "outputs": [
    {
     "data": {
      "text/plain": [
       "'nh ihMs mny'"
      ]
     },
     "execution_count": 26,
     "metadata": {},
     "output_type": "execute_result"
    }
   ],
   "source": [
    "name[::-2] # it will reverse the complete string and print the complete string  by taking step of 2."
   ]
  },
  {
   "cell_type": "code",
   "execution_count": 27,
   "id": "629c531e-146c-4ca9-8af0-ef52e51dd96b",
   "metadata": {},
   "outputs": [
    {
     "data": {
      "text/plain": [
       "'nKiosenM'"
      ]
     },
     "execution_count": 27,
     "metadata": {},
     "output_type": "execute_result"
    }
   ],
   "source": [
    "name[::-3] # it will reverse the complete string and print the complete string  by taking step of 3."
   ]
  },
  {
   "cell_type": "code",
   "execution_count": 28,
   "id": "c26988b5-cc6e-4de7-b28f-8c0197418326",
   "metadata": {},
   "outputs": [
    {
     "data": {
      "text/plain": [
       "'nnMey'"
      ]
     },
     "execution_count": 28,
     "metadata": {},
     "output_type": "execute_result"
    }
   ],
   "source": [
    "name[::-5] # reverse the complete string and print the complete string  by taking step of 5."
   ]
  },
  {
   "cell_type": "markdown",
   "id": "b0630ced-9c06-4297-adad-b97a821f891a",
   "metadata": {},
   "source": [
    "### Some additional information about string:-"
   ]
  },
  {
   "cell_type": "markdown",
   "id": "0f023f8a-af18-48a9-8fdc-b464a1dbb693",
   "metadata": {},
   "source": [
    "### functions of string :-"
   ]
  },
  {
   "cell_type": "code",
   "execution_count": null,
   "id": "aa760321-fe76-4677-b113-11cb64f1e330",
   "metadata": {},
   "outputs": [],
   "source": [
    "# 1 - .replace()       # used to replace any elements from the other elements in the string.\n",
    "# 2 - .upper()         # used to convert all text in uppercase.\n",
    "# 3 - .lower()         # used to convert all text in lowercase.\n",
    "# 4 - .capitalize()    # used to make first text capital in the any statement.\n",
    "# 5 - .title()         # used to make first text capital in each cherecter of the statement.\n",
    "# 6 - .swapcase()      # used to convert lowercase in uppercase and uppercase in lowercase.\n",
    "# 7 - .startswith()    # used to check that a charecter is starts with that purticular text.\n",
    "# 8 - .endswith()      # used to check that a charecter is ends with that purticular text.\n",
    "# 9 - .isalnum()       # used to check that a character have any alphabetic text or numeric number or have not both.\n",
    "# 10 - sorted()        # used to sort the charecters alphabetically. (ordering string)\n",
    "# 11 - .strip()        # used to delete the unneccesery space from the charecter.(ordering string function)\n",
    "# 12 - .split()        # used to split the string in diffrent substrings.(splitting string function)\n",
    "# 13 - 'f'  {}         # formatting string , used to make a format of common string which can be used again and agian.\n",
    "# 14 - \\n , \\t , \\r,\\  # these are some escape function of string. (used for new line , tab function(4 space) , carriage return(make beginning), use in place of                          apostrophe respectively.)\n",
    "# 15 - len()           # used to check the complete length of string.\n",
    "# 16 - Concatenation   # used to add strings."
   ]
  },
  {
   "cell_type": "code",
   "execution_count": null,
   "id": "1d1a59b8-f431-4c79-9996-8a0ae69caf44",
   "metadata": {},
   "outputs": [],
   "source": [
    "# These are the complete functions of strings."
   ]
  },
  {
   "cell_type": "code",
   "execution_count": null,
   "id": "1f03a619-c4b0-42ea-b222-b3c01ba0bc9d",
   "metadata": {},
   "outputs": [],
   "source": [
    "# This is the complete understanding of Slicing of string."
   ]
  },
  {
   "cell_type": "markdown",
   "id": "1f06817a-6c18-4481-bd82-9dcff1e2b6fd",
   "metadata": {},
   "source": [
    "## Question 2 :- Explain the key features of list in python."
   ]
  },
  {
   "cell_type": "code",
   "execution_count": null,
   "id": "4afb2afa-0db8-4358-a7f2-d8da30f79c48",
   "metadata": {},
   "outputs": [],
   "source": [
    "# Ans :- Data structure which is in the form of ordered sequence of elemnts with mutability and hetrogenous in nature is known as List data structure.\n",
    "      # List is mutable. (can bee accesseble and manipulated easily.)\n",
    "      # List is heterogenous data structure.(contains any type of data)\n",
    "      # Syntax of list >> [] (square bracket)"
   ]
  },
  {
   "cell_type": "markdown",
   "id": "a4896177-69e1-4189-a0aa-1bb05e7bfe7e",
   "metadata": {},
   "source": [
    "### Features of list:-"
   ]
  },
  {
   "cell_type": "code",
   "execution_count": null,
   "id": "c41821bd-2e02-4248-a29d-41c40a4e1702",
   "metadata": {},
   "outputs": [],
   "source": [
    "# List are ordered.\n",
    "# List is mutable.\n",
    "# list is hetrogenous.\n",
    "# slicing/ extracting of list\n",
    "# repeatation operation in list\n",
    "# Range features in list\n",
    "# List in List\n",
    "# concatenation in list\n",
    "# Deep copy and shallow copy\n",
    "# membership operator in list\n",
    "# List comprehension"
   ]
  },
  {
   "cell_type": "code",
   "execution_count": 49,
   "id": "583f31e3-287e-430b-8338-110b0b8d4609",
   "metadata": {},
   "outputs": [
    {
     "name": "stdout",
     "output_type": "stream",
     "text": [
      "['mohsin', 'abhishek', 15, 50, 55.55, 60.15, True, False, (3+60j)]\n",
      "<class 'list'>\n"
     ]
    }
   ],
   "source": [
    "lis = [\"mohsin\" , \"abhishek\" , 15 , 50 , 55.55 , 60.15 , True , False, 3+60j] # this is a normal list >> hetrogenous data structure.\n",
    "print(lis)\n",
    "print(type(lis))"
   ]
  },
  {
   "cell_type": "code",
   "execution_count": 50,
   "id": "1e0db904-7bd8-4fcd-b665-ec5ded8713ab",
   "metadata": {},
   "outputs": [
    {
     "data": {
      "text/plain": [
       "15"
      ]
     },
     "execution_count": 50,
     "metadata": {},
     "output_type": "execute_result"
    }
   ],
   "source": [
    "# Let's try to access the list :-\n",
    "lis[2]"
   ]
  },
  {
   "cell_type": "code",
   "execution_count": 51,
   "id": "65907e93-15d6-42b0-82f0-b79bace501c5",
   "metadata": {},
   "outputs": [
    {
     "data": {
      "text/plain": [
       "'abhishek'"
      ]
     },
     "execution_count": 51,
     "metadata": {},
     "output_type": "execute_result"
    }
   ],
   "source": [
    "lis[1]"
   ]
  },
  {
   "cell_type": "code",
   "execution_count": 52,
   "id": "301c1dfe-afcf-4a00-843d-c89b6968b1e2",
   "metadata": {},
   "outputs": [
    {
     "data": {
      "text/plain": [
       "False"
      ]
     },
     "execution_count": 52,
     "metadata": {},
     "output_type": "execute_result"
    }
   ],
   "source": [
    "lis[7]"
   ]
  },
  {
   "cell_type": "code",
   "execution_count": 53,
   "id": "4f80887b-110e-4f9c-bdd9-f7e5b04e7612",
   "metadata": {},
   "outputs": [
    {
     "data": {
      "text/plain": [
       "(3+60j)"
      ]
     },
     "execution_count": 53,
     "metadata": {},
     "output_type": "execute_result"
    }
   ],
   "source": [
    "lis[-1]"
   ]
  },
  {
   "cell_type": "code",
   "execution_count": 54,
   "id": "bd64633b-3057-46f0-91e6-795f0f4c0867",
   "metadata": {},
   "outputs": [
    {
     "data": {
      "text/plain": [
       "True"
      ]
     },
     "execution_count": 54,
     "metadata": {},
     "output_type": "execute_result"
    }
   ],
   "source": [
    "lis[-3]"
   ]
  },
  {
   "cell_type": "code",
   "execution_count": null,
   "id": "d0fc04fd-b9da-48b2-a5c9-5f88147c084a",
   "metadata": {},
   "outputs": [],
   "source": [
    "# This is the process of accessing the list."
   ]
  },
  {
   "cell_type": "code",
   "execution_count": 55,
   "id": "575dbaa8-6927-4744-b3ac-99d42db19a81",
   "metadata": {},
   "outputs": [],
   "source": [
    "# Let's try to manipulate the list :-\n",
    "lis[2] = \"mohsin\""
   ]
  },
  {
   "cell_type": "code",
   "execution_count": 56,
   "id": "6f758b1f-01f4-43ad-892c-0e8b4699fc9d",
   "metadata": {},
   "outputs": [
    {
     "data": {
      "text/plain": [
       "['mohsin', 'abhishek', 'mohsin', 50, 55.55, 60.15, True, False, (3+60j)]"
      ]
     },
     "execution_count": 56,
     "metadata": {},
     "output_type": "execute_result"
    }
   ],
   "source": [
    "lis"
   ]
  },
  {
   "cell_type": "code",
   "execution_count": 57,
   "id": "6b46c479-b8f5-486b-869b-53c01cb00270",
   "metadata": {},
   "outputs": [],
   "source": [
    "lis[-2] = True"
   ]
  },
  {
   "cell_type": "code",
   "execution_count": 58,
   "id": "1c994908-e6f0-4754-b5d5-e71413d39e82",
   "metadata": {},
   "outputs": [
    {
     "data": {
      "text/plain": [
       "['mohsin', 'abhishek', 'mohsin', 50, 55.55, 60.15, True, True, (3+60j)]"
      ]
     },
     "execution_count": 58,
     "metadata": {},
     "output_type": "execute_result"
    }
   ],
   "source": [
    "lis"
   ]
  },
  {
   "cell_type": "code",
   "execution_count": 59,
   "id": "382c3b0d-39d7-4706-9671-4c8021913976",
   "metadata": {},
   "outputs": [
    {
     "data": {
      "text/plain": [
       "['mohsin', 'abhishek', 'mohsin', 50, 55.55, 16, True, True, (3+60j)]"
      ]
     },
     "execution_count": 59,
     "metadata": {},
     "output_type": "execute_result"
    }
   ],
   "source": [
    "lis[5]=16\n",
    "lis"
   ]
  },
  {
   "cell_type": "code",
   "execution_count": 60,
   "id": "940da7dd-a9c5-4952-a95a-b60b3cd14ab6",
   "metadata": {},
   "outputs": [
    {
     "data": {
      "text/plain": [
       "['mohsin', 'abhishek', 'mohsin', 50, 65.28, 16, True, True, (3+60j)]"
      ]
     },
     "execution_count": 60,
     "metadata": {},
     "output_type": "execute_result"
    }
   ],
   "source": [
    "lis[-5] = 65.28\n",
    "lis"
   ]
  },
  {
   "cell_type": "code",
   "execution_count": null,
   "id": "af968e21-adf7-430a-8a78-10a1d131ffca",
   "metadata": {},
   "outputs": [],
   "source": [
    "# This is the process of manipulating the list."
   ]
  },
  {
   "cell_type": "code",
   "execution_count": null,
   "id": "d95daff1-e325-4ddf-91c8-e4347ae8c4be",
   "metadata": {},
   "outputs": [],
   "source": [
    "# So , here we can see we can access and manipulation of  list , so list is a mutable data structure."
   ]
  },
  {
   "cell_type": "markdown",
   "id": "a49a62da-3621-450a-857c-dd6e3553ae96",
   "metadata": {},
   "source": [
    "### Explanation of  Features of list :-"
   ]
  },
  {
   "cell_type": "code",
   "execution_count": 12,
   "id": "49b9e613-8773-44e3-a247-82c4345e4506",
   "metadata": {},
   "outputs": [],
   "source": [
    "# Slicing of list :- Syntax of slicing >> [start:end:step]"
   ]
  },
  {
   "cell_type": "code",
   "execution_count": 13,
   "id": "e5130160-8918-4646-8fcc-991108f982c1",
   "metadata": {},
   "outputs": [
    {
     "name": "stdout",
     "output_type": "stream",
     "text": [
      "['mohsin', 'abhishek', 15, 50, 55.55, 60.15, True, False, (3+60j)]\n",
      "<class 'list'>\n"
     ]
    }
   ],
   "source": [
    "lis = [\"mohsin\" , \"abhishek\" , 15 , 50 , 55.55 , 60.15 , True , False, 3+60j]\n",
    "print(lis)\n",
    "print(type(lis))"
   ]
  },
  {
   "cell_type": "code",
   "execution_count": 14,
   "id": "3e672b0c-6c8d-439e-b4bb-4aacdcd062d8",
   "metadata": {},
   "outputs": [
    {
     "data": {
      "text/plain": [
       "['mohsin', 'abhishek', 15, 50, 55.55, 60.15, True, False, (3+60j)]"
      ]
     },
     "execution_count": 14,
     "metadata": {},
     "output_type": "execute_result"
    }
   ],
   "source": [
    "lis[0:]"
   ]
  },
  {
   "cell_type": "code",
   "execution_count": 18,
   "id": "05bd9b22-a6ac-40b4-b2b9-406c539968bd",
   "metadata": {},
   "outputs": [
    {
     "data": {
      "text/plain": [
       "['mohsin', 'abhishek', 15, 50, 55.55, 60.15, True, False, (3+60j)]"
      ]
     },
     "execution_count": 18,
     "metadata": {},
     "output_type": "execute_result"
    }
   ],
   "source": [
    "lis[::]"
   ]
  },
  {
   "cell_type": "code",
   "execution_count": 15,
   "id": "72bd14b7-ba10-4d78-9659-5887a4220fc0",
   "metadata": {},
   "outputs": [
    {
     "data": {
      "text/plain": [
       "['mohsin', 'abhishek', 15, 50, 55.55]"
      ]
     },
     "execution_count": 15,
     "metadata": {},
     "output_type": "execute_result"
    }
   ],
   "source": [
    "lis[0:5]"
   ]
  },
  {
   "cell_type": "code",
   "execution_count": 16,
   "id": "ac478aa6-769d-48e8-a5b2-e1f81a426891",
   "metadata": {},
   "outputs": [
    {
     "data": {
      "text/plain": [
       "[15, 50, 55.55, 60.15]"
      ]
     },
     "execution_count": 16,
     "metadata": {},
     "output_type": "execute_result"
    }
   ],
   "source": [
    "lis[2:6]"
   ]
  },
  {
   "cell_type": "code",
   "execution_count": 17,
   "id": "cef26a87-9a00-419e-a4e3-f83025a18702",
   "metadata": {},
   "outputs": [
    {
     "data": {
      "text/plain": [
       "[True, False]"
      ]
     },
     "execution_count": 17,
     "metadata": {},
     "output_type": "execute_result"
    }
   ],
   "source": [
    "lis[-3:8]"
   ]
  },
  {
   "cell_type": "code",
   "execution_count": 23,
   "id": "886c14ed-a44e-483d-96ab-56e321cd17db",
   "metadata": {},
   "outputs": [
    {
     "data": {
      "text/plain": [
       "[55.55, True]"
      ]
     },
     "execution_count": 23,
     "metadata": {},
     "output_type": "execute_result"
    }
   ],
   "source": [
    "lis[4:8:2]"
   ]
  },
  {
   "cell_type": "code",
   "execution_count": 24,
   "id": "05ad555f-94e5-4368-be31-92ab2e97679a",
   "metadata": {},
   "outputs": [
    {
     "data": {
      "text/plain": [
       "[True, False, (3+60j)]"
      ]
     },
     "execution_count": 24,
     "metadata": {},
     "output_type": "execute_result"
    }
   ],
   "source": [
    "lis[-3:]"
   ]
  },
  {
   "cell_type": "code",
   "execution_count": 25,
   "id": "dc7d202c-f350-4d42-90b8-4fb5c7ffc87d",
   "metadata": {},
   "outputs": [
    {
     "data": {
      "text/plain": [
       "[True, False, (3+60j)]"
      ]
     },
     "execution_count": 25,
     "metadata": {},
     "output_type": "execute_result"
    }
   ],
   "source": [
    "lis[-3::]"
   ]
  },
  {
   "cell_type": "code",
   "execution_count": 26,
   "id": "df6ab8f3-9570-4d96-96a3-36229bdf67a8",
   "metadata": {},
   "outputs": [
    {
     "data": {
      "text/plain": [
       "[50, 55.55, 60.15, True, False, (3+60j)]"
      ]
     },
     "execution_count": 26,
     "metadata": {},
     "output_type": "execute_result"
    }
   ],
   "source": [
    "lis[3::]"
   ]
  },
  {
   "cell_type": "code",
   "execution_count": 27,
   "id": "6ee8ea75-ec4d-46c5-8898-445fcfe83ce2",
   "metadata": {},
   "outputs": [
    {
     "data": {
      "text/plain": [
       "[(3+60j), True, 55.55, 15, 'mohsin']"
      ]
     },
     "execution_count": 27,
     "metadata": {},
     "output_type": "execute_result"
    }
   ],
   "source": [
    "lis[::-2] # it will reverse the complete list by taking step 2."
   ]
  },
  {
   "cell_type": "code",
   "execution_count": 28,
   "id": "414c07da-c30c-422e-8044-7ab230c0238b",
   "metadata": {},
   "outputs": [],
   "source": [
    "# Repeating of list :- it helps to print the same list again and again , till the given code will not satisfied.\n",
    "# syntax of repeating >> (*) :-"
   ]
  },
  {
   "cell_type": "code",
   "execution_count": 31,
   "id": "d20fb103-4632-4764-b58e-9cadf151978b",
   "metadata": {},
   "outputs": [
    {
     "data": {
      "text/plain": [
       "[1, 2, 3, 1, 2, 3, 1, 2, 3]"
      ]
     },
     "execution_count": 31,
     "metadata": {},
     "output_type": "execute_result"
    }
   ],
   "source": [
    "a = [1,2,3]\n",
    "a * 3 # This is known as repetation operator of list."
   ]
  },
  {
   "cell_type": "code",
   "execution_count": 32,
   "id": "dd2e951d-1e30-46f7-bcbb-4f053101936f",
   "metadata": {},
   "outputs": [
    {
     "data": {
      "text/plain": [
       "['potato',\n",
       " 'tomato',\n",
       " 'mango',\n",
       " 'apple',\n",
       " 15,\n",
       " 12,\n",
       " 'mustard oil',\n",
       " 'potato',\n",
       " 'tomato',\n",
       " 'mango',\n",
       " 'apple',\n",
       " 15,\n",
       " 12,\n",
       " 'mustard oil']"
      ]
     },
     "execution_count": 32,
     "metadata": {},
     "output_type": "execute_result"
    }
   ],
   "source": [
    "# another example :-\n",
    "grocery_list = [\"potato\" , \"tomato\" , \"mango\" , \"apple\" , 15 , 12 , \"mustard oil\"]\n",
    "grocery_list*2 # this is known as repetation of list."
   ]
  },
  {
   "cell_type": "code",
   "execution_count": 33,
   "id": "caa47665-c939-4cee-82ac-874a305d863a",
   "metadata": {},
   "outputs": [
    {
     "data": {
      "text/plain": [
       "['mohsin',\n",
       " 'swati',\n",
       " 'zeba',\n",
       " 'abhishek',\n",
       " 'sanjeev',\n",
       " 'mohsin',\n",
       " 'swati',\n",
       " 'zeba',\n",
       " 'abhishek',\n",
       " 'sanjeev',\n",
       " 'mohsin',\n",
       " 'swati',\n",
       " 'zeba',\n",
       " 'abhishek',\n",
       " 'sanjeev',\n",
       " 'mohsin',\n",
       " 'swati',\n",
       " 'zeba',\n",
       " 'abhishek',\n",
       " 'sanjeev',\n",
       " 'mohsin',\n",
       " 'swati',\n",
       " 'zeba',\n",
       " 'abhishek',\n",
       " 'sanjeev']"
      ]
     },
     "execution_count": 33,
     "metadata": {},
     "output_type": "execute_result"
    }
   ],
   "source": [
    "# another examples :-\n",
    "lis = [\"mohsin\" , \"swati\" , \"zeba\" , \"abhishek\" , \"sanjeev\"]\n",
    "lis*5 # it will print 5 times."
   ]
  },
  {
   "cell_type": "code",
   "execution_count": null,
   "id": "c6c5a294-187c-41f3-943e-a94baa077475",
   "metadata": {},
   "outputs": [],
   "source": [
    "# There is another feature which is used in the list is range :- range provide the complete range from starting to end.\n",
    "# syntax of range = [start,end,step]"
   ]
  },
  {
   "cell_type": "code",
   "execution_count": 78,
   "id": "9d8b0310-ce1b-4fea-b54b-53594a59c267",
   "metadata": {},
   "outputs": [
    {
     "data": {
      "text/plain": [
       "range(0, 10)"
      ]
     },
     "execution_count": 78,
     "metadata": {},
     "output_type": "execute_result"
    }
   ],
   "source": [
    "# example :-\n",
    "range(0,10) # this is the feature of range."
   ]
  },
  {
   "cell_type": "code",
   "execution_count": 79,
   "id": "4759fc1f-652a-4260-98c4-caff89780d94",
   "metadata": {},
   "outputs": [
    {
     "data": {
      "text/plain": [
       "[0, 1, 2, 3, 4, 5, 6, 7, 8, 9]"
      ]
     },
     "execution_count": 79,
     "metadata": {},
     "output_type": "execute_result"
    }
   ],
   "source": [
    "# when we use range in list :- if we want all even number between 0 to 9.\n",
    "list(range(0,10)) # it will print the complete number from 0 to 9 , it will exclude the 10th number."
   ]
  },
  {
   "cell_type": "code",
   "execution_count": 80,
   "id": "98321f7e-f8c3-4f47-9390-f6c920c8d018",
   "metadata": {},
   "outputs": [
    {
     "data": {
      "text/plain": [
       "[0, 2, 4, 6, 8]"
      ]
     },
     "execution_count": 80,
     "metadata": {},
     "output_type": "execute_result"
    }
   ],
   "source": [
    "# if we say:-\n",
    "list(range(0,10,2)) # it will print the complete number from 0 to 9 , excluded 10th number , by taking step of 2."
   ]
  },
  {
   "cell_type": "code",
   "execution_count": 81,
   "id": "8a43b13b-d6ac-4bd9-98c5-9b5093c61fb7",
   "metadata": {},
   "outputs": [
    {
     "data": {
      "text/plain": [
       "[0, 3, 6, 9]"
      ]
     },
     "execution_count": 81,
     "metadata": {},
     "output_type": "execute_result"
    }
   ],
   "source": [
    "list(range(0,10,3)) # if we want all numbers  b/w 0 to 10 which are divisible by 3 ."
   ]
  },
  {
   "cell_type": "code",
   "execution_count": 83,
   "id": "b04bf85b-a9de-4e82-8dc9-810b1aa1236c",
   "metadata": {},
   "outputs": [
    {
     "data": {
      "text/plain": [
       "[0, 3, 6, 9, 12, 15, 18, 21, 24, 27, 30, 33, 36, 39, 42, 45, 48]"
      ]
     },
     "execution_count": 83,
     "metadata": {},
     "output_type": "execute_result"
    }
   ],
   "source": [
    "list(range(0,50,3,)) # this is the numbers b/w 0 to 50 , divisible by 3"
   ]
  },
  {
   "cell_type": "raw",
   "id": "06e510ad-01f4-45d2-9b30-50f9987338de",
   "metadata": {},
   "source": [
    "So this is the complete use of range features in the list."
   ]
  },
  {
   "cell_type": "code",
   "execution_count": 34,
   "id": "82c39b79-fce4-47b5-8e53-e6b67b3ee6ce",
   "metadata": {},
   "outputs": [],
   "source": [
    "# List in list :- one list have another list."
   ]
  },
  {
   "cell_type": "code",
   "execution_count": 35,
   "id": "0920ff12-54a2-447e-aa61-7df157fabf48",
   "metadata": {},
   "outputs": [
    {
     "name": "stdout",
     "output_type": "stream",
     "text": [
      "['mohsin', 'swati', [True, False, (3+5j)], 'abhishek', 'zeba', [1, 2, 3, 4]]\n",
      "<class 'list'>\n"
     ]
    }
   ],
   "source": [
    "data = [\"mohsin\" , \"swati\" , [True , False , 3+5j], \"abhishek\" , \"zeba\" , [1 , 2 , 3 , 4]] # this is known as list in list.\n",
    "print(data)\n",
    "print(type(data))"
   ]
  },
  {
   "cell_type": "code",
   "execution_count": 36,
   "id": "814cfddb-2e0d-417d-99cf-186da177d3b7",
   "metadata": {},
   "outputs": [
    {
     "data": {
      "text/plain": [
       "'swati'"
      ]
     },
     "execution_count": 36,
     "metadata": {},
     "output_type": "execute_result"
    }
   ],
   "source": [
    "data[1]"
   ]
  },
  {
   "cell_type": "code",
   "execution_count": 37,
   "id": "1bfb9519-0ed1-4251-89cc-1b3707aec6e6",
   "metadata": {},
   "outputs": [
    {
     "data": {
      "text/plain": [
       "[1, 2, 3, 4]"
      ]
     },
     "execution_count": 37,
     "metadata": {},
     "output_type": "execute_result"
    }
   ],
   "source": [
    "data[-1]"
   ]
  },
  {
   "cell_type": "code",
   "execution_count": 38,
   "id": "3a322661-a9df-4855-ba03-4501d220c328",
   "metadata": {},
   "outputs": [
    {
     "data": {
      "text/plain": [
       "[True, False, (3+5j)]"
      ]
     },
     "execution_count": 38,
     "metadata": {},
     "output_type": "execute_result"
    }
   ],
   "source": [
    "data[2]"
   ]
  },
  {
   "cell_type": "code",
   "execution_count": 39,
   "id": "edd5aaff-34e8-40fd-8382-244bfb9e19d8",
   "metadata": {},
   "outputs": [
    {
     "data": {
      "text/plain": [
       "'zeba'"
      ]
     },
     "execution_count": 39,
     "metadata": {},
     "output_type": "execute_result"
    }
   ],
   "source": [
    "data[-2]"
   ]
  },
  {
   "cell_type": "code",
   "execution_count": 40,
   "id": "b9d20024-a308-4590-8fd9-65c538920781",
   "metadata": {},
   "outputs": [
    {
     "data": {
      "text/plain": [
       "False"
      ]
     },
     "execution_count": 40,
     "metadata": {},
     "output_type": "execute_result"
    }
   ],
   "source": [
    "# if we want to access list in list elements :-\n",
    "data[2][1] # by this method we can get list in list."
   ]
  },
  {
   "cell_type": "code",
   "execution_count": 41,
   "id": "1a2d3cf4-d1dd-442c-a415-08e0bd7fc022",
   "metadata": {},
   "outputs": [
    {
     "data": {
      "text/plain": [
       "4"
      ]
     },
     "execution_count": 41,
     "metadata": {},
     "output_type": "execute_result"
    }
   ],
   "source": [
    "data[-1][-1]"
   ]
  },
  {
   "cell_type": "code",
   "execution_count": 42,
   "id": "b01abfa8-68b0-4cf7-af15-1b279222427a",
   "metadata": {},
   "outputs": [
    {
     "data": {
      "text/plain": [
       "2"
      ]
     },
     "execution_count": 42,
     "metadata": {},
     "output_type": "execute_result"
    }
   ],
   "source": [
    "data[-1][-3]"
   ]
  },
  {
   "cell_type": "raw",
   "id": "bc904a15-8fb0-4620-8fb7-79b05fb56fa3",
   "metadata": {},
   "source": [
    "this is the feature of list in list of list data structure."
   ]
  },
  {
   "cell_type": "code",
   "execution_count": null,
   "id": "a1e5ebbb-673c-4253-8764-aeb941712340",
   "metadata": {},
   "outputs": [],
   "source": [
    "# Concatenation of list :- combining the list , and make a single list is known as concatenation of list."
   ]
  },
  {
   "cell_type": "code",
   "execution_count": 43,
   "id": "16056405-8200-4d82-abde-dd22f356f7d0",
   "metadata": {},
   "outputs": [],
   "source": [
    "lis1 = [1 , 2 , 3,\"mohsin\" , \"swati\"]\n",
    "lis2 = [5,6,7,\"abhishek\" , \"sanjeev\"]\n",
    "lis3 = lis1 + lis2"
   ]
  },
  {
   "cell_type": "code",
   "execution_count": 44,
   "id": "d789f773-dc79-4ab9-9bd8-440c85343b35",
   "metadata": {},
   "outputs": [
    {
     "data": {
      "text/plain": [
       "[1, 2, 3, 'mohsin', 'swati', 5, 6, 7, 'abhishek', 'sanjeev']"
      ]
     },
     "execution_count": 44,
     "metadata": {},
     "output_type": "execute_result"
    }
   ],
   "source": [
    "lis3 # this is known as concatenation of list."
   ]
  },
  {
   "cell_type": "code",
   "execution_count": 48,
   "id": "9a0863c2-3104-4463-b544-bdb562ad974a",
   "metadata": {},
   "outputs": [
    {
     "data": {
      "text/plain": [
       "[1, 2, 3, 'mohsin', 'swati']"
      ]
     },
     "execution_count": 48,
     "metadata": {},
     "output_type": "execute_result"
    }
   ],
   "source": [
    "lis1"
   ]
  },
  {
   "cell_type": "code",
   "execution_count": 49,
   "id": "70f78115-bc71-4403-a167-edcd26d8f94a",
   "metadata": {},
   "outputs": [
    {
     "data": {
      "text/plain": [
       "[5, 6, 7, 'abhishek', 'sanjeev']"
      ]
     },
     "execution_count": 49,
     "metadata": {},
     "output_type": "execute_result"
    }
   ],
   "source": [
    "lis2"
   ]
  },
  {
   "cell_type": "code",
   "execution_count": 50,
   "id": "b4e9c811-9d4b-4059-873b-3775d356fc89",
   "metadata": {},
   "outputs": [
    {
     "data": {
      "text/plain": [
       "[1, 2, 3, 'mohsin', 'swati', 5, 6, 7, 'abhishek', 'sanjeev']"
      ]
     },
     "execution_count": 50,
     "metadata": {},
     "output_type": "execute_result"
    }
   ],
   "source": [
    "lis3 # combination of lis1 and lis2 >> known as concatenation."
   ]
  },
  {
   "cell_type": "code",
   "execution_count": 45,
   "id": "2b74660a-45ee-4bec-bdd3-83e7eeb182c8",
   "metadata": {},
   "outputs": [
    {
     "data": {
      "text/plain": [
       "['mohsin', 'swati', 'abhishek', 'shweta', 'sanjeev', 'zeba']"
      ]
     },
     "execution_count": 45,
     "metadata": {},
     "output_type": "execute_result"
    }
   ],
   "source": [
    "data1 = [\"mohsin\" , \"swati\" , \"abhishek\"]\n",
    "data2 = [\"shweta\" , \"sanjeev\" , \"zeba\"]\n",
    "data1+data2"
   ]
  },
  {
   "cell_type": "code",
   "execution_count": 46,
   "id": "e407a740-1678-4932-85c1-37bd14a56397",
   "metadata": {},
   "outputs": [],
   "source": [
    "data3 = data1+data2"
   ]
  },
  {
   "cell_type": "code",
   "execution_count": 47,
   "id": "9c7ccb16-a9cb-4e6d-9504-2720015c74b6",
   "metadata": {},
   "outputs": [
    {
     "data": {
      "text/plain": [
       "['mohsin', 'swati', 'abhishek', 'shweta', 'sanjeev', 'zeba']"
      ]
     },
     "execution_count": 47,
     "metadata": {},
     "output_type": "execute_result"
    }
   ],
   "source": [
    "data3"
   ]
  },
  {
   "cell_type": "code",
   "execution_count": null,
   "id": "e615261d-faf1-406b-876c-e87d4f8523e5",
   "metadata": {},
   "outputs": [],
   "source": [
    "# this is process is known as concatenation of list."
   ]
  },
  {
   "cell_type": "markdown",
   "id": "3e1cc150-7419-4429-8321-3be935aca8f5",
   "metadata": {},
   "source": [
    "## Deep copy and shallow copy :-"
   ]
  },
  {
   "cell_type": "code",
   "execution_count": null,
   "id": "c9a64ba3-1088-402a-8da3-3575826ab348",
   "metadata": {},
   "outputs": [],
   "source": [
    "# shallow copy :- helps to make a new memory space with same elements , and if we change something in first memory space elements , it will automatically chnage in second memory space elements.This process is calles shallow copy."
   ]
  },
  {
   "cell_type": "code",
   "execution_count": 52,
   "id": "2b43f338-376d-4918-832b-08a0e854abdc",
   "metadata": {},
   "outputs": [
    {
     "name": "stdout",
     "output_type": "stream",
     "text": [
      "['mohsin', 'swati', 'abhishek', 'sanjeev']\n",
      "<class 'list'>\n"
     ]
    }
   ],
   "source": [
    "# lets's understand with the help of example :-\n",
    "name = [\"mohsin\" , \"swati\" , \"abhishek\" , \"sanjeev\"]\n",
    "print(name)\n",
    "print(type(name))"
   ]
  },
  {
   "cell_type": "code",
   "execution_count": 53,
   "id": "4a33a5ef-c595-438f-8a5a-dcd1df92391a",
   "metadata": {},
   "outputs": [],
   "source": [
    "# now if we use the process of shallow copy :-\n",
    "good_person = name"
   ]
  },
  {
   "cell_type": "code",
   "execution_count": 54,
   "id": "a7a40120-ca1f-4b16-b3ac-ce0f4ac6263c",
   "metadata": {},
   "outputs": [
    {
     "data": {
      "text/plain": [
       "['mohsin', 'swati', 'abhishek', 'sanjeev']"
      ]
     },
     "execution_count": 54,
     "metadata": {},
     "output_type": "execute_result"
    }
   ],
   "source": [
    "# now if we check good_person :-\n",
    "good_person"
   ]
  },
  {
   "cell_type": "code",
   "execution_count": 55,
   "id": "2d4e6d37-7bb4-454d-964f-20a2db24dd47",
   "metadata": {},
   "outputs": [
    {
     "data": {
      "text/plain": [
       "['mohsin', 'swati', 'abhishek', 'sanjeev']"
      ]
     },
     "execution_count": 55,
     "metadata": {},
     "output_type": "execute_result"
    }
   ],
   "source": [
    "name # so here we can see a new memory space 'good_person' ,  created with the same elements of memory space 'name'."
   ]
  },
  {
   "cell_type": "code",
   "execution_count": null,
   "id": "4fddf5b0-8924-44fb-9665-a36add64be38",
   "metadata": {},
   "outputs": [],
   "source": [
    "# now good_person and name , they both refer a same memory space . So if we change something in name , it will automatically updated in good_person memory space and vice-versa , because they both are refering the same memory space."
   ]
  },
  {
   "cell_type": "code",
   "execution_count": 56,
   "id": "93e7f11d-b9b8-4e40-90b7-f87295cc85b1",
   "metadata": {},
   "outputs": [
    {
     "data": {
      "text/plain": [
       "'abhishek'"
      ]
     },
     "execution_count": 56,
     "metadata": {},
     "output_type": "execute_result"
    }
   ],
   "source": [
    "name[2]"
   ]
  },
  {
   "cell_type": "code",
   "execution_count": 57,
   "id": "d76c6d6d-c994-45ea-981d-5d81cf956fbc",
   "metadata": {},
   "outputs": [
    {
     "data": {
      "text/plain": [
       "'abhishek'"
      ]
     },
     "execution_count": 57,
     "metadata": {},
     "output_type": "execute_result"
    }
   ],
   "source": [
    "good_person[2]"
   ]
  },
  {
   "cell_type": "code",
   "execution_count": 59,
   "id": "e0f36377-c807-4bf0-87a0-aaf7ab4eb032",
   "metadata": {},
   "outputs": [
    {
     "data": {
      "text/plain": [
       "'swati'"
      ]
     },
     "execution_count": 59,
     "metadata": {},
     "output_type": "execute_result"
    }
   ],
   "source": [
    "name[-3]"
   ]
  },
  {
   "cell_type": "code",
   "execution_count": 61,
   "id": "c8b9e30b-764f-4a98-aed8-08e1d1e1491a",
   "metadata": {},
   "outputs": [
    {
     "data": {
      "text/plain": [
       "'swati'"
      ]
     },
     "execution_count": 61,
     "metadata": {},
     "output_type": "execute_result"
    }
   ],
   "source": [
    "good_person[-3]"
   ]
  },
  {
   "cell_type": "raw",
   "id": "981adcbd-7e16-4985-8aaf-1fbd2753c3d5",
   "metadata": {},
   "source": [
    "name and good_person , they also shows the same index value."
   ]
  },
  {
   "cell_type": "code",
   "execution_count": 62,
   "id": "812ed2a7-eb3e-430c-9d82-1e9732ac9827",
   "metadata": {},
   "outputs": [],
   "source": [
    "# now lets try to chnage something in name:-"
   ]
  },
  {
   "cell_type": "code",
   "execution_count": 63,
   "id": "8b3b8108-ca1d-4132-8c5a-173ad6adf141",
   "metadata": {},
   "outputs": [],
   "source": [
    "name[-3] = \"bheema\""
   ]
  },
  {
   "cell_type": "code",
   "execution_count": 64,
   "id": "ee3479cf-bd04-451a-b8bc-1d0415969fe4",
   "metadata": {},
   "outputs": [
    {
     "data": {
      "text/plain": [
       "['mohsin', 'bheema', 'abhishek', 'sanjeev']"
      ]
     },
     "execution_count": 64,
     "metadata": {},
     "output_type": "execute_result"
    }
   ],
   "source": [
    "name"
   ]
  },
  {
   "cell_type": "code",
   "execution_count": 65,
   "id": "9e2f58d2-05f1-4e06-a1e2-9e774398fc60",
   "metadata": {},
   "outputs": [
    {
     "data": {
      "text/plain": [
       "['mohsin', 'bheema', 'abhishek', 'sanjeev']"
      ]
     },
     "execution_count": 65,
     "metadata": {},
     "output_type": "execute_result"
    }
   ],
   "source": [
    "good_person # so here we can see we changes only in name , but it automatically also updated in goo_person."
   ]
  },
  {
   "cell_type": "code",
   "execution_count": 66,
   "id": "eef397e0-7bdb-4119-93bc-f091be94e749",
   "metadata": {},
   "outputs": [],
   "source": [
    "# now if we change something in good_person :-\n",
    "good_person[1] = \"simran\""
   ]
  },
  {
   "cell_type": "code",
   "execution_count": 67,
   "id": "2071ec67-4513-4d35-ac60-a600e851f7ba",
   "metadata": {},
   "outputs": [
    {
     "data": {
      "text/plain": [
       "['mohsin', 'simran', 'abhishek', 'sanjeev']"
      ]
     },
     "execution_count": 67,
     "metadata": {},
     "output_type": "execute_result"
    }
   ],
   "source": [
    "good_person"
   ]
  },
  {
   "cell_type": "code",
   "execution_count": 68,
   "id": "bcc3b14b-3178-4c6b-86b1-43cd60c281d8",
   "metadata": {},
   "outputs": [
    {
     "data": {
      "text/plain": [
       "['mohsin', 'simran', 'abhishek', 'sanjeev']"
      ]
     },
     "execution_count": 68,
     "metadata": {},
     "output_type": "execute_result"
    }
   ],
   "source": [
    "name # so here we can see if we change something in good_person , it will automatically , update in name also."
   ]
  },
  {
   "cell_type": "code",
   "execution_count": null,
   "id": "78c81881-91fe-47e8-8c21-642dc66fc61c",
   "metadata": {},
   "outputs": [],
   "source": [
    "# So , this is the complete understanding of shallow copy."
   ]
  },
  {
   "cell_type": "code",
   "execution_count": null,
   "id": "b43b9797-72b3-478d-b7c5-4082a0251bbc",
   "metadata": {},
   "outputs": [],
   "source": [
    "# Deep copy :- syntax of deep copy >> .copy() >> Return a shallow copy of the list."
   ]
  },
  {
   "cell_type": "code",
   "execution_count": null,
   "id": "2bc78efd-1008-45f3-918a-861f80005d67",
   "metadata": {},
   "outputs": [],
   "source": [
    "# Deep copy :- deep copy helps to copy the complete elements of the memory space and make another memory space with other name , and after creation , they will not have any impact on each other. if we change elements of any memory space , then it will not impact on second memory space."
   ]
  },
  {
   "cell_type": "code",
   "execution_count": 69,
   "id": "9dc6313c-11b4-4232-ba38-3d1b169ec294",
   "metadata": {},
   "outputs": [],
   "source": [
    "# let's understand with example's:-"
   ]
  },
  {
   "cell_type": "code",
   "execution_count": 70,
   "id": "96c861ee-1c00-4be8-a956-7eff76c229e8",
   "metadata": {},
   "outputs": [
    {
     "name": "stdout",
     "output_type": "stream",
     "text": [
      "['mohsin', 'sanjeev', 'abhishek', 'zeba', 'swati']\n",
      "<class 'list'>\n"
     ]
    }
   ],
   "source": [
    "name = [\"mohsin\" , \"sanjeev\" , \"abhishek\" , \"zeba\" , \"swati\"]\n",
    "print(name)\n",
    "print(type(name))"
   ]
  },
  {
   "cell_type": "code",
   "execution_count": 74,
   "id": "d42d4af0-3aa5-4ca5-a101-feb278d87bee",
   "metadata": {},
   "outputs": [],
   "source": [
    "good_person = name.copy() # this is the deep copy process."
   ]
  },
  {
   "cell_type": "code",
   "execution_count": 75,
   "id": "0cf6d62f-21e2-4353-bf51-9978f1d6572c",
   "metadata": {},
   "outputs": [
    {
     "data": {
      "text/plain": [
       "['mohsin', 'sanjeev', 'abhishek', 'zeba', 'swati']"
      ]
     },
     "execution_count": 75,
     "metadata": {},
     "output_type": "execute_result"
    }
   ],
   "source": [
    "# now if we check name :-\n",
    "name"
   ]
  },
  {
   "cell_type": "code",
   "execution_count": 76,
   "id": "7d494a3e-8ac0-45ad-b775-de4246a9c5e1",
   "metadata": {},
   "outputs": [
    {
     "data": {
      "text/plain": [
       "['mohsin', 'sanjeev', 'abhishek', 'zeba', 'swati']"
      ]
     },
     "execution_count": 76,
     "metadata": {},
     "output_type": "execute_result"
    }
   ],
   "source": [
    "# if we check good_person :-\n",
    "good_person # so here we can seee by the use of deep copy , we can make a copy of name memory sppace and make a refrence by good_person."
   ]
  },
  {
   "cell_type": "code",
   "execution_count": 80,
   "id": "4161e365-f728-44f6-a973-ca2b05dad532",
   "metadata": {},
   "outputs": [],
   "source": [
    "# now if we change something in name , it will not give impact on good_person memory space :-\n",
    "name[2] = \"bheema\""
   ]
  },
  {
   "cell_type": "code",
   "execution_count": 81,
   "id": "4687b97a-5834-4821-bd3d-ecdcca9c990e",
   "metadata": {},
   "outputs": [
    {
     "data": {
      "text/plain": [
       "['mohsin', 'sanjeev', 'bheema', 'zeba', 'swati']"
      ]
     },
     "execution_count": 81,
     "metadata": {},
     "output_type": "execute_result"
    }
   ],
   "source": [
    "name"
   ]
  },
  {
   "cell_type": "code",
   "execution_count": 82,
   "id": "05e9ff50-dd53-459e-830b-296b3ec8c215",
   "metadata": {},
   "outputs": [
    {
     "data": {
      "text/plain": [
       "['mohsin', 'sanjeev', 'abhishek', 'zeba', 'swati']"
      ]
     },
     "execution_count": 82,
     "metadata": {},
     "output_type": "execute_result"
    }
   ],
   "source": [
    "# now chcek good_person :-\n",
    "good_person # so here we can see this memory space will not change any elements."
   ]
  },
  {
   "cell_type": "code",
   "execution_count": 83,
   "id": "da1e68f8-d0cc-43e4-99e2-c7c56bbf001e",
   "metadata": {},
   "outputs": [],
   "source": [
    "# if we change somthing in good_person :-\n",
    "good_person[-2] = \"shruti\""
   ]
  },
  {
   "cell_type": "code",
   "execution_count": 84,
   "id": "2c80b378-6434-4411-9e60-60caadaf9949",
   "metadata": {},
   "outputs": [
    {
     "data": {
      "text/plain": [
       "['mohsin', 'sanjeev', 'abhishek', 'shruti', 'swati']"
      ]
     },
     "execution_count": 84,
     "metadata": {},
     "output_type": "execute_result"
    }
   ],
   "source": [
    "good_person # it will changes."
   ]
  },
  {
   "cell_type": "code",
   "execution_count": 85,
   "id": "168f4410-bd67-42f2-993a-e7966a0c2358",
   "metadata": {},
   "outputs": [
    {
     "data": {
      "text/plain": [
       "['mohsin', 'sanjeev', 'bheema', 'zeba', 'swati']"
      ]
     },
     "execution_count": 85,
     "metadata": {},
     "output_type": "execute_result"
    }
   ],
   "source": [
    "name # but name cannot change anything."
   ]
  },
  {
   "cell_type": "code",
   "execution_count": null,
   "id": "dc3aa510-8fdc-45bb-857d-80b62d8f26fb",
   "metadata": {},
   "outputs": [],
   "source": [
    "# so here we can see in deep copy , if we change any elements in first one , then it will not chnage anything in second one , because deep copy make a copy of memory space and make anothert memory space , thats why it will not effected by any changes."
   ]
  },
  {
   "cell_type": "code",
   "execution_count": null,
   "id": "5607108c-4ebb-4bb5-8c6b-288ae69d8a59",
   "metadata": {},
   "outputs": [],
   "source": [
    "# This is the complete understanding of deep copy and shallow copy."
   ]
  },
  {
   "cell_type": "markdown",
   "id": "69439aa1-58a4-4397-bff2-df69ee900e99",
   "metadata": {},
   "source": [
    "### membership operator in list :-"
   ]
  },
  {
   "cell_type": "code",
   "execution_count": null,
   "id": "2a9710d8-fa72-41c3-b69f-d99332b22a8e",
   "metadata": {},
   "outputs": [],
   "source": [
    "# membership operator :- helps to know the purticular element is available in the list or not.\n",
    "# membership operators are :-\n",
    "# in\n",
    "# not in"
   ]
  },
  {
   "cell_type": "code",
   "execution_count": 86,
   "id": "96fd3766-97e6-4a80-95c6-f2527113d2ed",
   "metadata": {},
   "outputs": [
    {
     "data": {
      "text/plain": [
       "True"
      ]
     },
     "execution_count": 86,
     "metadata": {},
     "output_type": "execute_result"
    }
   ],
   "source": [
    "names = [\"mohsin\" , \"sanjeev\" , \"abhishek\" , \"shruti\" , \"rahshika\"] # this is a normal list , now we are going to use membership operator in this list.\n",
    "\"sanjeev\" in names # it will give true , because 'sanjeev' element is present in the list."
   ]
  },
  {
   "cell_type": "code",
   "execution_count": 87,
   "id": "6e0f452b-a5a5-4ab4-bd9d-9265721a3751",
   "metadata": {},
   "outputs": [
    {
     "data": {
      "text/plain": [
       "False"
      ]
     },
     "execution_count": 87,
     "metadata": {},
     "output_type": "execute_result"
    }
   ],
   "source": [
    "\"sanjeev\" not in names  # it will give false , because 'sanjeev' element is  present in the list."
   ]
  },
  {
   "cell_type": "code",
   "execution_count": 88,
   "id": "6ace0ffc-677d-4b0c-8246-30b80de54b9c",
   "metadata": {},
   "outputs": [
    {
     "data": {
      "text/plain": [
       "False"
      ]
     },
     "execution_count": 88,
     "metadata": {},
     "output_type": "execute_result"
    }
   ],
   "source": [
    "\"simran\" in names # it will give false , because 'simran' element is not present in the list."
   ]
  },
  {
   "cell_type": "code",
   "execution_count": 89,
   "id": "e21e5724-6b86-4d87-b7df-f3cfa217e09b",
   "metadata": {},
   "outputs": [
    {
     "data": {
      "text/plain": [
       "True"
      ]
     },
     "execution_count": 89,
     "metadata": {},
     "output_type": "execute_result"
    }
   ],
   "source": [
    "\"simran\" not in names # it will give true , because 'simran' element is not present in the list."
   ]
  },
  {
   "cell_type": "code",
   "execution_count": 90,
   "id": "b67a7cac-88d4-4840-a1fc-c6db1525d45a",
   "metadata": {},
   "outputs": [
    {
     "name": "stdout",
     "output_type": "stream",
     "text": [
      "['mohsin', 'abhishek', 15, 50, 55.55, 60.15, True, False, (3+60j)]\n",
      "<class 'list'>\n"
     ]
    }
   ],
   "source": [
    "# try with anither example :-\n",
    "lis = [\"mohsin\" , \"abhishek\" , 15 , 50 , 55.55 , 60.15 , True , False, 3+60j] \n",
    "print(lis)\n",
    "print(type(lis))"
   ]
  },
  {
   "cell_type": "code",
   "execution_count": 91,
   "id": "49bf9ce6-7273-494f-8005-8f8b492a0515",
   "metadata": {},
   "outputs": [
    {
     "data": {
      "text/plain": [
       "True"
      ]
     },
     "execution_count": 91,
     "metadata": {},
     "output_type": "execute_result"
    }
   ],
   "source": [
    "50 in lis"
   ]
  },
  {
   "cell_type": "code",
   "execution_count": 93,
   "id": "0feeffe8-4559-4bc9-a31f-32e9fbb2ca23",
   "metadata": {},
   "outputs": [
    {
     "data": {
      "text/plain": [
       "False"
      ]
     },
     "execution_count": 93,
     "metadata": {},
     "output_type": "execute_result"
    }
   ],
   "source": [
    "51 in lis"
   ]
  },
  {
   "cell_type": "code",
   "execution_count": 94,
   "id": "3a99d214-e6a5-4a8a-8180-aaf8f82d6cb1",
   "metadata": {},
   "outputs": [
    {
     "data": {
      "text/plain": [
       "False"
      ]
     },
     "execution_count": 94,
     "metadata": {},
     "output_type": "execute_result"
    }
   ],
   "source": [
    "\"swati\" in lis"
   ]
  },
  {
   "cell_type": "code",
   "execution_count": 95,
   "id": "12cc0faa-8be7-4107-81a2-69668ca6b98c",
   "metadata": {},
   "outputs": [
    {
     "data": {
      "text/plain": [
       "True"
      ]
     },
     "execution_count": 95,
     "metadata": {},
     "output_type": "execute_result"
    }
   ],
   "source": [
    "\"swati\" not in lis"
   ]
  },
  {
   "cell_type": "code",
   "execution_count": 96,
   "id": "674af7f5-8d1e-4fa5-9124-ba59b44c5e75",
   "metadata": {},
   "outputs": [
    {
     "data": {
      "text/plain": [
       "True"
      ]
     },
     "execution_count": 96,
     "metadata": {},
     "output_type": "execute_result"
    }
   ],
   "source": [
    "\"mohsin\" in lis"
   ]
  },
  {
   "cell_type": "code",
   "execution_count": null,
   "id": "ec977b2c-2889-4441-8b84-7e9461fa7d28",
   "metadata": {},
   "outputs": [],
   "source": [
    "# So this is the complete understanding of membership operator in list."
   ]
  },
  {
   "cell_type": "markdown",
   "id": "aa903c72-24c9-47f9-ae41-8e81668bca73",
   "metadata": {},
   "source": [
    "### List comprehension :-"
   ]
  },
  {
   "cell_type": "code",
   "execution_count": 97,
   "id": "11b86655-fca4-4cb6-9082-0808dc43013e",
   "metadata": {},
   "outputs": [],
   "source": [
    "# List comprehension :- it is used to make a code more concice , attractive , and easy to read."
   ]
  },
  {
   "cell_type": "code",
   "execution_count": 98,
   "id": "f0631259-de09-4f5d-90e1-d6c5981997a0",
   "metadata": {},
   "outputs": [],
   "source": [
    "# lets try to understand with examples :-\n",
    "# first we try a normal process :-\n",
    "data = [5 , 11 , 15 , 20 ,9 , 17] #  this is the data , and we want to double each of elements present in data.\n",
    "double_data = [] # first we have to make an empty list.\n",
    "for i in data:\n",
    "    double_data.append(i*2)"
   ]
  },
  {
   "cell_type": "code",
   "execution_count": 99,
   "id": "f1b8ce62-3e05-43fe-92fd-44953a3a49d4",
   "metadata": {},
   "outputs": [
    {
     "data": {
      "text/plain": [
       "[10, 22, 30, 40, 18, 34]"
      ]
     },
     "execution_count": 99,
     "metadata": {},
     "output_type": "execute_result"
    }
   ],
   "source": [
    "double_data # this is the normal process"
   ]
  },
  {
   "cell_type": "code",
   "execution_count": 100,
   "id": "b80bf566-004e-4654-955e-568db6b3a4d1",
   "metadata": {},
   "outputs": [
    {
     "name": "stdout",
     "output_type": "stream",
     "text": [
      "[10, 22, 30, 40, 18, 34]\n"
     ]
    }
   ],
   "source": [
    "# now we try with list comprehension :-\n",
    "data = [5 , 11 , 15 , 20 ,9 , 17]\n",
    "print([i*2 for i in data]) "
   ]
  },
  {
   "cell_type": "code",
   "execution_count": null,
   "id": "7a944e2b-d03e-44e4-b83c-fb6206d53530",
   "metadata": {},
   "outputs": [],
   "source": [
    "# this is the list comprehension method >> and we can see here by the using of list comprehension method , its become easy , and more readable and also looks attractive."
   ]
  },
  {
   "cell_type": "code",
   "execution_count": 101,
   "id": "38e4dc7b-f2d4-445f-83e3-1e2b475e9860",
   "metadata": {},
   "outputs": [],
   "source": [
    "# another example by using list comprehension  :-"
   ]
  },
  {
   "cell_type": "code",
   "execution_count": 105,
   "id": "58a072ff-56a3-4cab-9a80-e0474adced4a",
   "metadata": {},
   "outputs": [],
   "source": [
    "data_s = [\"mk.pdf\" , \"ak.ipng\" , \"sn.ppt\" , \"sk.jpg\" , \"bp.jpeg\"]\n",
    "# this is a list and we want to find only all the extensions of file. "
   ]
  },
  {
   "cell_type": "code",
   "execution_count": 106,
   "id": "a90c87e3-f3d6-4c85-ac4a-3379c8cc25ef",
   "metadata": {},
   "outputs": [
    {
     "name": "stdout",
     "output_type": "stream",
     "text": [
      "['pdf', 'ipng', 'ppt', 'jpg', 'jpeg']\n"
     ]
    }
   ],
   "source": [
    "print([data.split(\".\")[-1] for data in data_s]) # so this is the beauty of list comprehension."
   ]
  },
  {
   "cell_type": "code",
   "execution_count": 108,
   "id": "01b0aac7-7f07-4315-ae00-0d908231b8d1",
   "metadata": {},
   "outputs": [
    {
     "name": "stdout",
     "output_type": "stream",
     "text": [
      "['mohsin khan', 'adil khan']\n"
     ]
    }
   ],
   "source": [
    "# conditionals in list comprehension :-\n",
    "# here we want only 'khan' sir name\n",
    "names = [\"mohsin khan\" , \"adil khan\" , \"faiz alam\" , \"menal khatoon\"]\n",
    "print([name for name in names if name.endswith(\"khan\")]) # this is the use of conditional in list comprehension."
   ]
  },
  {
   "cell_type": "code",
   "execution_count": 109,
   "id": "18f36889-0a2a-425b-a577-3ef364689d15",
   "metadata": {},
   "outputs": [
    {
     "name": "stdout",
     "output_type": "stream",
     "text": [
      "['mk@gmail.com', 'sk@gmail.com', 'sn@gmail.com']\n"
     ]
    }
   ],
   "source": [
    "# another example :-\n",
    "# we want mail id which are in the form of gmail.com\n",
    "mail_id = [\"mk@gmail.com\" , \"sk@gmail.com\" , \"aj@yahoo.com\" , \"sn@gmail.com\" , \"ar@yahoo.com\" , \"ak@yahoo.com\"]\n",
    "print([mail for mail in mail_id if mail.endswith(\"gmail.com\")]) # this is the  the process of conditionals in list comprehension."
   ]
  },
  {
   "cell_type": "code",
   "execution_count": 110,
   "id": "4e3f99d0-7a6e-44da-9bcd-7bde4c575afc",
   "metadata": {},
   "outputs": [],
   "source": [
    "# nested in list comprehension :-"
   ]
  },
  {
   "cell_type": "code",
   "execution_count": 112,
   "id": "92641e04-51cb-4770-9057-608976001e40",
   "metadata": {},
   "outputs": [
    {
     "name": "stdout",
     "output_type": "stream",
     "text": [
      "[(1, 4), (1, 5), (1, 6), (2, 4), (2, 5), (2, 6), (3, 4), (3, 5), (3, 6)]\n"
     ]
    }
   ],
   "source": [
    "# if we want pair of two numbers :-\n",
    "pair = [] # empty list\n",
    "print([(x,y) for x in [1,2,3] for y in [4,5,6]]) # this is the list comprehension with nested."
   ]
  },
  {
   "cell_type": "code",
   "execution_count": 115,
   "id": "6d975d0f-1d19-4a56-9870-e245d40f64ea",
   "metadata": {},
   "outputs": [
    {
     "data": {
      "text/plain": [
       "[(1, 4, 7),\n",
       " (1, 4, 8),\n",
       " (1, 4, 9),\n",
       " (1, 5, 7),\n",
       " (1, 5, 8),\n",
       " (1, 5, 9),\n",
       " (1, 6, 7),\n",
       " (1, 6, 8),\n",
       " (1, 6, 9),\n",
       " (2, 4, 7),\n",
       " (2, 4, 8),\n",
       " (2, 4, 9),\n",
       " (2, 5, 7),\n",
       " (2, 5, 8),\n",
       " (2, 5, 9),\n",
       " (2, 6, 7),\n",
       " (2, 6, 8),\n",
       " (2, 6, 9),\n",
       " (3, 4, 7),\n",
       " (3, 4, 8),\n",
       " (3, 4, 9),\n",
       " (3, 5, 7),\n",
       " (3, 5, 8),\n",
       " (3, 5, 9),\n",
       " (3, 6, 7),\n",
       " (3, 6, 8),\n",
       " (3, 6, 9)]"
      ]
     },
     "execution_count": 115,
     "metadata": {},
     "output_type": "execute_result"
    }
   ],
   "source": [
    "# anothe example  :-\n",
    "([(x , y, z) for x in [1,2 ,3] for y in [4, 5, 6]  for z in [7,8,9]])"
   ]
  },
  {
   "cell_type": "code",
   "execution_count": null,
   "id": "1aab3ee5-1748-4b64-ae60-b713e9f9ef87",
   "metadata": {},
   "outputs": [],
   "source": [
    "# So this is the complete understanding  of list comprehension."
   ]
  },
  {
   "cell_type": "markdown",
   "id": "4ba429e5-6d8e-4a9c-ae74-9235171fbedc",
   "metadata": {},
   "source": [
    "### Functions of list :-"
   ]
  },
  {
   "cell_type": "code",
   "execution_count": null,
   "id": "5399a0d4-f1f7-4ddb-85d6-0a16ca69e0db",
   "metadata": {},
   "outputs": [],
   "source": [
    "# function's of list :-\n",
    "\n",
    "# There sre some functions of list :-\n",
    "# 1 - .append()  # use to add an element at the end place in any list.\n",
    "# 2 - .insert()  # use to insert an element at a purticular place in the list.\n",
    "# 3 - .extend()  # it will helps to extend a list by another list.\n",
    "# 4 - .remove()  # use to remove any purticular element of list by giving argument in the parenthesis. \n",
    "# 5 -  del()     # use to delete the complete list.\n",
    "# 6 - .clear()   # use to clear the list , and make it an empty list.\n",
    "# 7 - .pop()     # also helps to delete the last element if parenthesis is blank , if parenthesis have argumnet , it will delete that purticular element.\n",
    "# 8 - .index()   # helps to know the index of an element >> it will always provide the first occurence of element in list.\n",
    "# 9 - sorted()   # helps to sort the list in alphabetically , if all in the same uppercase or lowercase, otherwise it will prefer first uppercase.\n",
    "# 10 - .sort()   # same as sorted fuction.\n",
    "# 11 - .count()  # helps to count the number of any specific element in the list.\n",
    "# 12 - len()     # help to known the complete length of list."
   ]
  },
  {
   "cell_type": "code",
   "execution_count": null,
   "id": "fae97a74-40d5-4de2-95ac-320b7d30a870",
   "metadata": {},
   "outputs": [],
   "source": [
    "# This is the complete understanding of key features in list."
   ]
  },
  {
   "cell_type": "markdown",
   "id": "23045576-aa61-49a1-bd82-9e222f49a1fc",
   "metadata": {},
   "source": [
    "## Question 3 - Describe how to access, modify and delete elements in a list with examples :-"
   ]
  },
  {
   "cell_type": "code",
   "execution_count": null,
   "id": "18d86ae9-63e5-4d12-b697-1a577e1536b7",
   "metadata": {},
   "outputs": [],
   "source": [
    "# Ans - List is a ordered collection of data , which can be accesseble and manipulated.\n",
    "        # List is a hetrogenous data structure.\n",
    "        # list is a mutable data structure.\n",
    "        \n",
    "# List have some functions by which we can access , modify and delete the elements of list are as follows :-       "
   ]
  },
  {
   "cell_type": "code",
   "execution_count": null,
   "id": "ceb22c77-d27f-4251-9b89-619546e8c108",
   "metadata": {},
   "outputs": [],
   "source": [
    "# function's of list :-\n",
    "\n",
    "# There sre some functions of list :-\n",
    "# 1 - .append()  # use to add an element at the end place in any list.\n",
    "# 2 - .insert()  # use to insert an element at a purticular place in the list.\n",
    "# 3 - .extend()  # it will helps to extend a list by another list.\n",
    "# 4 - .remove()  # use to remove any purticular element of list by giving argument in the parenthesis. \n",
    "# 5 -  del()     # use to delete the complete list.\n",
    "# 6 - .clear()   # use to clear the list , and make it an empty list.\n",
    "# 7 - .pop()     # also helps to delete the last element if parenthesis is blank , if parenthesis have argumnet , it will delete that purticular element.\n",
    "# 8 - .index()   # helps to know the index of an element >> it will always provide the first occurence of element in list.\n",
    "# 9 - sorted()   # helps to sort the list in alphabetically , if all in the same uppercase or lowercase, otherwise it will prefer first uppercase.\n",
    "# 10 - .sort()   # same as sorted fuction.\n",
    "# 11 - .count()  # helps to count the number of any specific element in the list.\n",
    "# 12 - len()     # help to known the complete length of list.\n",
    "\n",
    "\n",
    "## These are the functions of list by which we can do anything with the list."
   ]
  },
  {
   "cell_type": "markdown",
   "id": "61aac9d9-efa6-4f3c-9ece-f558d5b51199",
   "metadata": {},
   "source": [
    "### Access of elements in list :-"
   ]
  },
  {
   "cell_type": "code",
   "execution_count": 124,
   "id": "4e56be27-aefb-4bd7-a980-78186554074d",
   "metadata": {},
   "outputs": [
    {
     "name": "stdout",
     "output_type": "stream",
     "text": [
      "['mohsin', 'swati', 'abhishek', 15, 12, 55.55, 65.24, True, False, 'sanjeev', 'Rashika']\n",
      "<class 'list'>\n"
     ]
    }
   ],
   "source": [
    "data = [\"mohsin\" , \"swati\" , \"abhishek\" , 15 , 12 , 55.55 , 65.24 , True , False , \"sanjeev\" , \"Rashika\"] # this is a list.\n",
    "print(data)\n",
    "print(type(data))"
   ]
  },
  {
   "cell_type": "code",
   "execution_count": 129,
   "id": "e61027c8-b20e-4c61-b83c-34ea7234f02b",
   "metadata": {},
   "outputs": [],
   "source": [
    "# if we want to access any elements :-\n",
    "first_element  = data[2] # this is the process of accessing the elements in the list."
   ]
  },
  {
   "cell_type": "code",
   "execution_count": 130,
   "id": "0b1a1e86-61cc-40af-a431-61aa9e240abc",
   "metadata": {},
   "outputs": [
    {
     "data": {
      "text/plain": [
       "'abhishek'"
      ]
     },
     "execution_count": 130,
     "metadata": {},
     "output_type": "execute_result"
    }
   ],
   "source": [
    "first_element"
   ]
  },
  {
   "cell_type": "code",
   "execution_count": 131,
   "id": "ae1e209c-4ca5-4aa6-aa53-ee56bafb0ec8",
   "metadata": {},
   "outputs": [
    {
     "data": {
      "text/plain": [
       "'abhishek'"
      ]
     },
     "execution_count": 131,
     "metadata": {},
     "output_type": "execute_result"
    }
   ],
   "source": [
    "data[2] # this is the process of accessing the elements in the list."
   ]
  },
  {
   "cell_type": "code",
   "execution_count": 126,
   "id": "466beaf5-84f0-44ad-aed8-1dd520bc37f3",
   "metadata": {},
   "outputs": [
    {
     "data": {
      "text/plain": [
       "55.55"
      ]
     },
     "execution_count": 126,
     "metadata": {},
     "output_type": "execute_result"
    }
   ],
   "source": [
    "data[5] # this is the process of accessing the elements in the list."
   ]
  },
  {
   "cell_type": "code",
   "execution_count": 127,
   "id": "d7ca2959-5625-485b-b356-6e4d3d24f120",
   "metadata": {},
   "outputs": [
    {
     "data": {
      "text/plain": [
       "65.24"
      ]
     },
     "execution_count": 127,
     "metadata": {},
     "output_type": "execute_result"
    }
   ],
   "source": [
    "data[-5] # this is the process of accessing the elements in the list."
   ]
  },
  {
   "cell_type": "code",
   "execution_count": 128,
   "id": "87b55432-9c2b-431c-99fb-50936ee3e70e",
   "metadata": {},
   "outputs": [
    {
     "data": {
      "text/plain": [
       "False"
      ]
     },
     "execution_count": 128,
     "metadata": {},
     "output_type": "execute_result"
    }
   ],
   "source": [
    "data[-3]"
   ]
  },
  {
   "cell_type": "code",
   "execution_count": null,
   "id": "1412a577-038d-4a72-94f3-94399784ea38",
   "metadata": {},
   "outputs": [],
   "source": [
    "# So , this is the complete process of accessing the data."
   ]
  },
  {
   "cell_type": "markdown",
   "id": "42caf8fd-af7a-4b9e-ae58-c66f1747388e",
   "metadata": {},
   "source": [
    "### Modify of element in list :-"
   ]
  },
  {
   "cell_type": "code",
   "execution_count": 132,
   "id": "b76b6879-0070-4645-ba1b-f8a27c41569f",
   "metadata": {},
   "outputs": [
    {
     "data": {
      "text/plain": [
       "'mohsin'"
      ]
     },
     "execution_count": 132,
     "metadata": {},
     "output_type": "execute_result"
    }
   ],
   "source": [
    "data = [\"mohsin\" , \"swati\" , \"abhishek\" , 15 , 12 , 55.55 , 65.24 , True , False , \"sanjeev\" , \"Rashika\"] \n",
    "data[0]"
   ]
  },
  {
   "cell_type": "code",
   "execution_count": 133,
   "id": "1cb57d38-1fe0-49f9-a8ed-39ca26e1e897",
   "metadata": {},
   "outputs": [],
   "source": [
    "data[0] = \"simran\" # this is the process by which we can modify the elements in the list."
   ]
  },
  {
   "cell_type": "code",
   "execution_count": 134,
   "id": "6c2eda1f-5efb-453d-ba74-ebd339afb155",
   "metadata": {},
   "outputs": [
    {
     "data": {
      "text/plain": [
       "['simran',\n",
       " 'swati',\n",
       " 'abhishek',\n",
       " 15,\n",
       " 12,\n",
       " 55.55,\n",
       " 65.24,\n",
       " True,\n",
       " False,\n",
       " 'sanjeev',\n",
       " 'Rashika']"
      ]
     },
     "execution_count": 134,
     "metadata": {},
     "output_type": "execute_result"
    }
   ],
   "source": [
    "data"
   ]
  },
  {
   "cell_type": "code",
   "execution_count": 135,
   "id": "21b81c75-eb16-4681-b960-00e489401ca1",
   "metadata": {},
   "outputs": [
    {
     "data": {
      "text/plain": [
       "55.55"
      ]
     },
     "execution_count": 135,
     "metadata": {},
     "output_type": "execute_result"
    }
   ],
   "source": [
    "data[5]"
   ]
  },
  {
   "cell_type": "code",
   "execution_count": 136,
   "id": "5a03f1c2-01ef-4db2-bf0f-c015469e10a0",
   "metadata": {},
   "outputs": [],
   "source": [
    "data[5]=\"radhe\" # this is the process by which we can modify the elements in the list."
   ]
  },
  {
   "cell_type": "code",
   "execution_count": 137,
   "id": "301e94e4-4faa-45ec-ac1f-5e6f918639d6",
   "metadata": {},
   "outputs": [
    {
     "data": {
      "text/plain": [
       "['simran',\n",
       " 'swati',\n",
       " 'abhishek',\n",
       " 15,\n",
       " 12,\n",
       " 'radhe',\n",
       " 65.24,\n",
       " True,\n",
       " False,\n",
       " 'sanjeev',\n",
       " 'Rashika']"
      ]
     },
     "execution_count": 137,
     "metadata": {},
     "output_type": "execute_result"
    }
   ],
   "source": [
    "data"
   ]
  },
  {
   "cell_type": "code",
   "execution_count": 138,
   "id": "4e8de732-14ce-4623-b87b-a3cfd36d9a89",
   "metadata": {},
   "outputs": [],
   "source": [
    "data[-3] = \"shruti\" # this is the process by which we can modify the elements in the list."
   ]
  },
  {
   "cell_type": "code",
   "execution_count": 139,
   "id": "ba1150e5-0b1e-4b5c-96bf-08be0d6de3d9",
   "metadata": {},
   "outputs": [
    {
     "data": {
      "text/plain": [
       "['simran',\n",
       " 'swati',\n",
       " 'abhishek',\n",
       " 15,\n",
       " 12,\n",
       " 'radhe',\n",
       " 65.24,\n",
       " True,\n",
       " 'shruti',\n",
       " 'sanjeev',\n",
       " 'Rashika']"
      ]
     },
     "execution_count": 139,
     "metadata": {},
     "output_type": "execute_result"
    }
   ],
   "source": [
    "data"
   ]
  },
  {
   "cell_type": "code",
   "execution_count": 140,
   "id": "4c6d747b-33c0-4f20-a0f9-c26b94e44dd1",
   "metadata": {},
   "outputs": [
    {
     "data": {
      "text/plain": [
       "'Rashika'"
      ]
     },
     "execution_count": 140,
     "metadata": {},
     "output_type": "execute_result"
    }
   ],
   "source": [
    "data[-1]"
   ]
  },
  {
   "cell_type": "code",
   "execution_count": 141,
   "id": "9a620e0e-6728-47c0-8765-a1e9ee7f8a31",
   "metadata": {},
   "outputs": [],
   "source": [
    "data[-1] = \"kanpur\" # this is the process by which we can modify the elements in the list."
   ]
  },
  {
   "cell_type": "code",
   "execution_count": 142,
   "id": "612be8e9-e4f4-4adf-b37d-4e465cef7368",
   "metadata": {},
   "outputs": [
    {
     "data": {
      "text/plain": [
       "['simran',\n",
       " 'swati',\n",
       " 'abhishek',\n",
       " 15,\n",
       " 12,\n",
       " 'radhe',\n",
       " 65.24,\n",
       " True,\n",
       " 'shruti',\n",
       " 'sanjeev',\n",
       " 'kanpur']"
      ]
     },
     "execution_count": 142,
     "metadata": {},
     "output_type": "execute_result"
    }
   ],
   "source": [
    "data"
   ]
  },
  {
   "cell_type": "code",
   "execution_count": 1,
   "id": "1fd84b33-807a-4874-bfd9-c1e3a93a8d4b",
   "metadata": {},
   "outputs": [],
   "source": [
    "# We can also use some more function in modifying element of list :-\n",
    "# 1 - .append()\n",
    "# 2 - .insert()\n",
    "# 3 - .extend()\n",
    "# 4 - sorted()\n",
    "# 5 - .sort()"
   ]
  },
  {
   "cell_type": "code",
   "execution_count": 2,
   "id": "d28fc65d-0305-4a63-b3d5-9522a646a6c3",
   "metadata": {},
   "outputs": [
    {
     "name": "stdout",
     "output_type": "stream",
     "text": [
      "['mohsin', 'swati', 'abhishek', 15, 12, 55.55, 65.24, True, False, 'sanjeev', 'Rashika']\n",
      "<class 'list'>\n"
     ]
    }
   ],
   "source": [
    "data = [\"mohsin\" , \"swati\" , \"abhishek\" , 15 , 12 , 55.55 , 65.24 , True , False , \"sanjeev\" , \"Rashika\"] \n",
    "print(data)\n",
    "print(type(data))"
   ]
  },
  {
   "cell_type": "code",
   "execution_count": 3,
   "id": "1a6da274-29de-4ac3-b405-4f9e4835a5b7",
   "metadata": {},
   "outputs": [],
   "source": [
    "# .insert() function >> let's use this function in data modification :-\n",
    "# This function is used to add any element in the list at any purticular place\n",
    "# syntax >> .insert() (need argument in the parenthesis)."
   ]
  },
  {
   "cell_type": "code",
   "execution_count": 4,
   "id": "4a05571d-9765-4dcf-b91e-a3643300b970",
   "metadata": {},
   "outputs": [],
   "source": [
    "data = [\"mohsin\" , \"swati\" , \"abhishek\" , 15 , 12 , 55.55 , 65.24 , True , False , \"sanjeev\" , \"Rashika\"] \n",
    "data.insert(2,\"ayesha\") "
   ]
  },
  {
   "cell_type": "code",
   "execution_count": 5,
   "id": "f3901cd1-5a4c-4879-be33-b63fcf7d56ff",
   "metadata": {},
   "outputs": [
    {
     "data": {
      "text/plain": [
       "['mohsin',\n",
       " 'swati',\n",
       " 'ayesha',\n",
       " 'abhishek',\n",
       " 15,\n",
       " 12,\n",
       " 55.55,\n",
       " 65.24,\n",
       " True,\n",
       " False,\n",
       " 'sanjeev',\n",
       " 'Rashika']"
      ]
     },
     "execution_count": 5,
     "metadata": {},
     "output_type": "execute_result"
    }
   ],
   "source": [
    "data"
   ]
  },
  {
   "cell_type": "code",
   "execution_count": 6,
   "id": "8c99c09a-25b3-4c9b-99b9-95c143c1c88f",
   "metadata": {},
   "outputs": [],
   "source": [
    "data.insert(-3,\"ashwariya\")"
   ]
  },
  {
   "cell_type": "code",
   "execution_count": 7,
   "id": "e9bb445c-30c9-452c-bbac-1523a55bb9bf",
   "metadata": {},
   "outputs": [
    {
     "data": {
      "text/plain": [
       "['mohsin',\n",
       " 'swati',\n",
       " 'ayesha',\n",
       " 'abhishek',\n",
       " 15,\n",
       " 12,\n",
       " 55.55,\n",
       " 65.24,\n",
       " True,\n",
       " 'ashwariya',\n",
       " False,\n",
       " 'sanjeev',\n",
       " 'Rashika']"
      ]
     },
     "execution_count": 7,
     "metadata": {},
     "output_type": "execute_result"
    }
   ],
   "source": [
    "data"
   ]
  },
  {
   "cell_type": "code",
   "execution_count": null,
   "id": "cfe994e5-9265-4641-84a6-e49b5cd4d9f5",
   "metadata": {},
   "outputs": [],
   "source": [
    "# so this function is also helpful in modification of data in list."
   ]
  },
  {
   "cell_type": "code",
   "execution_count": 8,
   "id": "341a1306-1e78-4681-80b6-9b9d7224d6c3",
   "metadata": {},
   "outputs": [],
   "source": [
    "# .append() >>  this function helps to add any element at end of the list by default."
   ]
  },
  {
   "cell_type": "code",
   "execution_count": 9,
   "id": "82046efe-6381-4f3f-8d5f-171878493bd9",
   "metadata": {},
   "outputs": [],
   "source": [
    "data = [\"mohsin\" , \"swati\" , \"abhishek\" , 15 , 12 , 55.55 , 65.24 , True , False , \"sanjeev\" , \"Rashika\"] \n",
    "data.append(\"bheema\") # add this element at the end of the list."
   ]
  },
  {
   "cell_type": "code",
   "execution_count": 10,
   "id": "ed31fb6f-4867-4559-bdfb-796a614501f1",
   "metadata": {},
   "outputs": [
    {
     "data": {
      "text/plain": [
       "['mohsin',\n",
       " 'swati',\n",
       " 'abhishek',\n",
       " 15,\n",
       " 12,\n",
       " 55.55,\n",
       " 65.24,\n",
       " True,\n",
       " False,\n",
       " 'sanjeev',\n",
       " 'Rashika',\n",
       " 'bheema']"
      ]
     },
     "execution_count": 10,
     "metadata": {},
     "output_type": "execute_result"
    }
   ],
   "source": [
    "data"
   ]
  },
  {
   "cell_type": "code",
   "execution_count": 11,
   "id": "677fe9c9-a45c-433a-9ad2-95629ed8d037",
   "metadata": {},
   "outputs": [],
   "source": [
    "data = [\"mohsin\" , \"swati\" , \"abhishek\" , 15 , 12 , 55.55 , 65.24 , True , False , \"sanjeev\" , \"Rashika\"] \n",
    "data.append(520) # add this element at the end of the list."
   ]
  },
  {
   "cell_type": "code",
   "execution_count": 12,
   "id": "83ba8928-7593-4ffd-ae58-523a945c7a50",
   "metadata": {},
   "outputs": [
    {
     "data": {
      "text/plain": [
       "['mohsin',\n",
       " 'swati',\n",
       " 'abhishek',\n",
       " 15,\n",
       " 12,\n",
       " 55.55,\n",
       " 65.24,\n",
       " True,\n",
       " False,\n",
       " 'sanjeev',\n",
       " 'Rashika',\n",
       " 520]"
      ]
     },
     "execution_count": 12,
     "metadata": {},
     "output_type": "execute_result"
    }
   ],
   "source": [
    "data"
   ]
  },
  {
   "cell_type": "code",
   "execution_count": null,
   "id": "6b32516c-ad63-45b8-a310-d695fc9d172e",
   "metadata": {},
   "outputs": [],
   "source": [
    "# this function helps to add any element at the end of the list."
   ]
  },
  {
   "cell_type": "code",
   "execution_count": 13,
   "id": "06d3e3ec-c1cc-4135-b23e-d3c295ca3a86",
   "metadata": {},
   "outputs": [],
   "source": [
    "# .extend function :- this function helps to extend a list by another list at the end place of the list."
   ]
  },
  {
   "cell_type": "code",
   "execution_count": 14,
   "id": "5f53c83b-6737-452a-8b6c-7f8f7a457607",
   "metadata": {},
   "outputs": [],
   "source": [
    "data = [\"mohsin\" , \"swati\" , \"abhishek\" , 15 , 12 , 55.55 , 65.24 , True , False , \"sanjeev\" , \"Rashika\"] \n",
    "name = [\"shweta\" , \"saquib\" , \"gaurav\"] # if we want to add this list in the data list."
   ]
  },
  {
   "cell_type": "code",
   "execution_count": 15,
   "id": "206f6bab-8a9d-45e1-98dc-6a2c271c75d2",
   "metadata": {},
   "outputs": [],
   "source": [
    "data.extend(name) # this is code which helps to extend data list by name list."
   ]
  },
  {
   "cell_type": "code",
   "execution_count": 16,
   "id": "06b29f25-dbb2-423c-b362-7e37494dd692",
   "metadata": {},
   "outputs": [
    {
     "data": {
      "text/plain": [
       "['mohsin',\n",
       " 'swati',\n",
       " 'abhishek',\n",
       " 15,\n",
       " 12,\n",
       " 55.55,\n",
       " 65.24,\n",
       " True,\n",
       " False,\n",
       " 'sanjeev',\n",
       " 'Rashika',\n",
       " 'shweta',\n",
       " 'saquib',\n",
       " 'gaurav']"
      ]
     },
     "execution_count": 16,
     "metadata": {},
     "output_type": "execute_result"
    }
   ],
   "source": [
    "data # he re we can see data list will extended by the name list."
   ]
  },
  {
   "cell_type": "code",
   "execution_count": 17,
   "id": "7d2308b3-90fe-49f1-9aa7-d03be54e0db4",
   "metadata": {},
   "outputs": [
    {
     "data": {
      "text/plain": [
       "['shweta', 'saquib', 'gaurav']"
      ]
     },
     "execution_count": 17,
     "metadata": {},
     "output_type": "execute_result"
    }
   ],
   "source": [
    "name # name list will not be chnage anything."
   ]
  },
  {
   "cell_type": "code",
   "execution_count": 18,
   "id": "3bdd05cf-16c4-44cf-b7fc-e044a1299e08",
   "metadata": {},
   "outputs": [
    {
     "data": {
      "text/plain": [
       "['mohsin',\n",
       " 'swati',\n",
       " 'abhishek',\n",
       " 15,\n",
       " 12,\n",
       " 55.55,\n",
       " 65.24,\n",
       " True,\n",
       " False,\n",
       " 'sanjeev',\n",
       " 'Rashika',\n",
       " 'shweta',\n",
       " 'saquib',\n",
       " 'gaurav']"
      ]
     },
     "execution_count": 18,
     "metadata": {},
     "output_type": "execute_result"
    }
   ],
   "source": [
    "data # data list is extended by name list. "
   ]
  },
  {
   "cell_type": "code",
   "execution_count": null,
   "id": "f7ca6a7e-3518-415b-a9c3-5823080c8589",
   "metadata": {},
   "outputs": [],
   "source": [
    "# this function helps to extend a list by another list. This is also useful in the modification of element in the list."
   ]
  },
  {
   "cell_type": "code",
   "execution_count": 19,
   "id": "511420b1-fd6d-434e-b5ad-50873299c69a",
   "metadata": {},
   "outputs": [],
   "source": [
    "# sorted() >> it will help to make sequence of alphabetically elements in the list :-"
   ]
  },
  {
   "cell_type": "code",
   "execution_count": 22,
   "id": "95de2ca0-db40-4890-b089-dd78d3c6ab82",
   "metadata": {},
   "outputs": [
    {
     "ename": "TypeError",
     "evalue": "'<' not supported between instances of 'int' and 'str'",
     "output_type": "error",
     "traceback": [
      "\u001b[0;31m---------------------------------------------------------------------------\u001b[0m",
      "\u001b[0;31mTypeError\u001b[0m                                 Traceback (most recent call last)",
      "Cell \u001b[0;32mIn[22], line 2\u001b[0m\n\u001b[1;32m      1\u001b[0m data \u001b[38;5;241m=\u001b[39m [\u001b[38;5;124m\"\u001b[39m\u001b[38;5;124mmohsin\u001b[39m\u001b[38;5;124m\"\u001b[39m , \u001b[38;5;124m\"\u001b[39m\u001b[38;5;124mswati\u001b[39m\u001b[38;5;124m\"\u001b[39m , \u001b[38;5;124m\"\u001b[39m\u001b[38;5;124mabhishek\u001b[39m\u001b[38;5;124m\"\u001b[39m , \u001b[38;5;241m15\u001b[39m , \u001b[38;5;241m12\u001b[39m , \u001b[38;5;241m55.55\u001b[39m , \u001b[38;5;241m65.24\u001b[39m , \u001b[38;5;28;01mTrue\u001b[39;00m , \u001b[38;5;28;01mFalse\u001b[39;00m , \u001b[38;5;124m\"\u001b[39m\u001b[38;5;124msanjeev\u001b[39m\u001b[38;5;124m\"\u001b[39m , \u001b[38;5;124m\"\u001b[39m\u001b[38;5;124mRashika\u001b[39m\u001b[38;5;124m\"\u001b[39m] \n\u001b[0;32m----> 2\u001b[0m \u001b[38;5;28;43msorted\u001b[39;49m\u001b[43m(\u001b[49m\u001b[43mdata\u001b[49m\u001b[43m)\u001b[49m\n",
      "\u001b[0;31mTypeError\u001b[0m: '<' not supported between instances of 'int' and 'str'"
     ]
    }
   ],
   "source": [
    "data = [\"mohsin\" , \"swati\" , \"abhishek\" , 15 , 12 , 55.55 , 65.24 , True , False , \"sanjeev\" , \"Rashika\"] \n",
    "sorted(data) # this function will not work in diffrent types of data's."
   ]
  },
  {
   "cell_type": "code",
   "execution_count": 24,
   "id": "52e72f98-bb42-4816-8175-c09bc8446bc6",
   "metadata": {},
   "outputs": [
    {
     "name": "stdout",
     "output_type": "stream",
     "text": [
      "['mohsin', 'abhishek', 'swati', 'zeba', 'adil', 'gaurav', 'wahid', 'bheema']\n",
      "<class 'list'>\n"
     ]
    }
   ],
   "source": [
    "# let's understand by other example :-\n",
    "name = [\"mohsin\" , \"abhishek\" , \"swati\" , \"zeba\" , \"adil\" , \"gaurav\" , \"wahid\" , \"bheema\"]\n",
    "print(name)\n",
    "print(type(name))"
   ]
  },
  {
   "cell_type": "code",
   "execution_count": 26,
   "id": "dd070f5e-0add-4151-b367-6ce305abd964",
   "metadata": {},
   "outputs": [
    {
     "data": {
      "text/plain": [
       "['abhishek', 'adil', 'bheema', 'gaurav', 'mohsin', 'swati', 'wahid', 'zeba']"
      ]
     },
     "execution_count": 26,
     "metadata": {},
     "output_type": "execute_result"
    }
   ],
   "source": [
    "sorted(name) # so here we can see this all element are arranged in alphabetically."
   ]
  },
  {
   "cell_type": "code",
   "execution_count": 27,
   "id": "c543a0d1-21d3-4030-b130-251b0b343180",
   "metadata": {},
   "outputs": [],
   "source": [
    "# another type of example :-"
   ]
  },
  {
   "cell_type": "code",
   "execution_count": 28,
   "id": "0be09f88-455b-41ba-816a-6705151080cd",
   "metadata": {},
   "outputs": [],
   "source": [
    "names = [\"Mohsin\" , \"Swati\" , \"abhishek\" , \"Bheema\" , \"sanjeev\" , \"adil\"]"
   ]
  },
  {
   "cell_type": "code",
   "execution_count": 29,
   "id": "d9aa4a10-d427-4abd-b54e-56cbc1aab771",
   "metadata": {},
   "outputs": [
    {
     "data": {
      "text/plain": [
       "['Bheema', 'Mohsin', 'Swati', 'abhishek', 'adil', 'sanjeev']"
      ]
     },
     "execution_count": 29,
     "metadata": {},
     "output_type": "execute_result"
    }
   ],
   "source": [
    "sorted(names)"
   ]
  },
  {
   "cell_type": "code",
   "execution_count": null,
   "id": "c5db7be3-44fb-4f97-9835-0b1e163671a5",
   "metadata": {},
   "outputs": [],
   "source": [
    "# Here we can see if we have uppercase and lowercase mix data , then 'sorted()' function will prefer first uppercase elements and make them alphabetically , after that it will prefer to make lowercase alphabetically.\n",
    "\n",
    "# This is the understanding of 'sorted()' function."
   ]
  },
  {
   "cell_type": "code",
   "execution_count": 30,
   "id": "5f84bba1-8395-4d81-b6c2-6e31218c3495",
   "metadata": {},
   "outputs": [],
   "source": [
    "# .sort() function :- it also helps to make a sequenve alphabetically of elements of list."
   ]
  },
  {
   "cell_type": "code",
   "execution_count": 31,
   "id": "773c967c-697d-4363-b77e-0468b0fafcf4",
   "metadata": {},
   "outputs": [],
   "source": [
    "name = [\"mohsin\" , \"abhishek\" , \"swati\" , \"zeba\" , \"adil\" , \"gaurav\" , \"wahid\" , \"bheema\"]\n",
    "name.sort()"
   ]
  },
  {
   "cell_type": "code",
   "execution_count": 32,
   "id": "24881bd6-f6bd-406b-aa9e-9e03c7da0467",
   "metadata": {},
   "outputs": [
    {
     "data": {
      "text/plain": [
       "['abhishek', 'adil', 'bheema', 'gaurav', 'mohsin', 'swati', 'wahid', 'zeba']"
      ]
     },
     "execution_count": 32,
     "metadata": {},
     "output_type": "execute_result"
    }
   ],
   "source": [
    "name # it will also make elements in alphabetically."
   ]
  },
  {
   "cell_type": "code",
   "execution_count": 33,
   "id": "0287ea97-3d3f-4ed8-8918-db01a8e42833",
   "metadata": {},
   "outputs": [],
   "source": [
    "# another example :-\n",
    "names = [\"Mohsin\" , \"Swati\" , \"abhishek\" , \"Bheema\" , \"sanjeev\" , \"adil\"]\n",
    "names.sort()"
   ]
  },
  {
   "cell_type": "code",
   "execution_count": 34,
   "id": "13ddcdd9-244a-4076-afad-b14ace695405",
   "metadata": {},
   "outputs": [
    {
     "data": {
      "text/plain": [
       "['Bheema', 'Mohsin', 'Swati', 'abhishek', 'adil', 'sanjeev']"
      ]
     },
     "execution_count": 34,
     "metadata": {},
     "output_type": "execute_result"
    }
   ],
   "source": [
    "names "
   ]
  },
  {
   "cell_type": "code",
   "execution_count": null,
   "id": "32e9b3b3-9ca9-4f18-83de-be1c4c090c8e",
   "metadata": {},
   "outputs": [],
   "source": [
    "# Here we can see if we have uppercase and lowercase mix data , then '.sort()' function will also prefer first uppercase elements and make them alphabetically , after that it will prefer to make lowercase alphabetically , just same like 'sorted()' function.\n",
    "\n",
    "# So this is the complete understanding of modification of elements in list."
   ]
  },
  {
   "cell_type": "markdown",
   "id": "5b96cccd-6158-424f-b091-65f964f5b8bc",
   "metadata": {},
   "source": [
    "### Delete of elements from the list :-"
   ]
  },
  {
   "cell_type": "code",
   "execution_count": null,
   "id": "ad3cb3c6-cb7d-4b78-bc23-4f83460bb2b9",
   "metadata": {},
   "outputs": [],
   "source": [
    "# some function which works as a delete function in the list are:-\n",
    "\n",
    "# 1 - .remove() \n",
    "# 2 - .pop()\n",
    "# 3 - .clear\n",
    "# 4 - del()\n",
    "# 5 - del >> it will also used to delete a purticular element by using the following index of that element in the argument[].(example of syntax :- del data[])"
   ]
  },
  {
   "cell_type": "code",
   "execution_count": 35,
   "id": "fc28ffcc-0434-4d66-abaf-2e3c1b5600e9",
   "metadata": {},
   "outputs": [],
   "source": [
    "# .remove() function :- helps to remove any purticular elements from the list."
   ]
  },
  {
   "cell_type": "code",
   "execution_count": 36,
   "id": "007c9151-5a7d-4298-b5da-6c1d50937f0e",
   "metadata": {},
   "outputs": [],
   "source": [
    "data = [\"mohsin\" , \"swati\" , \"abhishek\" , 15 , 12 , 55.55 , 65.24 , True , False , \"sanjeev\" , \"Rashika\"] \n",
    "data.remove(\"abhishek\") # this is the way by which we can delete any purticular element from the list."
   ]
  },
  {
   "cell_type": "code",
   "execution_count": 37,
   "id": "82deffb8-445c-4fd5-8e05-553b99e869cb",
   "metadata": {},
   "outputs": [
    {
     "data": {
      "text/plain": [
       "['mohsin', 'swati', 15, 12, 55.55, 65.24, True, False, 'sanjeev', 'Rashika']"
      ]
     },
     "execution_count": 37,
     "metadata": {},
     "output_type": "execute_result"
    }
   ],
   "source": [
    "data # here we can see \"abhishek\" is removed from the list."
   ]
  },
  {
   "cell_type": "code",
   "execution_count": 38,
   "id": "2139bcc0-6922-4aef-accd-ef8384b86d80",
   "metadata": {},
   "outputs": [],
   "source": [
    "data.remove(True) # by this we can remove 'True' from the list."
   ]
  },
  {
   "cell_type": "code",
   "execution_count": 39,
   "id": "f1005718-a674-4ce5-9f37-5102bc1fbba0",
   "metadata": {},
   "outputs": [
    {
     "data": {
      "text/plain": [
       "['mohsin', 'swati', 15, 12, 55.55, 65.24, False, 'sanjeev', 'Rashika']"
      ]
     },
     "execution_count": 39,
     "metadata": {},
     "output_type": "execute_result"
    }
   ],
   "source": [
    "data # here we can see 'True' is removed from the list."
   ]
  },
  {
   "cell_type": "raw",
   "id": "88d7fc5f-2e70-427b-b70b-4b52e0ddd93a",
   "metadata": {},
   "source": [
    "So , this is the use of .remove() function in list."
   ]
  },
  {
   "cell_type": "code",
   "execution_count": 40,
   "id": "39e4ac6e-7357-486a-a56a-87a818e54715",
   "metadata": {},
   "outputs": [],
   "source": [
    "# .pop() function >> it will also delete elements from the list.\n",
    "# if we use .pop() function without argument , then it will remove the last element of the list by default.\n",
    "# and if we use .pop() functiom with argument , then it will delete that purticular element from the list.\n",
    "# .pop() function takes only number of index as argument , else it will through error."
   ]
  },
  {
   "cell_type": "code",
   "execution_count": 41,
   "id": "0d0a2f25-62e3-4e7d-8561-14dd75625f5e",
   "metadata": {},
   "outputs": [
    {
     "data": {
      "text/plain": [
       "'Rashika'"
      ]
     },
     "execution_count": 41,
     "metadata": {},
     "output_type": "execute_result"
    }
   ],
   "source": [
    "# if we use .pop() function , without argument :-\n",
    "data = [\"mohsin\" , \"swati\" , \"abhishek\" , 15 , 12 , 55.55 , 65.24 , True , False , \"sanjeev\" , \"Rashika\"]\n",
    "data.pop() # so here we can see if we did not give any argument , then it will automaticall remove the last element of the list by default."
   ]
  },
  {
   "cell_type": "code",
   "execution_count": 42,
   "id": "32997d3f-5786-4f35-8cc6-85608bcdc5d3",
   "metadata": {},
   "outputs": [
    {
     "data": {
      "text/plain": [
       "['mohsin', 'swati', 'abhishek', 15, 12, 55.55, 65.24, True, False, 'sanjeev']"
      ]
     },
     "execution_count": 42,
     "metadata": {},
     "output_type": "execute_result"
    }
   ],
   "source": [
    "data # it removes the last element of the list automatically."
   ]
  },
  {
   "cell_type": "code",
   "execution_count": 43,
   "id": "2e074159-5e03-454c-81f9-cca5092f2afb",
   "metadata": {},
   "outputs": [
    {
     "data": {
      "text/plain": [
       "'sanjeev'"
      ]
     },
     "execution_count": 43,
     "metadata": {},
     "output_type": "execute_result"
    }
   ],
   "source": [
    "# now lets try again :-\n",
    "data.pop() # so here we can see if we did not give any argument , then it will automaticall remove the last element of the list by default."
   ]
  },
  {
   "cell_type": "code",
   "execution_count": 44,
   "id": "dd7f1915-a0d3-4faf-9040-b7766f2ca569",
   "metadata": {},
   "outputs": [
    {
     "data": {
      "text/plain": [
       "['mohsin', 'swati', 'abhishek', 15, 12, 55.55, 65.24, True, False]"
      ]
     },
     "execution_count": 44,
     "metadata": {},
     "output_type": "execute_result"
    }
   ],
   "source": [
    "data # now here at this time 'sanjeev' is the last element of list ,it removes the last element of the list automatically."
   ]
  },
  {
   "cell_type": "code",
   "execution_count": null,
   "id": "a8fc6a4c-8b49-4cb4-b9f5-9156c79c6287",
   "metadata": {},
   "outputs": [],
   "source": [
    "# this is the use of .pop() function without arguments."
   ]
  },
  {
   "cell_type": "code",
   "execution_count": 45,
   "id": "d6afcc17-4c98-40fd-a260-008f94ad3e60",
   "metadata": {},
   "outputs": [],
   "source": [
    "# .pop() function with argument :- if we use .pop function with argument , then it will delete that specific element of the list:-"
   ]
  },
  {
   "cell_type": "code",
   "execution_count": 46,
   "id": "c8d05786-d463-4c46-9c31-94fa2a4b27a1",
   "metadata": {},
   "outputs": [
    {
     "data": {
      "text/plain": [
       "15"
      ]
     },
     "execution_count": 46,
     "metadata": {},
     "output_type": "execute_result"
    }
   ],
   "source": [
    "data = [\"mohsin\" , \"swati\" , \"abhishek\" , 15 , 12 , 55.55 , 65.24 , True , False , \"sanjeev\" , \"Rashika\"]\n",
    "data.pop(3) # so here we give an argument to remove the value of 3rd index."
   ]
  },
  {
   "cell_type": "code",
   "execution_count": 47,
   "id": "e87b38cb-f721-43d0-aa6f-f97d7d383ed8",
   "metadata": {},
   "outputs": [
    {
     "data": {
      "text/plain": [
       "['mohsin',\n",
       " 'swati',\n",
       " 'abhishek',\n",
       " 12,\n",
       " 55.55,\n",
       " 65.24,\n",
       " True,\n",
       " False,\n",
       " 'sanjeev',\n",
       " 'Rashika']"
      ]
     },
     "execution_count": 47,
     "metadata": {},
     "output_type": "execute_result"
    }
   ],
   "source": [
    "data # here we can see it removes the 3rd index value."
   ]
  },
  {
   "cell_type": "code",
   "execution_count": 50,
   "id": "33f29aeb-478c-4512-9afa-a347fe506d70",
   "metadata": {},
   "outputs": [
    {
     "data": {
      "text/plain": [
       "False"
      ]
     },
     "execution_count": 50,
     "metadata": {},
     "output_type": "execute_result"
    }
   ],
   "source": [
    "data = [\"mohsin\" , \"swati\" , \"abhishek\" , 15 , 12 , 55.55 , 65.24 , True , False , \"sanjeev\" , \"Rashika\"]\n",
    "data.pop(-3) # here we give argument to remove the value of -3rd index."
   ]
  },
  {
   "cell_type": "code",
   "execution_count": 51,
   "id": "16edd69b-db33-4c67-9b97-0203ddb569e8",
   "metadata": {},
   "outputs": [
    {
     "data": {
      "text/plain": [
       "['mohsin',\n",
       " 'swati',\n",
       " 'abhishek',\n",
       " 15,\n",
       " 12,\n",
       " 55.55,\n",
       " 65.24,\n",
       " True,\n",
       " 'sanjeev',\n",
       " 'Rashika']"
      ]
     },
     "execution_count": 51,
     "metadata": {},
     "output_type": "execute_result"
    }
   ],
   "source": [
    "data"
   ]
  },
  {
   "cell_type": "code",
   "execution_count": null,
   "id": "b128b9e7-490b-4d76-8238-a7f1062a6a12",
   "metadata": {},
   "outputs": [],
   "source": [
    "# So , this is the complete understanding of .pop() function."
   ]
  },
  {
   "cell_type": "code",
   "execution_count": 52,
   "id": "cd8f607f-763f-4486-b545-47b821ce1a97",
   "metadata": {},
   "outputs": [],
   "source": [
    "# .clear() function :- it helps to clear the elements of the list and convert into empty list."
   ]
  },
  {
   "cell_type": "code",
   "execution_count": 53,
   "id": "0c2e39ce-9064-4eb8-8a17-f15e3000aafc",
   "metadata": {},
   "outputs": [],
   "source": [
    "# example :-\n",
    "data = [\"mohsin\" , \"swati\" , \"abhishek\" , 15 , 12 , 55.55 , 65.24 , True , False , \"sanjeev\" , \"Rashika\"]\n",
    "data.clear() # this is the peocess to clear the elements of list."
   ]
  },
  {
   "cell_type": "code",
   "execution_count": 54,
   "id": "3e997183-feb5-4b6c-9795-ad0dbd5caf84",
   "metadata": {},
   "outputs": [
    {
     "data": {
      "text/plain": [
       "[]"
      ]
     },
     "execution_count": 54,
     "metadata": {},
     "output_type": "execute_result"
    }
   ],
   "source": [
    "data # here we can see all the elements are cleared and this list converted into empty list."
   ]
  },
  {
   "cell_type": "code",
   "execution_count": 55,
   "id": "20cb7bf4-4101-43c9-bb81-55f2ff50b3b2",
   "metadata": {},
   "outputs": [],
   "source": [
    "names = [\"Mohsin\" , \"Swati\" , \"abhishek\" , \"Bheema\" , \"sanjeev\" , \"adil\"]\n",
    "names.clear()"
   ]
  },
  {
   "cell_type": "code",
   "execution_count": 56,
   "id": "52e49a37-adee-45ac-8a2d-458493fcfd94",
   "metadata": {},
   "outputs": [
    {
     "data": {
      "text/plain": [
       "[]"
      ]
     },
     "execution_count": 56,
     "metadata": {},
     "output_type": "execute_result"
    }
   ],
   "source": [
    "names"
   ]
  },
  {
   "cell_type": "code",
   "execution_count": null,
   "id": "19758176-83bf-43cc-a220-6b35b30e89c7",
   "metadata": {},
   "outputs": [],
   "source": [
    "# This is the understanding of .clear() function in list."
   ]
  },
  {
   "cell_type": "code",
   "execution_count": 57,
   "id": "ab935700-a7b3-41b8-b4e2-76eeea5c5ed3",
   "metadata": {},
   "outputs": [],
   "source": [
    "# del() function :- it will helps to delete the complete list."
   ]
  },
  {
   "cell_type": "code",
   "execution_count": 58,
   "id": "b27d4dbb-ccf4-4f8c-9104-d6146002cc47",
   "metadata": {},
   "outputs": [],
   "source": [
    "# example :-\n",
    "names = [\"Mohsin\" , \"Swati\" , \"abhishek\" , \"Bheema\" , \"sanjeev\" , \"adil\"]\n",
    "del(names) # this is the process by which we can delete the complete list at one short."
   ]
  },
  {
   "cell_type": "code",
   "execution_count": 59,
   "id": "ab249fe8-956f-41e2-9728-24a54216e24e",
   "metadata": {},
   "outputs": [
    {
     "ename": "NameError",
     "evalue": "name 'names' is not defined",
     "output_type": "error",
     "traceback": [
      "\u001b[0;31m---------------------------------------------------------------------------\u001b[0m",
      "\u001b[0;31mNameError\u001b[0m                                 Traceback (most recent call last)",
      "Cell \u001b[0;32mIn[59], line 1\u001b[0m\n\u001b[0;32m----> 1\u001b[0m \u001b[43mnames\u001b[49m\n",
      "\u001b[0;31mNameError\u001b[0m: name 'names' is not defined"
     ]
    }
   ],
   "source": [
    "names # we can see here complete list is deleted , that why here error occuring."
   ]
  },
  {
   "cell_type": "code",
   "execution_count": 60,
   "id": "66f97f98-bb44-4024-88d0-ec0b1b8290fa",
   "metadata": {},
   "outputs": [],
   "source": [
    "# other example :-\n",
    "data = [\"mohsin\" , \"swati\" , \"abhishek\" , 15 , 12 , 55.55 , 65.24 , True , False , \"sanjeev\" , \"Rashika\"]\n",
    "del(data)"
   ]
  },
  {
   "cell_type": "code",
   "execution_count": 61,
   "id": "a53b215a-845d-4bbc-bd67-579f7549d1df",
   "metadata": {},
   "outputs": [
    {
     "ename": "NameError",
     "evalue": "name 'data' is not defined",
     "output_type": "error",
     "traceback": [
      "\u001b[0;31m---------------------------------------------------------------------------\u001b[0m",
      "\u001b[0;31mNameError\u001b[0m                                 Traceback (most recent call last)",
      "Cell \u001b[0;32mIn[61], line 1\u001b[0m\n\u001b[0;32m----> 1\u001b[0m \u001b[43mdata\u001b[49m\n",
      "\u001b[0;31mNameError\u001b[0m: name 'data' is not defined"
     ]
    }
   ],
   "source": [
    "data # we can see here complete list is deleted , that why here error occuring."
   ]
  },
  {
   "cell_type": "code",
   "execution_count": 85,
   "id": "a1f81659-c7bb-434e-9d87-3838c13960b2",
   "metadata": {},
   "outputs": [],
   "source": [
    "# we can also use 'del()' function like this :-\n",
    "# we can also use del() function for deleting any purticular element by providing the following index in the argument:-\n",
    "data = [\"mohsin\" , \"swati\" , \"abhishek\" , 15 , 12 , 55.55 , 65.24 , True , False , \"sanjeev\" , \"Rashika\"]\n",
    "del data[3]"
   ]
  },
  {
   "cell_type": "code",
   "execution_count": 86,
   "id": "87a5d7bc-8295-4397-8833-ca04e1f5fae1",
   "metadata": {},
   "outputs": [
    {
     "data": {
      "text/plain": [
       "['mohsin',\n",
       " 'swati',\n",
       " 'abhishek',\n",
       " 12,\n",
       " 55.55,\n",
       " 65.24,\n",
       " True,\n",
       " False,\n",
       " 'sanjeev',\n",
       " 'Rashika']"
      ]
     },
     "execution_count": 86,
     "metadata": {},
     "output_type": "execute_result"
    }
   ],
   "source": [
    "data # so here we can see index 3rd which is 15 is now deleted from the list."
   ]
  },
  {
   "cell_type": "code",
   "execution_count": 87,
   "id": "12a328d4-b255-4bd2-908f-d697c55e3576",
   "metadata": {},
   "outputs": [],
   "source": [
    "del data[-2]"
   ]
  },
  {
   "cell_type": "code",
   "execution_count": 88,
   "id": "9102473d-e1ca-4ddb-8619-8230d23a5ffb",
   "metadata": {},
   "outputs": [
    {
     "data": {
      "text/plain": [
       "['mohsin', 'swati', 'abhishek', 12, 55.55, 65.24, True, False, 'Rashika']"
      ]
     },
     "execution_count": 88,
     "metadata": {},
     "output_type": "execute_result"
    }
   ],
   "source": [
    "data # so here we can see index -2nd which is 'sanjeev' is now deleted from the list."
   ]
  },
  {
   "cell_type": "code",
   "execution_count": null,
   "id": "1127ad7a-f369-4d5e-a090-4d9fa28a78d1",
   "metadata": {},
   "outputs": [],
   "source": [
    "# so this is use of complete del() function in list."
   ]
  },
  {
   "cell_type": "code",
   "execution_count": null,
   "id": "38e5ccf9-e576-4fcc-880b-13f4d50acba9",
   "metadata": {},
   "outputs": [],
   "source": [
    "# So , this is the complete method of deleting any element , or any purticular element , or complete elements of list , or the complete list."
   ]
  },
  {
   "cell_type": "code",
   "execution_count": null,
   "id": "85fe6c93-0b1b-4674-a185-ad8f8616c6ed",
   "metadata": {},
   "outputs": [],
   "source": [
    "### Some more elements used in list :- >> these elements also helps in modifying or sub-help in modifying the eleemnts in the list :-\n",
    "\n",
    "# 1 - .index()\n",
    "# 2 - .count()\n",
    "# 3 - len()\n",
    "\n",
    "# example  :- like we have uses .index() function in the .pop()."
   ]
  },
  {
   "cell_type": "code",
   "execution_count": 63,
   "id": "7ae4d9cb-1143-45ca-b694-3fa1347bbd6c",
   "metadata": {},
   "outputs": [],
   "source": [
    "# .index() function :- it helps to know the index of element in the list :-"
   ]
  },
  {
   "cell_type": "code",
   "execution_count": 65,
   "id": "00f5b206-9087-4e14-aa62-f7057e9120f9",
   "metadata": {},
   "outputs": [
    {
     "data": {
      "text/plain": [
       "2"
      ]
     },
     "execution_count": 65,
     "metadata": {},
     "output_type": "execute_result"
    }
   ],
   "source": [
    "data = [\"mohsin\" , \"swati\" , \"abhishek\" , 15 , 12 , 55.55 , 65.24 , True , False , \"sanjeev\" , \"Rashika\"]\n",
    "data.index(\"abhishek\") # it will provide that purticular element index number present in the list."
   ]
  },
  {
   "cell_type": "code",
   "execution_count": 67,
   "id": "42211225-cf4f-467a-b8c1-89a6d179dca1",
   "metadata": {},
   "outputs": [
    {
     "data": {
      "text/plain": [
       "6"
      ]
     },
     "execution_count": 67,
     "metadata": {},
     "output_type": "execute_result"
    }
   ],
   "source": [
    "data.index(65.24) # it will provide that purticular element index number present in the list."
   ]
  },
  {
   "cell_type": "code",
   "execution_count": 69,
   "id": "b36bc8dd-8ffb-43cc-873f-80596883ff7e",
   "metadata": {},
   "outputs": [
    {
     "data": {
      "text/plain": [
       "1"
      ]
     },
     "execution_count": 69,
     "metadata": {},
     "output_type": "execute_result"
    }
   ],
   "source": [
    "data.index(\"swati\") #it will provide that purticular element index number present in the list."
   ]
  },
  {
   "cell_type": "code",
   "execution_count": null,
   "id": "e07ee3bb-4914-43c6-85dc-346850d222a5",
   "metadata": {},
   "outputs": [],
   "source": [
    "# this is the process of indexing , means by this function we can get that purticular element index position in the list.\n",
    "# we have to give element in the argument with the .index() function , and then we can know the exact position of that purticular element in the list."
   ]
  },
  {
   "cell_type": "code",
   "execution_count": 70,
   "id": "987c885d-c5a9-4213-a66e-601a237ddc92",
   "metadata": {},
   "outputs": [],
   "source": [
    "# .count function :- it helps to know,  how many times an element present in the list :- \n",
    "# Return number of occurrences of value."
   ]
  },
  {
   "cell_type": "code",
   "execution_count": 71,
   "id": "4fd8eb48-c1f1-459b-b399-05051174fb66",
   "metadata": {},
   "outputs": [
    {
     "data": {
      "text/plain": [
       "1"
      ]
     },
     "execution_count": 71,
     "metadata": {},
     "output_type": "execute_result"
    }
   ],
   "source": [
    "data = [\"mohsin\" , \"swati\" , \"abhishek\" , 15 , 12 , 55.55 , \"mohsin\" , True , False , \"sanjeev\" , \"Rashika\" , \"swati\" , \"mohsin\" , \"swati\"]\n",
    "data.count(\"sanjeev\") # so element 'sanjeev' occurce single time in the list. "
   ]
  },
  {
   "cell_type": "code",
   "execution_count": 72,
   "id": "7f269bd1-4c5e-476b-9324-419f1a1e7329",
   "metadata": {},
   "outputs": [
    {
     "data": {
      "text/plain": [
       "3"
      ]
     },
     "execution_count": 72,
     "metadata": {},
     "output_type": "execute_result"
    }
   ],
   "source": [
    "data.count(\"swati\") # so element 'swati' occurce three time in the list. "
   ]
  },
  {
   "cell_type": "code",
   "execution_count": 73,
   "id": "7261c9c7-f1a2-4992-b99b-d077c4dd74ac",
   "metadata": {},
   "outputs": [
    {
     "data": {
      "text/plain": [
       "3"
      ]
     },
     "execution_count": 73,
     "metadata": {},
     "output_type": "execute_result"
    }
   ],
   "source": [
    "data.count(\"mohsin\") # so element 'mohsin' also occurce three time in the list. "
   ]
  },
  {
   "cell_type": "code",
   "execution_count": null,
   "id": "5307219f-2ec2-4098-ae97-2cfa4cdced3d",
   "metadata": {},
   "outputs": [],
   "source": [
    "# So this is the complete process of .count() function . By this we can know the times of occurence of any purticular element in the list."
   ]
  },
  {
   "cell_type": "code",
   "execution_count": 74,
   "id": "5b16667c-5150-4f4d-8b38-172e29226485",
   "metadata": {},
   "outputs": [],
   "source": [
    "# len function :- it helps to know the total lenght of the list. Syntax of length >> len()\n",
    "# we can also say that total number of elements = length of the list."
   ]
  },
  {
   "cell_type": "code",
   "execution_count": 75,
   "id": "00529a61-23d0-448b-92e0-b87561cf1aa0",
   "metadata": {},
   "outputs": [
    {
     "data": {
      "text/plain": [
       "14"
      ]
     },
     "execution_count": 75,
     "metadata": {},
     "output_type": "execute_result"
    }
   ],
   "source": [
    "data = [\"mohsin\" , \"swati\" , \"abhishek\" , 15 , 12 , 55.55 , \"mohsin\" , True , False , \"sanjeev\" , \"Rashika\" , \"swati\" , \"mohsin\" , \"swati\"]\n",
    "len(data) # here we can see the total element in the list is 14, that's why length of this list is 14."
   ]
  },
  {
   "cell_type": "code",
   "execution_count": 76,
   "id": "67de07a6-ca87-487f-8719-e80be87a1a9c",
   "metadata": {},
   "outputs": [
    {
     "data": {
      "text/plain": [
       "11"
      ]
     },
     "execution_count": 76,
     "metadata": {},
     "output_type": "execute_result"
    }
   ],
   "source": [
    "data = [\"mohsin\" , \"swati\" , \"abhishek\" , 15 , 12 , 55.55 , 65.24 , True , False , \"sanjeev\" , \"Rashika\"]\n",
    "len(data)  # here we can see the total element in the list is 11, that's why length of this list is 11."
   ]
  },
  {
   "cell_type": "code",
   "execution_count": 77,
   "id": "f5136c0e-8795-4243-9a7a-03abc8bff31d",
   "metadata": {},
   "outputs": [
    {
     "data": {
      "text/plain": [
       "6"
      ]
     },
     "execution_count": 77,
     "metadata": {},
     "output_type": "execute_result"
    }
   ],
   "source": [
    "names = [\"Mohsin\" , \"Swati\" , \"abhishek\" , \"Bheema\" , \"sanjeev\" , \"adil\"]\n",
    "len(names)   # here we can see the total element in the list is 6, that's why length of this list is 6."
   ]
  },
  {
   "cell_type": "code",
   "execution_count": null,
   "id": "8de1847e-1f46-4069-bb10-6c5ccb137432",
   "metadata": {},
   "outputs": [],
   "source": [
    "# So , this is the complete understanding of accessing , modification and deleting of elements in the list."
   ]
  },
  {
   "cell_type": "markdown",
   "id": "46961862-3d09-4a2b-a46e-a52557f9307f",
   "metadata": {},
   "source": [
    "## Question 4 - Compare and contrast tuples and list with examples :-"
   ]
  },
  {
   "cell_type": "code",
   "execution_count": null,
   "id": "a7824f1f-94cd-44fc-8ba6-49232f9f8672",
   "metadata": {},
   "outputs": [],
   "source": [
    "# Ans - The complete compare and contrast of tuple and list with examples are given below in deep :-"
   ]
  },
  {
   "cell_type": "code",
   "execution_count": null,
   "id": "e62605e3-a488-462a-b419-82d7c31971d8",
   "metadata": {},
   "outputs": [],
   "source": [
    "      # List :- # List is an ordered collection of data.\n",
    "              # List is mutable data structure.\n",
    "              # List is hetrogenous data structure.\n",
    "              # syntax of list :- [] sqaure bracket.\n",
    "              # we can add , remove , insert, or extend a list.\n",
    "              # list is accessible and can be manipulated easily.\n",
    "              # list are unhashable data structure.(means dont't have stable memory block address)\n",
    "              # list in list is also possible."
   ]
  },
  {
   "cell_type": "code",
   "execution_count": null,
   "id": "4ae34806-caeb-47b9-9e02-ff509112bddb",
   "metadata": {},
   "outputs": [],
   "source": [
    "# we can also manipulate the data :-"
   ]
  },
  {
   "cell_type": "code",
   "execution_count": 10,
   "id": "c0091996-0198-4586-822e-da1aaf6de97a",
   "metadata": {},
   "outputs": [
    {
     "data": {
      "text/plain": [
       "55.55"
      ]
     },
     "execution_count": 10,
     "metadata": {},
     "output_type": "execute_result"
    }
   ],
   "source": [
    "data = [\"mohsin\" , \"swati\" , \"abhishek\" , 15 , 12 , 55.55 , 65.24 , True , False , \"sanjeev\" , \"Rashika\"]\n",
    "data[5]"
   ]
  },
  {
   "cell_type": "code",
   "execution_count": 11,
   "id": "9f1bdbcb-b10e-4d28-bbac-2024c5315aaf",
   "metadata": {},
   "outputs": [],
   "source": [
    "data[5] = \"narnia\""
   ]
  },
  {
   "cell_type": "code",
   "execution_count": 12,
   "id": "0be7235e-263d-468a-b8ea-a0d0d4e8a30b",
   "metadata": {},
   "outputs": [
    {
     "data": {
      "text/plain": [
       "['mohsin',\n",
       " 'swati',\n",
       " 'abhishek',\n",
       " 15,\n",
       " 12,\n",
       " 'narnia',\n",
       " 65.24,\n",
       " True,\n",
       " False,\n",
       " 'sanjeev',\n",
       " 'Rashika']"
      ]
     },
     "execution_count": 12,
     "metadata": {},
     "output_type": "execute_result"
    }
   ],
   "source": [
    "data # we can see here we can change the value of 5th index."
   ]
  },
  {
   "cell_type": "code",
   "execution_count": 1,
   "id": "6c02eb46-7ec9-424f-b013-e61d0e8ff478",
   "metadata": {},
   "outputs": [],
   "source": [
    "# examples :-\n",
    "data = [\"mohsin\" , \"swati\" , \"abhishek\" , 15 , 12 , 55.55 , 65.24 , True , False , \"sanjeev\" , \"Rashika\"]\n",
    "data.append(\"radhelal\")"
   ]
  },
  {
   "cell_type": "code",
   "execution_count": 2,
   "id": "4ebbd8b5-2ec7-48f5-86ee-f79fd1564c48",
   "metadata": {},
   "outputs": [
    {
     "data": {
      "text/plain": [
       "['mohsin',\n",
       " 'swati',\n",
       " 'abhishek',\n",
       " 15,\n",
       " 12,\n",
       " 55.55,\n",
       " 65.24,\n",
       " True,\n",
       " False,\n",
       " 'sanjeev',\n",
       " 'Rashika',\n",
       " 'radhelal']"
      ]
     },
     "execution_count": 2,
     "metadata": {},
     "output_type": "execute_result"
    }
   ],
   "source": [
    "data # so here we can see , we can add element in the list."
   ]
  },
  {
   "cell_type": "code",
   "execution_count": 3,
   "id": "0352f0cf-7d6c-49b3-b6ad-655801604df9",
   "metadata": {},
   "outputs": [],
   "source": [
    "# we can also insert any element at any specific place in the list :-\n",
    "data = [\"mohsin\" , \"swati\" , \"abhishek\" , 15 , 12 , 55.55 , 65.24 , True , False , \"sanjeev\" , \"Rashika\"]\n",
    "data.insert(3,\"haldiram\")"
   ]
  },
  {
   "cell_type": "code",
   "execution_count": 4,
   "id": "53c19f3b-d610-4488-a7a6-0eac26736c1f",
   "metadata": {},
   "outputs": [
    {
     "data": {
      "text/plain": [
       "['mohsin',\n",
       " 'swati',\n",
       " 'abhishek',\n",
       " 'haldiram',\n",
       " 15,\n",
       " 12,\n",
       " 55.55,\n",
       " 65.24,\n",
       " True,\n",
       " False,\n",
       " 'sanjeev',\n",
       " 'Rashika']"
      ]
     },
     "execution_count": 4,
     "metadata": {},
     "output_type": "execute_result"
    }
   ],
   "source": [
    "data # so haldiram added at specific place in the list."
   ]
  },
  {
   "cell_type": "code",
   "execution_count": 5,
   "id": "4ed86289-c86e-43f1-9271-cd674a971f26",
   "metadata": {},
   "outputs": [],
   "source": [
    "# we can also remove any data from the list:-\n",
    "data = [\"mohsin\" , \"swati\" , \"abhishek\" , 15 , 12 , 55.55 , 65.24 , True , False , \"sanjeev\" , \"Rashika\"]\n",
    "data.remove(\"swati\")"
   ]
  },
  {
   "cell_type": "code",
   "execution_count": 6,
   "id": "df464b8d-22a3-4411-ac6e-38c6b63777a1",
   "metadata": {},
   "outputs": [
    {
     "data": {
      "text/plain": [
       "['mohsin', 'abhishek', 15, 12, 55.55, 65.24, True, False, 'sanjeev', 'Rashika']"
      ]
     },
     "execution_count": 6,
     "metadata": {},
     "output_type": "execute_result"
    }
   ],
   "source": [
    "data # it will remove swati element from the list."
   ]
  },
  {
   "cell_type": "code",
   "execution_count": 7,
   "id": "5691cf07-45c9-476d-b82e-bff69c099ab8",
   "metadata": {},
   "outputs": [],
   "source": [
    "# we can also extend a list by another list :-\n",
    "data = [\"mohsin\" , \"swati\" , \"abhishek\" , 15 , 12 , 55.55 , 65.24 , True , False , \"sanjeev\" , \"Rashika\"]\n",
    "lis1 = [\"mohini\" , \"lala\" , 15 , 25 ]"
   ]
  },
  {
   "cell_type": "code",
   "execution_count": 8,
   "id": "c01977ff-4761-46f4-8a73-2e04519bbe55",
   "metadata": {},
   "outputs": [],
   "source": [
    "data.extend(lis1)"
   ]
  },
  {
   "cell_type": "code",
   "execution_count": 9,
   "id": "168610d1-542a-4c34-8158-eeb8c71ba5c9",
   "metadata": {},
   "outputs": [
    {
     "data": {
      "text/plain": [
       "['mohsin',\n",
       " 'swati',\n",
       " 'abhishek',\n",
       " 15,\n",
       " 12,\n",
       " 55.55,\n",
       " 65.24,\n",
       " True,\n",
       " False,\n",
       " 'sanjeev',\n",
       " 'Rashika',\n",
       " 'mohini',\n",
       " 'lala',\n",
       " 15,\n",
       " 25]"
      ]
     },
     "execution_count": 9,
     "metadata": {},
     "output_type": "execute_result"
    }
   ],
   "source": [
    "data # so data list is extended by lis1 list."
   ]
  },
  {
   "cell_type": "code",
   "execution_count": null,
   "id": "52c7ceb4-3f76-433f-9493-a9f97279534b",
   "metadata": {},
   "outputs": [],
   "source": [
    "# There are so many functions in list by which we can manipulate data of list."
   ]
  },
  {
   "cell_type": "markdown",
   "id": "376a4f60-f13a-4cbe-9148-1146945c499a",
   "metadata": {},
   "source": [
    "### Tuples:-"
   ]
  },
  {
   "cell_type": "code",
   "execution_count": null,
   "id": "33d10081-e80e-4e5a-9671-6864bbc2e3ae",
   "metadata": {},
   "outputs": [],
   "source": [
    "# Tuples :- # Tuples is also an ordered collecetion of fixed elements , which cannot be remove or replace.\n",
    "          # Tuples is immutable data structure.\n",
    "          # tuples is also a hetrogenous data structure.\n",
    "          # syntax of tuples :- () parenthesis.\n",
    "          # We cannot add , remove or extend elements in tuples.\n",
    "          # tuples are accessible but cannot be manipulated.\n",
    "          # tuples are hashable data structure.(means tuples have stable memory block address)\n",
    "          # in tuples we can get access of index , and can know about the times occurenece of an element in the list.\n",
    "          # tuples in tuples is possible."
   ]
  },
  {
   "cell_type": "code",
   "execution_count": 14,
   "id": "a3c30f91-3e7c-4a8f-bcc8-efc99ae2abe4",
   "metadata": {},
   "outputs": [
    {
     "name": "stdout",
     "output_type": "stream",
     "text": [
      "('mohsin', 'swati', 'zeba', 15, 25, 25.25, True, False)\n",
      "<class 'tuple'>\n"
     ]
    }
   ],
   "source": [
    "# presentation of tuples :-\n",
    "\n",
    "data = (\"mohsin\" , \"swati\" , \"zeba\", 15 , 25 , 25.25 , True , False) # this is a tuple.\n",
    "print(data)\n",
    "print(type(data)) # so its proved that tuples are also a hetrogenous data structure."
   ]
  },
  {
   "cell_type": "code",
   "execution_count": 15,
   "id": "86964f88-29b2-427c-8c28-117186a056ed",
   "metadata": {},
   "outputs": [
    {
     "data": {
      "text/plain": [
       "'zeba'"
      ]
     },
     "execution_count": 15,
     "metadata": {},
     "output_type": "execute_result"
    }
   ],
   "source": [
    "# let's try to access the tuple :-\n",
    "data = (\"mohsin\" , \"swati\" , \"zeba\", 15 , 25 , 25.25 , True , False)\n",
    "data[2]"
   ]
  },
  {
   "cell_type": "code",
   "execution_count": 16,
   "id": "6e2eb220-6b0a-469f-b7c4-a9b675831183",
   "metadata": {},
   "outputs": [
    {
     "data": {
      "text/plain": [
       "25.25"
      ]
     },
     "execution_count": 16,
     "metadata": {},
     "output_type": "execute_result"
    }
   ],
   "source": [
    "data[5]"
   ]
  },
  {
   "cell_type": "code",
   "execution_count": 17,
   "id": "ed1aac45-0244-4d92-ac89-8fdee005c176",
   "metadata": {},
   "outputs": [
    {
     "data": {
      "text/plain": [
       "25.25"
      ]
     },
     "execution_count": 17,
     "metadata": {},
     "output_type": "execute_result"
    }
   ],
   "source": [
    "data[-3]"
   ]
  },
  {
   "cell_type": "code",
   "execution_count": null,
   "id": "55566435-8c94-47e1-bf83-3985a1d30cbf",
   "metadata": {},
   "outputs": [],
   "source": [
    "# so , its proved that tuples can be accesseble."
   ]
  },
  {
   "cell_type": "code",
   "execution_count": 18,
   "id": "92d847f1-db36-4cfb-8bbe-5c555b8ad597",
   "metadata": {},
   "outputs": [],
   "source": [
    "# now lets try to manipulate the data :-"
   ]
  },
  {
   "cell_type": "code",
   "execution_count": 19,
   "id": "e754207b-16ea-4364-b8a1-e5fc42e7ec64",
   "metadata": {},
   "outputs": [
    {
     "data": {
      "text/plain": [
       "True"
      ]
     },
     "execution_count": 19,
     "metadata": {},
     "output_type": "execute_result"
    }
   ],
   "source": [
    "data = (\"mohsin\" , \"swati\" , \"zeba\", 15 , 25 , 25.25 , True , False)\n",
    "data[-2]"
   ]
  },
  {
   "cell_type": "code",
   "execution_count": 20,
   "id": "3a5e86e8-8b53-4387-b152-e00f33bbefb5",
   "metadata": {},
   "outputs": [
    {
     "ename": "TypeError",
     "evalue": "'tuple' object does not support item assignment",
     "output_type": "error",
     "traceback": [
      "\u001b[0;31m---------------------------------------------------------------------------\u001b[0m",
      "\u001b[0;31mTypeError\u001b[0m                                 Traceback (most recent call last)",
      "Cell \u001b[0;32mIn[20], line 1\u001b[0m\n\u001b[0;32m----> 1\u001b[0m \u001b[43mdata\u001b[49m\u001b[43m[\u001b[49m\u001b[38;5;241;43m-\u001b[39;49m\u001b[38;5;241;43m2\u001b[39;49m\u001b[43m]\u001b[49m \u001b[38;5;241m=\u001b[39m \u001b[38;5;124m\"\u001b[39m\u001b[38;5;124mmohsin\u001b[39m\u001b[38;5;124m\"\u001b[39m\n",
      "\u001b[0;31mTypeError\u001b[0m: 'tuple' object does not support item assignment"
     ]
    }
   ],
   "source": [
    "data[-2] = \"mohsin\" # we get error that tuple does not support item assignment , because tuple are immutable , they cannot be manipulated by anyways."
   ]
  },
  {
   "cell_type": "code",
   "execution_count": null,
   "id": "0abe3274-f8e0-41bd-bc07-a529d9839a75",
   "metadata": {},
   "outputs": [],
   "source": [
    "# so , its proved that tuples are immutable."
   ]
  },
  {
   "cell_type": "code",
   "execution_count": null,
   "id": "1e39fed7-4b48-4677-9072-afbbc2fadd2a",
   "metadata": {},
   "outputs": [],
   "source": [
    "# some function of tuples :-\n",
    "\n",
    "# .index()   # helps to know the place of an element in the tuple.\n",
    "# .count()   # helps to know the number of occurence of a element present in the tuple.\n",
    "#  max()     # helps to know the maximum value of element in the tuples.\n",
    "#  min()     # helps to knoe the minimum value of element in the tuples.\n",
    "#  len()     # helps to know the complete length of tuple.\n",
    "#  del()     # helps to delete the complete tuple.\n",
    "#  concatenation  # helps to add two tuple and make a new tuple."
   ]
  },
  {
   "cell_type": "code",
   "execution_count": 22,
   "id": "25e387e4-6adc-44a1-aaec-9af15a6e53df",
   "metadata": {},
   "outputs": [
    {
     "data": {
      "text/plain": [
       "1"
      ]
     },
     "execution_count": 22,
     "metadata": {},
     "output_type": "execute_result"
    }
   ],
   "source": [
    "# example :-\n",
    "data = (\"mohsin\" , \"swati\" , \"zeba\", 15 , 25 , 25.25 , True , False)\n",
    "data.index(\"swati\")"
   ]
  },
  {
   "cell_type": "code",
   "execution_count": 23,
   "id": "a5ccf925-5c6c-4bb4-b353-beaf4c80273a",
   "metadata": {},
   "outputs": [
    {
     "data": {
      "text/plain": [
       "3"
      ]
     },
     "execution_count": 23,
     "metadata": {},
     "output_type": "execute_result"
    }
   ],
   "source": [
    "data.index(15)"
   ]
  },
  {
   "cell_type": "code",
   "execution_count": null,
   "id": "a0c6d862-2323-4ed1-8029-190f95a0ec2b",
   "metadata": {},
   "outputs": [],
   "source": [
    "# by this process we can know the index of elements in the tuples."
   ]
  },
  {
   "cell_type": "code",
   "execution_count": 24,
   "id": "f80a097c-2c96-44e6-ae97-20b6caebb136",
   "metadata": {},
   "outputs": [
    {
     "data": {
      "text/plain": [
       "3"
      ]
     },
     "execution_count": 24,
     "metadata": {},
     "output_type": "execute_result"
    }
   ],
   "source": [
    "data = (\"mohsin\" , \"swati\" , \"zeba\", 15 , 25 , 25.25 , True , False, \"mohsin\" , \"swati\" , \"mohsin\" , \"swati\" , 15 ,)\n",
    "data.count(\"mohsin\")"
   ]
  },
  {
   "cell_type": "code",
   "execution_count": 25,
   "id": "075e6630-749b-4a92-bfa9-4b3277defe7e",
   "metadata": {},
   "outputs": [
    {
     "data": {
      "text/plain": [
       "3"
      ]
     },
     "execution_count": 25,
     "metadata": {},
     "output_type": "execute_result"
    }
   ],
   "source": [
    "data.count(\"swati\")"
   ]
  },
  {
   "cell_type": "code",
   "execution_count": 26,
   "id": "425eda0a-7d9d-47a4-a3af-49bdf3b3b5d0",
   "metadata": {},
   "outputs": [
    {
     "data": {
      "text/plain": [
       "2"
      ]
     },
     "execution_count": 26,
     "metadata": {},
     "output_type": "execute_result"
    }
   ],
   "source": [
    "data.count(15)"
   ]
  },
  {
   "cell_type": "code",
   "execution_count": null,
   "id": "69a9362d-dbfb-4ef3-8a4e-b05013428034",
   "metadata": {},
   "outputs": [],
   "source": [
    "# so this is the process by which we can get the count of an element in the tuple."
   ]
  },
  {
   "cell_type": "code",
   "execution_count": 28,
   "id": "e1b375c5-bc16-4b7c-9a07-b2439582d093",
   "metadata": {},
   "outputs": [
    {
     "data": {
      "text/plain": [
       "147"
      ]
     },
     "execution_count": 28,
     "metadata": {},
     "output_type": "execute_result"
    }
   ],
   "source": [
    "num = (15 , 25 ,12 , 45 , 80 , 45 , 15 , 100 , 147 , 10)\n",
    "max(num)"
   ]
  },
  {
   "cell_type": "code",
   "execution_count": 29,
   "id": "cd12baf9-b9b5-4bc3-833b-941862e29821",
   "metadata": {},
   "outputs": [
    {
     "data": {
      "text/plain": [
       "10"
      ]
     },
     "execution_count": 29,
     "metadata": {},
     "output_type": "execute_result"
    }
   ],
   "source": [
    "min(num)"
   ]
  },
  {
   "cell_type": "code",
   "execution_count": null,
   "id": "38a77631-6632-442d-b14e-7355aac6a684",
   "metadata": {},
   "outputs": [],
   "source": [
    "# this are the process by which we can know the maximum and minimum value elements in the tuple."
   ]
  },
  {
   "cell_type": "code",
   "execution_count": 30,
   "id": "3d486d76-8d30-4c5f-8736-799dd2a08a7a",
   "metadata": {},
   "outputs": [
    {
     "data": {
      "text/plain": [
       "8"
      ]
     },
     "execution_count": 30,
     "metadata": {},
     "output_type": "execute_result"
    }
   ],
   "source": [
    "data = (\"mohsin\" , \"swati\" , \"zeba\", 15 , 25 , 25.25 , True , False)\n",
    "len(data)"
   ]
  },
  {
   "cell_type": "code",
   "execution_count": 31,
   "id": "1cd32380-cd49-419f-b208-743c09aef1e1",
   "metadata": {},
   "outputs": [
    {
     "data": {
      "text/plain": [
       "10"
      ]
     },
     "execution_count": 31,
     "metadata": {},
     "output_type": "execute_result"
    }
   ],
   "source": [
    "num = (15 , 25 ,12 , 45 , 80 , 45 , 15 , 100 , 147 , 10)\n",
    "len(num)"
   ]
  },
  {
   "cell_type": "code",
   "execution_count": null,
   "id": "abec3b71-153f-49c4-aa45-4a2e44a46c72",
   "metadata": {},
   "outputs": [],
   "source": [
    "# so this is the use of len function in tuple , by this we can get the total length of any tuple."
   ]
  },
  {
   "cell_type": "code",
   "execution_count": 33,
   "id": "900d718d-b45f-4add-925a-231c9f2fbc5c",
   "metadata": {},
   "outputs": [],
   "source": [
    "num = (15 , 25 ,12 , 45 , 80 , 45 , 15 , 100 , 147 , 10)\n",
    "del(num)"
   ]
  },
  {
   "cell_type": "code",
   "execution_count": 34,
   "id": "211e7f9e-8564-4d62-91a1-36647fdfca2d",
   "metadata": {},
   "outputs": [
    {
     "ename": "NameError",
     "evalue": "name 'num' is not defined",
     "output_type": "error",
     "traceback": [
      "\u001b[0;31m---------------------------------------------------------------------------\u001b[0m",
      "\u001b[0;31mNameError\u001b[0m                                 Traceback (most recent call last)",
      "Cell \u001b[0;32mIn[34], line 1\u001b[0m\n\u001b[0;32m----> 1\u001b[0m \u001b[43mnum\u001b[49m\n",
      "\u001b[0;31mNameError\u001b[0m: name 'num' is not defined"
     ]
    }
   ],
   "source": [
    "num # here we can see num list is deleted , that's why error come."
   ]
  },
  {
   "cell_type": "code",
   "execution_count": 35,
   "id": "21214eaa-f94e-45cb-b7ed-4d94644f8a5b",
   "metadata": {},
   "outputs": [],
   "source": [
    "data = (\"mohsin\" , \"swati\" , \"zeba\", 15 , 25 , 25.25 , True , False)\n",
    "del(data)"
   ]
  },
  {
   "cell_type": "code",
   "execution_count": 36,
   "id": "d7a078cb-310a-4e3c-9ffa-bc2b07e32632",
   "metadata": {},
   "outputs": [
    {
     "ename": "NameError",
     "evalue": "name 'data' is not defined",
     "output_type": "error",
     "traceback": [
      "\u001b[0;31m---------------------------------------------------------------------------\u001b[0m",
      "\u001b[0;31mNameError\u001b[0m                                 Traceback (most recent call last)",
      "Cell \u001b[0;32mIn[36], line 1\u001b[0m\n\u001b[0;32m----> 1\u001b[0m \u001b[43mdata\u001b[49m\n",
      "\u001b[0;31mNameError\u001b[0m: name 'data' is not defined"
     ]
    }
   ],
   "source": [
    "data # here we can see data list is deleted , that's why error come."
   ]
  },
  {
   "cell_type": "markdown",
   "id": "ac183014-9420-4288-88c9-108376fa87b2",
   "metadata": {},
   "source": [
    "### Comparing and contrasting :-"
   ]
  },
  {
   "cell_type": "code",
   "execution_count": null,
   "id": "ee0d87be-62c7-4956-ac23-54b2b9fc262e",
   "metadata": {},
   "outputs": [],
   "source": [
    "# List :-\n",
    "\n",
    "# 1 - List is a ordered collection of data.\n",
    "# 2 - List is a mutable data structure.\n",
    "# 3 - List is a hetrogenous data structure.\n",
    "# 4 - Syntax of list = [] square bracket.\n",
    "# 5 - In list we can add , remove , insert , and so many diffrent modification can be done by using its function.\n",
    "# 6 - In list we can also extend a list by another list.\n",
    "# 7 - list in list is possibel.\n",
    "# 8 - List can be modify after the creation of list.\n",
    "# 9 - List are Unhashable type data structure. It means list have not fixed memory block address.\n",
    "# 10 - List consume more memory.\n",
    "# 11 - We can do slicing in list.\n",
    "\n",
    "# Tuple:-\n",
    "\n",
    "# 1 - Tuple is also an ordered collection of fixexd elements , which cannot be manipulated.\n",
    "# 2 - Tuples are immutable.\n",
    "# 3 - Tuples are also a hetrogenous data structure.\n",
    "# 4 - Syntax of tuple = () parenthesis.\n",
    "# 5 - In tuple we cannnot do any type of modication , after the creation of tuple.\n",
    "# 6 - Tuples in tuples also possible.\n",
    "# 7 - Tuples only can be accesseble.\n",
    "# 8 - Tuples only explain about indexing , counting and delete functions in the tuples, some more functions also have tuples (like min() , max()).\n",
    "# 9 - Tuples are Hasahable type data structure. It means tuples are fixed memory block address.\n",
    "# 10 - Tuples consume less memory.\n",
    "# 11 - we can do slicing in tuples."
   ]
  },
  {
   "cell_type": "markdown",
   "id": "0177773d-81c1-4d56-b621-853d72d3cb5f",
   "metadata": {},
   "source": [
    "## Question 5 - Describe the key features of sets and provide examples of their use. "
   ]
  },
  {
   "cell_type": "code",
   "execution_count": null,
   "id": "66f66bc9-511c-4e0e-b789-dd34184b26ad",
   "metadata": {},
   "outputs": [],
   "source": [
    "# Ans - Sets :- Set is an unordered collection of unique elements.\n",
    "            # Set never duplicate the elements ,  because set is a collection of unique data.\n",
    "            # Set is a mutable data structure.\n",
    "            # Set is a mutable data structure , but we cannot access the elements of sets , it means indexing process is not available in set.\n",
    "            # But we can manipulate the elements of sets by the use of function's of sets.\n",
    "            # Set is a hetrogenous data structure.\n",
    "            # Set is a Unhashable type data structure ,but set require hashable elements only.\n",
    "            # Set in Set is not possible (unhashable data type error occurs.)\n",
    "            # Sets only requre Hashable type data srtucture (string , tuples only) ,  it means sets can have string and tuples in set. \n",
    "            # Syntax of set = {} curly bracket."
   ]
  },
  {
   "cell_type": "code",
   "execution_count": null,
   "id": "c08e043d-6660-4981-aaa8-9ec2371b060b",
   "metadata": {},
   "outputs": [],
   "source": [
    "# Key features of sets:-\n",
    "\n",
    "# Set is an unordered collection of unique elements.\n",
    "# Set never duplicate the elements ,  because set is a collection of unique data.\n",
    "# Set is a mutable data structure.\n",
    "# Set is a mutable data structure , but we cannot access the elements of sets , it means indexing process is not available in set.\n",
    "# But we can manipulate the elements of sets by the use of function's of sets.\n",
    "# Set is a hetrogenous data structure.\n",
    "# Set is a Unhashable type data structure ,but set require hashable elements only.\n",
    "# Set in Set is not possible (unhashable data type error occurs.)\n",
    "# Sets only require Hashable type data srtucture (string , tuples only) ,  it means sets can have string and tuples in set. \n",
    "# Syntax of set = {} curly bracket."
   ]
  },
  {
   "cell_type": "code",
   "execution_count": 37,
   "id": "9cd3973b-5285-4712-82b8-5d4d8b4baf34",
   "metadata": {},
   "outputs": [],
   "source": [
    "# Examples of features of sets :-"
   ]
  },
  {
   "cell_type": "code",
   "execution_count": 39,
   "id": "1dd467a7-e97d-4476-8f20-da0fc388a639",
   "metadata": {},
   "outputs": [
    {
     "data": {
      "text/plain": [
       "set"
      ]
     },
     "execution_count": 39,
     "metadata": {},
     "output_type": "execute_result"
    }
   ],
   "source": [
    "# presentation of sets and syntax of sets :-\n",
    "sets = {1,2}\n",
    "type(sets)"
   ]
  },
  {
   "cell_type": "code",
   "execution_count": 40,
   "id": "634efbf2-f48b-4d9e-8f59-18c42ecb110f",
   "metadata": {},
   "outputs": [
    {
     "name": "stdout",
     "output_type": "stream",
     "text": [
      "{False, True, 80.25, 'mohsin', 'rashika', 15}\n",
      "<class 'set'>\n"
     ]
    }
   ],
   "source": [
    "# Set is unordered collection of unique elements:-\n",
    "data = {\"mohsin\" , \"rashika\" , \"mohsin\" , \"rashika\" , \"mohsin\" , 15 , 80.25 , 15 , True , True , 80.25,False ,80.25,False} # this is a data.\n",
    "print(data)\n",
    "print(type(data))"
   ]
  },
  {
   "cell_type": "code",
   "execution_count": 44,
   "id": "1bd342f8-44aa-4238-9825-c4c65faa53d9",
   "metadata": {},
   "outputs": [
    {
     "data": {
      "text/plain": [
       "{15, 25, 25.25, 'mohsin', 'raj'}"
      ]
     },
     "execution_count": 44,
     "metadata": {},
     "output_type": "execute_result"
    }
   ],
   "source": [
    "sets = {15 , 25 , \"mohsin\" , \"raj\" , 25.25, 15 , 25 , \"mohsin\" , \"raj\"}\n",
    "sets # so here we can see , sets automatically deleted the duplication of elements."
   ]
  },
  {
   "cell_type": "code",
   "execution_count": null,
   "id": "9c7d7759-3918-4f85-b84c-b063441d5311",
   "metadata": {},
   "outputs": [],
   "source": [
    "# So , by this example , we can understand that set is unordered , because we can see there is no order in the result, randomly any element comes first and any elements can go to last or any place , so there is no fixed index of any elements in the sets , that's why we say sets are unordered collection of data.\n",
    "# And this is the reason , by which we cannot access or get index of any elements in sets , because of its unordered behaviour.\n",
    "\n",
    "# And here we can also see that , sets is a collection of unique elements , sets not duplicate the elements, it's delete the duplication of elements automatically , this is also a reason for not indexing in the sets.  \n",
    "\n"
   ]
  },
  {
   "cell_type": "code",
   "execution_count": 45,
   "id": "6fd60a7b-49a7-440e-945d-ab54936cacf6",
   "metadata": {},
   "outputs": [],
   "source": [
    "# Set never duplicate the elements ,  because set is a collection of unique data."
   ]
  },
  {
   "cell_type": "code",
   "execution_count": 46,
   "id": "b518e525-389e-48db-a648-2737cfec3992",
   "metadata": {},
   "outputs": [
    {
     "name": "stdout",
     "output_type": "stream",
     "text": [
      "{'swati', 'mohsin', 'zeba', 'abhishek'}\n",
      "<class 'set'>\n"
     ]
    }
   ],
   "source": [
    "# example :\n",
    "name = {\"mohsin\" , \"abhishek\" , \"mohsin\" , \"abhishek\" , \"swati\" , \"swati\" , \"zeba\" , \"swati\" , \"zeba\"}\n",
    "print(name)\n",
    "print(type(name))"
   ]
  },
  {
   "cell_type": "code",
   "execution_count": null,
   "id": "6ace82c2-c027-46cf-83e3-de4593c5cee0",
   "metadata": {},
   "outputs": [],
   "source": [
    "# so , here we can see , sets not duplicate the elements , it will automatically delete the duplication of elements."
   ]
  },
  {
   "cell_type": "code",
   "execution_count": 47,
   "id": "99e989c7-18a9-4c18-9a7a-1ea6bec9eb2c",
   "metadata": {},
   "outputs": [
    {
     "name": "stdout",
     "output_type": "stream",
     "text": [
      "{False, True, 80.25, 'mohsin', (3+5j), 'rashika', 15}\n",
      "<class 'set'>\n"
     ]
    }
   ],
   "source": [
    "# Set is a hetrogenous data structure.\n",
    "# example :-\n",
    "sets = {\"mohsin\" , \"rashika\" , \"mohsin\" , \"rashika\" , \"mohsin\" , 15 , 80.25 , 15 , True , True , 80.25,False ,80.25,False , 3+5j}\n",
    "print(sets)\n",
    "print(type(sets))"
   ]
  },
  {
   "cell_type": "code",
   "execution_count": null,
   "id": "de340751-d4b0-4e6e-a3b1-eca716b3593c",
   "metadata": {},
   "outputs": [],
   "source": [
    "# so its proved , sets is a hetrogenous types data structure , it can contain any type of data."
   ]
  },
  {
   "cell_type": "code",
   "execution_count": 49,
   "id": "05d953c4-c1ff-4f5d-86e9-22a1ddc640bf",
   "metadata": {},
   "outputs": [
    {
     "ename": "TypeError",
     "evalue": "unhashable type: 'list'",
     "output_type": "error",
     "traceback": [
      "\u001b[0;31m---------------------------------------------------------------------------\u001b[0m",
      "\u001b[0;31mTypeError\u001b[0m                                 Traceback (most recent call last)",
      "Cell \u001b[0;32mIn[49], line 2\u001b[0m\n\u001b[1;32m      1\u001b[0m \u001b[38;5;66;03m# Set is a Unhashable type data structure ,but set require hashable elements only\u001b[39;00m\n\u001b[0;32m----> 2\u001b[0m sets \u001b[38;5;241m=\u001b[39m {\u001b[38;5;241m15\u001b[39m , \u001b[38;5;241m16\u001b[39m ,\u001b[38;5;124m\"\u001b[39m\u001b[38;5;124mmohsin\u001b[39m\u001b[38;5;124m\"\u001b[39m , \u001b[38;5;124m\"\u001b[39m\u001b[38;5;124mswati\u001b[39m\u001b[38;5;124m\"\u001b[39m , [\u001b[38;5;241m15\u001b[39m , \u001b[38;5;241m18\u001b[39m , \u001b[38;5;124m\"\u001b[39m\u001b[38;5;124mabhishek\u001b[39m\u001b[38;5;124m\"\u001b[39m]}\n\u001b[1;32m      3\u001b[0m \u001b[38;5;28mprint\u001b[39m(sets)\n",
      "\u001b[0;31mTypeError\u001b[0m: unhashable type: 'list'"
     ]
    }
   ],
   "source": [
    "# Set is a Unhashable type data structure ,but set require hashable elements only\n",
    "sets = {15 , 16 ,\"mohsin\" , \"swati\" , [15 , 18 , \"abhishek\"]}\n",
    "print(sets) # here we get error , because set is a unhashable data , but ste only contain hashable data , and list is a unhashable data , that's why we get error. "
   ]
  },
  {
   "cell_type": "code",
   "execution_count": 51,
   "id": "e0e4e63c-fe13-4d94-957d-6d6a40ed9c6e",
   "metadata": {},
   "outputs": [
    {
     "ename": "TypeError",
     "evalue": "unhashable type: 'set'",
     "output_type": "error",
     "traceback": [
      "\u001b[0;31m---------------------------------------------------------------------------\u001b[0m",
      "\u001b[0;31mTypeError\u001b[0m                                 Traceback (most recent call last)",
      "Cell \u001b[0;32mIn[51], line 1\u001b[0m\n\u001b[0;32m----> 1\u001b[0m sets \u001b[38;5;241m=\u001b[39m {\u001b[38;5;124m\"\u001b[39m\u001b[38;5;124mmohsin\u001b[39m\u001b[38;5;124m\"\u001b[39m , \u001b[38;5;124m\"\u001b[39m\u001b[38;5;124mabhishek\u001b[39m\u001b[38;5;124m\"\u001b[39m , {\u001b[38;5;124m\"\u001b[39m\u001b[38;5;124mraj\u001b[39m\u001b[38;5;124m\"\u001b[39m , \u001b[38;5;241m15\u001b[39m , \u001b[38;5;241m25\u001b[39m , \u001b[38;5;241m16\u001b[39m}}\n\u001b[1;32m      2\u001b[0m \u001b[38;5;28mprint\u001b[39m(sets)\n",
      "\u001b[0;31mTypeError\u001b[0m: unhashable type: 'set'"
     ]
    }
   ],
   "source": [
    "sets = {\"mohsin\" , \"abhishek\" , {\"raj\" , 15 , 25 , 16}}\n",
    "print(sets)"
   ]
  },
  {
   "cell_type": "code",
   "execution_count": null,
   "id": "c571b2e1-9556-446e-a9f2-5434ab584289",
   "metadata": {},
   "outputs": [],
   "source": [
    "# Set cannot have mutable data structure in set , because of unhashable type data structure (list , set , dictionary) ,  set can have only immutable data structure (string , numbers , tuples) because they have hashable type data structure.\n",
    "\n",
    "# So , sets only require hashable data (string , tuples), its proved.\n",
    "\n",
    "# Sets in set is not possible , proved."
   ]
  },
  {
   "cell_type": "code",
   "execution_count": 52,
   "id": "25a77f03-c5b1-481f-a6c6-3c115a9a2e42",
   "metadata": {},
   "outputs": [],
   "source": [
    "# Lets try to access the elements of sets :-\n",
    "# example :-"
   ]
  },
  {
   "cell_type": "code",
   "execution_count": 53,
   "id": "5af99877-cc88-4af4-8d4d-534226283053",
   "metadata": {},
   "outputs": [
    {
     "name": "stdout",
     "output_type": "stream",
     "text": [
      "{False, True, 80.25, 'mohsin', (3+5j), 'rashika', 15}\n",
      "<class 'set'>\n"
     ]
    }
   ],
   "source": [
    "sets = {\"mohsin\" , \"rashika\" , \"mohsin\" , \"rashika\" , \"mohsin\" , 15 , 80.25 , 15 , True , True , 80.25,False ,80.25,False , 3+5j}\n",
    "print(sets)\n",
    "print(type(sets))"
   ]
  },
  {
   "cell_type": "code",
   "execution_count": 54,
   "id": "db5be80b-4f5f-4349-a3dd-78a535b952bf",
   "metadata": {},
   "outputs": [
    {
     "ename": "TypeError",
     "evalue": "'set' object is not subscriptable",
     "output_type": "error",
     "traceback": [
      "\u001b[0;31m---------------------------------------------------------------------------\u001b[0m",
      "\u001b[0;31mTypeError\u001b[0m                                 Traceback (most recent call last)",
      "Cell \u001b[0;32mIn[54], line 1\u001b[0m\n\u001b[0;32m----> 1\u001b[0m \u001b[43msets\u001b[49m\u001b[43m[\u001b[49m\u001b[38;5;241;43m2\u001b[39;49m\u001b[43m]\u001b[49m\n",
      "\u001b[0;31mTypeError\u001b[0m: 'set' object is not subscriptable"
     ]
    }
   ],
   "source": [
    "sets[2] # so we cannot access the index of elements in the sets. Erros occur's (set object is not subscriptable.)"
   ]
  },
  {
   "cell_type": "code",
   "execution_count": 55,
   "id": "80abd8d3-7c2e-4650-b147-1668cd4d21b5",
   "metadata": {},
   "outputs": [
    {
     "ename": "TypeError",
     "evalue": "'set' object is not subscriptable",
     "output_type": "error",
     "traceback": [
      "\u001b[0;31m---------------------------------------------------------------------------\u001b[0m",
      "\u001b[0;31mTypeError\u001b[0m                                 Traceback (most recent call last)",
      "Cell \u001b[0;32mIn[55], line 1\u001b[0m\n\u001b[0;32m----> 1\u001b[0m \u001b[43msets\u001b[49m\u001b[43m[\u001b[49m\u001b[38;5;241;43m-\u001b[39;49m\u001b[38;5;241;43m2\u001b[39;49m\u001b[43m]\u001b[49m\n",
      "\u001b[0;31mTypeError\u001b[0m: 'set' object is not subscriptable"
     ]
    }
   ],
   "source": [
    "sets[-2]"
   ]
  },
  {
   "cell_type": "code",
   "execution_count": 56,
   "id": "e14707f5-2d66-480c-af05-3c5d32252247",
   "metadata": {},
   "outputs": [
    {
     "ename": "TypeError",
     "evalue": "'set' object is not subscriptable",
     "output_type": "error",
     "traceback": [
      "\u001b[0;31m---------------------------------------------------------------------------\u001b[0m",
      "\u001b[0;31mTypeError\u001b[0m                                 Traceback (most recent call last)",
      "Cell \u001b[0;32mIn[56], line 1\u001b[0m\n\u001b[0;32m----> 1\u001b[0m \u001b[43msets\u001b[49m\u001b[43m[\u001b[49m\u001b[38;5;241;43m5\u001b[39;49m\u001b[43m]\u001b[49m\n",
      "\u001b[0;31mTypeError\u001b[0m: 'set' object is not subscriptable"
     ]
    }
   ],
   "source": [
    "sets[5]"
   ]
  },
  {
   "cell_type": "code",
   "execution_count": 57,
   "id": "bcf13af7-24cb-4923-8283-81da879d4348",
   "metadata": {},
   "outputs": [
    {
     "ename": "TypeError",
     "evalue": "'set' object is not subscriptable",
     "output_type": "error",
     "traceback": [
      "\u001b[0;31m---------------------------------------------------------------------------\u001b[0m",
      "\u001b[0;31mTypeError\u001b[0m                                 Traceback (most recent call last)",
      "Cell \u001b[0;32mIn[57], line 1\u001b[0m\n\u001b[0;32m----> 1\u001b[0m \u001b[43msets\u001b[49m\u001b[43m[\u001b[49m\u001b[38;5;241;43m-\u001b[39;49m\u001b[38;5;241;43m5\u001b[39;49m\u001b[43m]\u001b[49m\n",
      "\u001b[0;31mTypeError\u001b[0m: 'set' object is not subscriptable"
     ]
    }
   ],
   "source": [
    "sets[-5]"
   ]
  },
  {
   "cell_type": "code",
   "execution_count": null,
   "id": "954088f1-2582-44fc-b0c0-4cf49377b65a",
   "metadata": {},
   "outputs": [],
   "source": [
    "# so , these examples proved that , sets cannot be accesseble."
   ]
  },
  {
   "cell_type": "code",
   "execution_count": 58,
   "id": "1549fc1d-cb52-4b5b-8ceb-931fdabb5f2a",
   "metadata": {},
   "outputs": [],
   "source": [
    "# Mutability of sets :- sets can be manipulated by the using of its functions."
   ]
  },
  {
   "cell_type": "code",
   "execution_count": null,
   "id": "9e0c40a1-7628-46a6-9077-2e6366ec5a33",
   "metadata": {},
   "outputs": [],
   "source": [
    "# Functions of sets:-\n",
    "\n",
    "# 1 - set() >> helps to convert list into sets.\n",
    "# 2 - list() >> helps to convert sets into list.\n",
    "# 3 - .add() >> helps to add any elements at any place randomly.\n",
    "# 4 - .remove() >> helps to remove that purticular elements which is given in thr parenthesis.\n",
    "# 5 - .pop() >> helps to remove any elements randomly , because we cannot use index in sets.\n",
    "# 6 - del() >> helps to delete the complete stes.\n",
    "# 7 - .clear() >> helps to remove or clear all the elements from the sets.\n",
    "# 8 - .discard() >> helps to remove the elements from the stes , and if that element is not present in the sets , then it will not give error.\n",
    "# 9 - .update() >> helps to update any elements in the sets .\n",
    "\n",
    "# These are the complete functions which are used in the sets.\n",
    "# By the use of this function , we can manipulate or modify the elements of sets."
   ]
  },
  {
   "cell_type": "code",
   "execution_count": 59,
   "id": "bd5afd3d-135a-47e9-a035-b782d0698628",
   "metadata": {},
   "outputs": [
    {
     "name": "stdout",
     "output_type": "stream",
     "text": [
      "{False, True, 80.25, 'mohsin', (3+5j), 'rashika', 15}\n",
      "<class 'type'>\n"
     ]
    }
   ],
   "source": [
    "# example :-\n",
    "sets = {\"mohsin\" , \"rashika\" , \"mohsin\" , \"rashika\" , \"mohsin\" , 15 , 80.25 , 15 , True , True , 80.25,False ,80.25,False , 3+5j}\n",
    "print(sets)\n",
    "print(type(set))"
   ]
  },
  {
   "cell_type": "code",
   "execution_count": 60,
   "id": "3108bee4-13b5-42b8-9bce-008558ecd38f",
   "metadata": {},
   "outputs": [],
   "source": [
    "# use of '.add' function :- Add an element to a set.\n",
    "\n",
    "sets.add(\"radhika\")"
   ]
  },
  {
   "cell_type": "code",
   "execution_count": 61,
   "id": "97cf533f-586a-4906-8074-57dd91fa965e",
   "metadata": {},
   "outputs": [
    {
     "data": {
      "text/plain": [
       "{(3+5j), 15, 80.25, False, True, 'mohsin', 'radhika', 'rashika'}"
      ]
     },
     "execution_count": 61,
     "metadata": {},
     "output_type": "execute_result"
    }
   ],
   "source": [
    "sets # here we can see 'radikha' element is added now in the sets."
   ]
  },
  {
   "cell_type": "code",
   "execution_count": 63,
   "id": "79a76084-43e2-42f8-864b-23ac23944dac",
   "metadata": {},
   "outputs": [],
   "source": [
    "sets.add(15)"
   ]
  },
  {
   "cell_type": "code",
   "execution_count": 66,
   "id": "d3fa29be-4d13-474e-944b-fbfaa95d9299",
   "metadata": {},
   "outputs": [
    {
     "data": {
      "text/plain": [
       "{(3+5j), 15, 80.25, False, True, 'mohsin', 'radhika', 'rashika'}"
      ]
     },
     "execution_count": 66,
     "metadata": {},
     "output_type": "execute_result"
    }
   ],
   "source": [
    "sets # here we can see '15' elements now added in the sets."
   ]
  },
  {
   "cell_type": "code",
   "execution_count": 64,
   "id": "f53c6a5d-666e-4f93-be54-47f3a0630a2c",
   "metadata": {},
   "outputs": [],
   "source": [
    "# use of .update() function :-  Update a set with the union of itself and others.\n",
    "sets.update([15])  # this is the method to use .update function."
   ]
  },
  {
   "cell_type": "code",
   "execution_count": 65,
   "id": "c30b5333-bbe3-4339-91ec-1513218280f0",
   "metadata": {},
   "outputs": [
    {
     "data": {
      "text/plain": [
       "{(3+5j), 15, 80.25, False, True, 'mohsin', 'radhika', 'rashika'}"
      ]
     },
     "execution_count": 65,
     "metadata": {},
     "output_type": "execute_result"
    }
   ],
   "source": [
    "sets"
   ]
  },
  {
   "cell_type": "code",
   "execution_count": 67,
   "id": "ac0cb67c-2ab3-4d54-8123-7e71320db591",
   "metadata": {},
   "outputs": [],
   "source": [
    "sets.update([\"ajay\"])"
   ]
  },
  {
   "cell_type": "code",
   "execution_count": 68,
   "id": "a5189575-12f1-42ba-8619-cd202c7aba74",
   "metadata": {},
   "outputs": [
    {
     "data": {
      "text/plain": [
       "{(3+5j), 15, 80.25, False, True, 'ajay', 'mohsin', 'radhika', 'rashika'}"
      ]
     },
     "execution_count": 68,
     "metadata": {},
     "output_type": "execute_result"
    }
   ],
   "source": [
    "sets # this is the method to update any elements in the stes."
   ]
  },
  {
   "cell_type": "code",
   "execution_count": 69,
   "id": "a3277de1-dd14-4b8d-ace3-b22d4ae93ce9",
   "metadata": {},
   "outputs": [],
   "source": [
    "# if we dont use list form with .update update , then it will becoma unordered :-\n",
    "# example :-\n",
    "sets.update(\"ajay\")"
   ]
  },
  {
   "cell_type": "code",
   "execution_count": 70,
   "id": "0d5d7a42-c2e9-4f28-85d5-81662c593449",
   "metadata": {},
   "outputs": [
    {
     "data": {
      "text/plain": [
       "{(3+5j),\n",
       " 15,\n",
       " 80.25,\n",
       " False,\n",
       " True,\n",
       " 'a',\n",
       " 'ajay',\n",
       " 'j',\n",
       " 'mohsin',\n",
       " 'radhika',\n",
       " 'rashika',\n",
       " 'y'}"
      ]
     },
     "execution_count": 70,
     "metadata": {},
     "output_type": "execute_result"
    }
   ],
   "source": [
    "sets # so element 'ajay' is updated in sets , but in unordered form, that's why we have to use list form rith update function."
   ]
  },
  {
   "cell_type": "code",
   "execution_count": 71,
   "id": "f3050150-3794-4433-9a9b-f5a339db7e14",
   "metadata": {},
   "outputs": [
    {
     "name": "stdout",
     "output_type": "stream",
     "text": [
      "[1, 50, 'mohsin', 'mohsin', 'swati', 'swati']\n",
      "<class 'list'>\n"
     ]
    }
   ],
   "source": [
    "# we can also change a list in sets by using set function :-\n",
    "lis = [1 , 50 , \"mohsin\", \"mohsin\" ,\"swati\" ,\"swati\"]\n",
    "print(lis)\n",
    "print(type(lis)) # we can see here this is a list."
   ]
  },
  {
   "cell_type": "code",
   "execution_count": 72,
   "id": "6bd110e2-da79-4d92-a97f-cdd220c90375",
   "metadata": {},
   "outputs": [
    {
     "data": {
      "text/plain": [
       "{1, 50, 'mohsin', 'swati'}"
      ]
     },
     "execution_count": 72,
     "metadata": {},
     "output_type": "execute_result"
    }
   ],
   "source": [
    "# now if we want to convert this list in set from then :-\n",
    "set(lis) # so now by the use of this function we can change set in list ."
   ]
  },
  {
   "cell_type": "code",
   "execution_count": 98,
   "id": "f77a9d1d-cac9-4686-bbea-8d6ce98e27a2",
   "metadata": {},
   "outputs": [
    {
     "name": "stdout",
     "output_type": "stream",
     "text": [
      "{False, True, 80.25, 'mohsin', (3+5j), 'rashika', 15}\n",
      "<class 'set'>\n"
     ]
    }
   ],
   "source": [
    "# we can also convert sets into list :-\n",
    "sets = {\"mohsin\" , \"rashika\" , \"mohsin\" , \"rashika\" , \"mohsin\" , 15 , 80.25 , 15 , True , True , 80.25,False ,80.25,False , 3+5j}\n",
    "print(sets)\n",
    "print(type(sets))"
   ]
  },
  {
   "cell_type": "code",
   "execution_count": 99,
   "id": "8b7f0708-4857-47cd-9b04-d5fffa638067",
   "metadata": {},
   "outputs": [
    {
     "data": {
      "text/plain": [
       "[False, True, 80.25, 'mohsin', (3+5j), 'rashika', 15]"
      ]
     },
     "execution_count": 99,
     "metadata": {},
     "output_type": "execute_result"
    }
   ],
   "source": [
    "list(sets) # so here we can see , we can also change a sets in to list."
   ]
  },
  {
   "cell_type": "code",
   "execution_count": 73,
   "id": "d45d5a5b-080b-412a-810c-b8f69b9594d1",
   "metadata": {},
   "outputs": [],
   "source": [
    "# use of .remove function :- helps to remove any purticular elements from the sets :- Remove an element from a set; it must be a member."
   ]
  },
  {
   "cell_type": "code",
   "execution_count": 74,
   "id": "9e418e76-fa13-4f48-8e77-0f2d9acf0d79",
   "metadata": {},
   "outputs": [],
   "source": [
    "sets = {\"mohsin\" , \"rashika\" , \"mohsin\" , \"rashika\" , \"mohsin\" , 15 , 80.25 , 15 , True , True , 80.25,False ,80.25,False , 3+5j}\n",
    "sets.remove(15)"
   ]
  },
  {
   "cell_type": "code",
   "execution_count": 75,
   "id": "1c616667-517f-47e1-897b-0dc674ca540b",
   "metadata": {},
   "outputs": [
    {
     "data": {
      "text/plain": [
       "{(3+5j), 80.25, False, True, 'mohsin', 'rashika'}"
      ]
     },
     "execution_count": 75,
     "metadata": {},
     "output_type": "execute_result"
    }
   ],
   "source": [
    "sets # so we can see here , by the use of , .remove function , we can remove any purticular elements from the stes."
   ]
  },
  {
   "cell_type": "code",
   "execution_count": 76,
   "id": "f9e9ffa8-188c-4da8-b48c-65203262a0f3",
   "metadata": {},
   "outputs": [],
   "source": [
    "sets.remove(\"mohsin\")"
   ]
  },
  {
   "cell_type": "code",
   "execution_count": 77,
   "id": "25806f30-78fc-4f90-95e3-ea926b3f4045",
   "metadata": {},
   "outputs": [
    {
     "data": {
      "text/plain": [
       "{(3+5j), 80.25, False, True, 'rashika'}"
      ]
     },
     "execution_count": 77,
     "metadata": {},
     "output_type": "execute_result"
    }
   ],
   "source": [
    "sets"
   ]
  },
  {
   "cell_type": "code",
   "execution_count": null,
   "id": "602cb08f-7f9f-452f-ac9f-865399f66cd9",
   "metadata": {},
   "outputs": [],
   "source": [
    "# this is the process of using .remove function."
   ]
  },
  {
   "cell_type": "code",
   "execution_count": 78,
   "id": "1590455c-8334-4970-bcb9-e0a32d332a21",
   "metadata": {},
   "outputs": [],
   "source": [
    "# if we use .remove() function with an element which is not present in the sets :-"
   ]
  },
  {
   "cell_type": "code",
   "execution_count": 79,
   "id": "c6a67db7-2f51-42c4-bbb7-76431154e7e9",
   "metadata": {},
   "outputs": [
    {
     "ename": "KeyError",
     "evalue": "'swati'",
     "output_type": "error",
     "traceback": [
      "\u001b[0;31m---------------------------------------------------------------------------\u001b[0m",
      "\u001b[0;31mKeyError\u001b[0m                                  Traceback (most recent call last)",
      "Cell \u001b[0;32mIn[79], line 2\u001b[0m\n\u001b[1;32m      1\u001b[0m sets \u001b[38;5;241m=\u001b[39m {\u001b[38;5;124m\"\u001b[39m\u001b[38;5;124mmohsin\u001b[39m\u001b[38;5;124m\"\u001b[39m , \u001b[38;5;124m\"\u001b[39m\u001b[38;5;124mrashika\u001b[39m\u001b[38;5;124m\"\u001b[39m , \u001b[38;5;124m\"\u001b[39m\u001b[38;5;124mmohsin\u001b[39m\u001b[38;5;124m\"\u001b[39m , \u001b[38;5;124m\"\u001b[39m\u001b[38;5;124mrashika\u001b[39m\u001b[38;5;124m\"\u001b[39m , \u001b[38;5;124m\"\u001b[39m\u001b[38;5;124mmohsin\u001b[39m\u001b[38;5;124m\"\u001b[39m , \u001b[38;5;241m15\u001b[39m , \u001b[38;5;241m80.25\u001b[39m , \u001b[38;5;241m15\u001b[39m , \u001b[38;5;28;01mTrue\u001b[39;00m , \u001b[38;5;28;01mTrue\u001b[39;00m , \u001b[38;5;241m80.25\u001b[39m,\u001b[38;5;28;01mFalse\u001b[39;00m ,\u001b[38;5;241m80.25\u001b[39m,\u001b[38;5;28;01mFalse\u001b[39;00m , \u001b[38;5;241m3\u001b[39m\u001b[38;5;241m+\u001b[39m\u001b[38;5;241m5\u001b[39mj}\n\u001b[0;32m----> 2\u001b[0m \u001b[43msets\u001b[49m\u001b[38;5;241;43m.\u001b[39;49m\u001b[43mremove\u001b[49m\u001b[43m(\u001b[49m\u001b[38;5;124;43m\"\u001b[39;49m\u001b[38;5;124;43mswati\u001b[39;49m\u001b[38;5;124;43m\"\u001b[39;49m\u001b[43m)\u001b[49m \u001b[38;5;66;03m# so here we can see 'swati' element is not present in the sets.\u001b[39;00m\n",
      "\u001b[0;31mKeyError\u001b[0m: 'swati'"
     ]
    }
   ],
   "source": [
    "sets = {\"mohsin\" , \"rashika\" , \"mohsin\" , \"rashika\" , \"mohsin\" , 15 , 80.25 , 15 , True , True , 80.25,False ,80.25,False , 3+5j}\n",
    "sets.remove(\"swati\") # so here we can see 'swati' element is not present in the sets."
   ]
  },
  {
   "cell_type": "code",
   "execution_count": 80,
   "id": "b4efdd2a-96c0-47cb-a038-f61b2774eadf",
   "metadata": {},
   "outputs": [
    {
     "ename": "KeyError",
     "evalue": "'abhishek'",
     "output_type": "error",
     "traceback": [
      "\u001b[0;31m---------------------------------------------------------------------------\u001b[0m",
      "\u001b[0;31mKeyError\u001b[0m                                  Traceback (most recent call last)",
      "Cell \u001b[0;32mIn[80], line 1\u001b[0m\n\u001b[0;32m----> 1\u001b[0m \u001b[43msets\u001b[49m\u001b[38;5;241;43m.\u001b[39;49m\u001b[43mremove\u001b[49m\u001b[43m(\u001b[49m\u001b[38;5;124;43m\"\u001b[39;49m\u001b[38;5;124;43mabhishek\u001b[39;49m\u001b[38;5;124;43m\"\u001b[39;49m\u001b[43m)\u001b[49m\n",
      "\u001b[0;31mKeyError\u001b[0m: 'abhishek'"
     ]
    }
   ],
   "source": [
    "sets.remove(\"abhishek\")"
   ]
  },
  {
   "cell_type": "code",
   "execution_count": 81,
   "id": "2dba1d75-3dae-406d-a961-b5932b8c4d1e",
   "metadata": {},
   "outputs": [
    {
     "ename": "KeyError",
     "evalue": "71",
     "output_type": "error",
     "traceback": [
      "\u001b[0;31m---------------------------------------------------------------------------\u001b[0m",
      "\u001b[0;31mKeyError\u001b[0m                                  Traceback (most recent call last)",
      "Cell \u001b[0;32mIn[81], line 1\u001b[0m\n\u001b[0;32m----> 1\u001b[0m \u001b[43msets\u001b[49m\u001b[38;5;241;43m.\u001b[39;49m\u001b[43mremove\u001b[49m\u001b[43m(\u001b[49m\u001b[38;5;241;43m71\u001b[39;49m\u001b[43m)\u001b[49m\n",
      "\u001b[0;31mKeyError\u001b[0m: 71"
     ]
    }
   ],
   "source": [
    "sets.remove(71)"
   ]
  },
  {
   "cell_type": "code",
   "execution_count": null,
   "id": "a0c40016-6ea0-4a4c-b85f-978d4fe89cf7",
   "metadata": {},
   "outputs": [],
   "source": [
    "# So at this situation , when elements is not present in the sets , and we use .remove() function , then it will occur an error (keyerror >> means this element is not present in the set).\n",
    "\n",
    "# so at this situation we use .discard() function."
   ]
  },
  {
   "cell_type": "code",
   "execution_count": 82,
   "id": "a086611d-5a86-4615-9271-fef39a6827fe",
   "metadata": {},
   "outputs": [],
   "source": [
    "# .discard() function :- Remove an element from a set if it is a member.\n",
    "sets = {\"mohsin\" , \"rashika\" , \"mohsin\" , \"rashika\" , \"mohsin\" , 15 , 80.25 , 15 , True , True , 80.25,False ,80.25,False , 3+5j}\n",
    "sets.discard(\"rashika\") # it will remove the 'rashika' elements from the sets."
   ]
  },
  {
   "cell_type": "code",
   "execution_count": 83,
   "id": "e7a697bd-0d3b-449c-9970-dd0e864742e5",
   "metadata": {},
   "outputs": [
    {
     "data": {
      "text/plain": [
       "{(3+5j), 15, 80.25, False, True, 'mohsin'}"
      ]
     },
     "execution_count": 83,
     "metadata": {},
     "output_type": "execute_result"
    }
   ],
   "source": [
    "sets"
   ]
  },
  {
   "cell_type": "code",
   "execution_count": 84,
   "id": "0245bbcb-7608-45ff-9a81-12ee4f41e28a",
   "metadata": {},
   "outputs": [],
   "source": [
    "sets.discard(\"mohsin\")"
   ]
  },
  {
   "cell_type": "code",
   "execution_count": 85,
   "id": "8e0e91b3-bdc0-409d-b12b-e585c077c811",
   "metadata": {},
   "outputs": [
    {
     "data": {
      "text/plain": [
       "{(3+5j), 15, 80.25, False, True}"
      ]
     },
     "execution_count": 85,
     "metadata": {},
     "output_type": "execute_result"
    }
   ],
   "source": [
    "sets"
   ]
  },
  {
   "cell_type": "code",
   "execution_count": 86,
   "id": "87e41577-1332-4127-9e57-2f574e3389c5",
   "metadata": {},
   "outputs": [],
   "source": [
    "sets.discard(\"lala\") # it will not give any error  , while element is not a member of sets."
   ]
  },
  {
   "cell_type": "code",
   "execution_count": 87,
   "id": "b09cee96-d36e-4815-9ba6-aadd145ae14f",
   "metadata": {},
   "outputs": [
    {
     "data": {
      "text/plain": [
       "{(3+5j), 15, 80.25, False, True}"
      ]
     },
     "execution_count": 87,
     "metadata": {},
     "output_type": "execute_result"
    }
   ],
   "source": [
    "sets"
   ]
  },
  {
   "cell_type": "code",
   "execution_count": null,
   "id": "b43b737e-2680-4125-9699-33e6ea7c17c1",
   "metadata": {},
   "outputs": [],
   "source": [
    "# so , here we see .discard() function is used for removing any purticular elements from the sets , but it will not give any error like .remove function if that element is not a member of sets."
   ]
  },
  {
   "cell_type": "code",
   "execution_count": 88,
   "id": "bb43d39c-52c4-493c-b388-4069f683cd32",
   "metadata": {},
   "outputs": [],
   "source": [
    "# .pop() function :- Remove and return an arbitrary set element. Raises KeyError if the set is empty."
   ]
  },
  {
   "cell_type": "code",
   "execution_count": 89,
   "id": "ce7d8ff7-e751-4f5d-9301-917e798f7e78",
   "metadata": {},
   "outputs": [
    {
     "data": {
      "text/plain": [
       "False"
      ]
     },
     "execution_count": 89,
     "metadata": {},
     "output_type": "execute_result"
    }
   ],
   "source": [
    "sets = {\"mohsin\" , \"rashika\" , \"mohsin\" , \"rashika\" , \"mohsin\" , 15 , 80.25 , 15 , True , True , 80.25,False ,80.25,False , 3+5j}\n",
    "sets.pop() # so here we can see .pop() function randomly delete any element from the sets."
   ]
  },
  {
   "cell_type": "code",
   "execution_count": 90,
   "id": "8dcd1a60-dd92-4ba9-80be-c20d819c4499",
   "metadata": {},
   "outputs": [
    {
     "data": {
      "text/plain": [
       "{(3+5j), 15, 80.25, True, 'mohsin', 'rashika'}"
      ]
     },
     "execution_count": 90,
     "metadata": {},
     "output_type": "execute_result"
    }
   ],
   "source": [
    "sets"
   ]
  },
  {
   "cell_type": "code",
   "execution_count": 91,
   "id": "92d0dcdd-c5f4-43e9-b89f-22df2043db45",
   "metadata": {},
   "outputs": [
    {
     "ename": "TypeError",
     "evalue": "set.pop() takes no arguments (1 given)",
     "output_type": "error",
     "traceback": [
      "\u001b[0;31m---------------------------------------------------------------------------\u001b[0m",
      "\u001b[0;31mTypeError\u001b[0m                                 Traceback (most recent call last)",
      "Cell \u001b[0;32mIn[91], line 1\u001b[0m\n\u001b[0;32m----> 1\u001b[0m \u001b[43msets\u001b[49m\u001b[38;5;241;43m.\u001b[39;49m\u001b[43mpop\u001b[49m\u001b[43m(\u001b[49m\u001b[38;5;241;43m5\u001b[39;49m\u001b[43m)\u001b[49m\n",
      "\u001b[0;31mTypeError\u001b[0m: set.pop() takes no arguments (1 given)"
     ]
    }
   ],
   "source": [
    "sets.pop(5) # we cannot give any argument , because indexing not possible in the sets , .pop() function only take indexes as argument."
   ]
  },
  {
   "cell_type": "code",
   "execution_count": 92,
   "id": "a96384ec-775c-4225-9a3d-99d53f2cc0cc",
   "metadata": {},
   "outputs": [
    {
     "ename": "TypeError",
     "evalue": "set.pop() takes no arguments (1 given)",
     "output_type": "error",
     "traceback": [
      "\u001b[0;31m---------------------------------------------------------------------------\u001b[0m",
      "\u001b[0;31mTypeError\u001b[0m                                 Traceback (most recent call last)",
      "Cell \u001b[0;32mIn[92], line 1\u001b[0m\n\u001b[0;32m----> 1\u001b[0m \u001b[43msets\u001b[49m\u001b[38;5;241;43m.\u001b[39;49m\u001b[43mpop\u001b[49m\u001b[43m(\u001b[49m\u001b[38;5;124;43m\"\u001b[39;49m\u001b[38;5;124;43mswati\u001b[39;49m\u001b[38;5;124;43m\"\u001b[39;49m\u001b[43m)\u001b[49m\n",
      "\u001b[0;31mTypeError\u001b[0m: set.pop() takes no arguments (1 given)"
     ]
    }
   ],
   "source": [
    "sets.pop(\"swati\")"
   ]
  },
  {
   "cell_type": "code",
   "execution_count": null,
   "id": "88ad0d5f-7a29-444c-841d-d199e9330c13",
   "metadata": {},
   "outputs": [],
   "source": [
    "# so , we can see here .pop() function can remove any elements from the set randomly."
   ]
  },
  {
   "cell_type": "code",
   "execution_count": 93,
   "id": "dbdd522b-fef6-49cf-b973-6d9f69c26d80",
   "metadata": {},
   "outputs": [],
   "source": [
    "# .clear() function :- Remove all elements from this set.\n",
    "sets = {\"mohsin\" , \"rashika\" , \"mohsin\" , \"rashika\" , \"mohsin\" , 15 , 80.25 , 15 , True , True , 80.25,False ,80.25,False , 3+5j}\n",
    "sets.clear() # it makes the complete sets empty by removing all the elements of sets."
   ]
  },
  {
   "cell_type": "code",
   "execution_count": 94,
   "id": "a0a9fa10-a378-4843-85bb-a483caabff46",
   "metadata": {},
   "outputs": [
    {
     "data": {
      "text/plain": [
       "set()"
      ]
     },
     "execution_count": 94,
     "metadata": {},
     "output_type": "execute_result"
    }
   ],
   "source": [
    "sets  "
   ]
  },
  {
   "cell_type": "code",
   "execution_count": 96,
   "id": "a7bb892d-749c-4dd8-8c47-dfd08d18458c",
   "metadata": {},
   "outputs": [],
   "source": [
    "# del() function :- it will delete the complete sets.\n",
    "sets = {\"mohsin\" , \"rashika\" , \"mohsin\" , \"rashika\" , \"mohsin\" , 15 , 80.25 , 15 , True , True , 80.25,False ,80.25,False , 3+5j}\n",
    "del(sets)"
   ]
  },
  {
   "cell_type": "code",
   "execution_count": 97,
   "id": "76d28fe8-bfac-4e68-af95-7a6f46d5330d",
   "metadata": {},
   "outputs": [
    {
     "ename": "NameError",
     "evalue": "name 'sets' is not defined",
     "output_type": "error",
     "traceback": [
      "\u001b[0;31m---------------------------------------------------------------------------\u001b[0m",
      "\u001b[0;31mNameError\u001b[0m                                 Traceback (most recent call last)",
      "Cell \u001b[0;32mIn[97], line 1\u001b[0m\n\u001b[0;32m----> 1\u001b[0m \u001b[43msets\u001b[49m\n",
      "\u001b[0;31mNameError\u001b[0m: name 'sets' is not defined"
     ]
    }
   ],
   "source": [
    "sets # it will delete the complete sets."
   ]
  },
  {
   "cell_type": "code",
   "execution_count": null,
   "id": "46d0135b-7790-4cec-996d-9825ccb41a55",
   "metadata": {},
   "outputs": [],
   "source": [
    "# So these are the some function's which are used in sets for modifying or we can say for manipulating the sets.\n",
    "# so sets are mutable , it's proved."
   ]
  },
  {
   "cell_type": "markdown",
   "id": "894b4f96-2ac5-4b41-a847-4000635ffb93",
   "metadata": {},
   "source": [
    "### Some operations of sets are :-"
   ]
  },
  {
   "cell_type": "code",
   "execution_count": null,
   "id": "5793903b-9ec6-416e-b3f5-487a0a06d249",
   "metadata": {},
   "outputs": [],
   "source": [
    "# Sets have four operations are :-\n",
    "\n",
    "# 1 - Union          # syntax of union operation = | (symbol of 'or' bitwise operator)\n",
    "# 2 - Intersection   # syntax of intersection    = & ( symbol of and)\n",
    "# 3 - Diffrence      # syntax of diffrence       = - (negative sign) \n",
    "# 4 - Symmetric      # syntax of symmetric       = ^ (symbol of hat or cap)"
   ]
  },
  {
   "cell_type": "code",
   "execution_count": 100,
   "id": "90e6db26-bf49-4934-9c67-267186c0b0d4",
   "metadata": {},
   "outputs": [],
   "source": [
    "# Union operation :- means combines elements from two sets excluding duplicate.\n",
    "# example  :-\n",
    "A = {\"mohsin\",\"abhishek\" , \"swati\" , 15 ,25.25 , True , False}\n",
    "B = {\"swati\" , \"mohsin\" , \"rashika\" , \"bheema\" , 15 ,20 , 32.25 , False} \n",
    "# these sre two sets."
   ]
  },
  {
   "cell_type": "code",
   "execution_count": 101,
   "id": "7cda61ad-24ed-475e-9e37-2c533edd5cb4",
   "metadata": {},
   "outputs": [
    {
     "data": {
      "text/plain": [
       "{15,\n",
       " 20,\n",
       " 25.25,\n",
       " 32.25,\n",
       " False,\n",
       " True,\n",
       " 'abhishek',\n",
       " 'bheema',\n",
       " 'mohsin',\n",
       " 'rashika',\n",
       " 'swati'}"
      ]
     },
     "execution_count": 101,
     "metadata": {},
     "output_type": "execute_result"
    }
   ],
   "source": [
    "A|B # it means , we are going to find A union B."
   ]
  },
  {
   "cell_type": "code",
   "execution_count": 102,
   "id": "e9698c7a-a076-43ed-b64c-98442465a34b",
   "metadata": {},
   "outputs": [
    {
     "data": {
      "text/plain": [
       "{15, False, 'mohsin', 'swati'}"
      ]
     },
     "execution_count": 102,
     "metadata": {},
     "output_type": "execute_result"
    }
   ],
   "source": [
    "# Intersection operatin :- means common element between two sets. :-\n",
    "A&B # it means , we want common elements of both sets."
   ]
  },
  {
   "cell_type": "code",
   "execution_count": 103,
   "id": "166c91ae-3523-472d-8972-23a8c35b582b",
   "metadata": {},
   "outputs": [
    {
     "data": {
      "text/plain": [
       "{25.25, True, 'abhishek'}"
      ]
     },
     "execution_count": 103,
     "metadata": {},
     "output_type": "execute_result"
    }
   ],
   "source": [
    "# Diffrenec operation :- only element of first set , exclude the element of second set.\n",
    "A-B # this the way to get the diffrence b/w two sets."
   ]
  },
  {
   "cell_type": "code",
   "execution_count": 104,
   "id": "eda9c4a3-9750-4c6b-ac6b-23fb42f5dcf0",
   "metadata": {},
   "outputs": [
    {
     "data": {
      "text/plain": [
       "{20, 25.25, 32.25, True, 'abhishek', 'bheema', 'rashika'}"
      ]
     },
     "execution_count": 104,
     "metadata": {},
     "output_type": "execute_result"
    }
   ],
   "source": [
    "# Symmetric operations :- all elements from both the sets , exclude the common elements of both sets.\n",
    "A^B"
   ]
  },
  {
   "cell_type": "code",
   "execution_count": null,
   "id": "5f7c94b7-33e3-4826-887d-2c53dc54b8b7",
   "metadata": {},
   "outputs": [],
   "source": [
    "# So , this is the complete understanding of sets."
   ]
  },
  {
   "cell_type": "markdown",
   "id": "d5b14160-9963-490e-bd41-dcab37ccba7a",
   "metadata": {},
   "source": [
    "## Frozen sets:-"
   ]
  },
  {
   "cell_type": "code",
   "execution_count": null,
   "id": "3f89b739-0d09-46bd-a8b0-32c2097655ab",
   "metadata": {},
   "outputs": [],
   "source": [
    "# frozen sets :- Frozen set is a immutable version of set .\n",
    "# syntax of frozen set = frozenset({}) # curly bracket in parenthesis . here parenthesis defines immutability of set. "
   ]
  },
  {
   "cell_type": "code",
   "execution_count": 108,
   "id": "165ca15b-732b-43ac-b186-c43126be964a",
   "metadata": {},
   "outputs": [],
   "source": [
    "employees_id = ([\"mohsin\" , \"swati\" , \"abhishek\" , \"sanjeev\" , \"gaurav\" , \"bheema\"]) # this is a normal list in tuple.\n",
    "# this list is in the tuple , because set can have only hashable type data , that's why we always put list in tuple , if we want  frozenset.\n",
    "# if we want to convert this list in frozen set."
   ]
  },
  {
   "cell_type": "code",
   "execution_count": 116,
   "id": "fa3d043f-0c1b-4ba8-9a9a-a2f3cac993c9",
   "metadata": {},
   "outputs": [],
   "source": [
    "frozen_employee_id = frozenset([\"mohsin\" , \"swati\" , \"abhishek\" , \"sanjeev\" , \"gaurav\" , \"bheema\"])"
   ]
  },
  {
   "cell_type": "code",
   "execution_count": 117,
   "id": "76df552b-2a04-41ea-937f-e9342d4ddd68",
   "metadata": {},
   "outputs": [
    {
     "data": {
      "text/plain": [
       "frozenset({'abhishek', 'bheema', 'gaurav', 'mohsin', 'sanjeev', 'swati'})"
      ]
     },
     "execution_count": 117,
     "metadata": {},
     "output_type": "execute_result"
    }
   ],
   "source": [
    "frozen_employee_id"
   ]
  },
  {
   "cell_type": "code",
   "execution_count": 118,
   "id": "42096754-2154-404b-8fa9-e646194d1ee9",
   "metadata": {},
   "outputs": [
    {
     "data": {
      "text/plain": [
       "frozenset"
      ]
     },
     "execution_count": 118,
     "metadata": {},
     "output_type": "execute_result"
    }
   ],
   "source": [
    "type(frozen_employee_id)"
   ]
  },
  {
   "cell_type": "code",
   "execution_count": 119,
   "id": "79f956e7-6ce4-4f67-a8fa-cb62f7aec839",
   "metadata": {},
   "outputs": [
    {
     "name": "stdout",
     "output_type": "stream",
     "text": [
      "<class 'list'>\n"
     ]
    }
   ],
   "source": [
    "# another example :-\n",
    "sets = ([1,2,3,4,5])\n",
    "print(type(sets)) # so this is a list."
   ]
  },
  {
   "cell_type": "code",
   "execution_count": 122,
   "id": "1830bbfe-8f66-47b7-bc6a-649a81783761",
   "metadata": {},
   "outputs": [],
   "source": [
    "my_frozenset = frozenset([1,2,3,4,5])"
   ]
  },
  {
   "cell_type": "code",
   "execution_count": 123,
   "id": "6d7992dd-a167-4450-8e73-08716e72fa81",
   "metadata": {},
   "outputs": [
    {
     "data": {
      "text/plain": [
       "frozenset({1, 2, 3, 4, 5})"
      ]
     },
     "execution_count": 123,
     "metadata": {},
     "output_type": "execute_result"
    }
   ],
   "source": [
    "my_frozenset"
   ]
  },
  {
   "cell_type": "code",
   "execution_count": 124,
   "id": "96148d4d-41ee-4456-be9c-ba79e986e071",
   "metadata": {},
   "outputs": [
    {
     "data": {
      "text/plain": [
       "frozenset"
      ]
     },
     "execution_count": 124,
     "metadata": {},
     "output_type": "execute_result"
    }
   ],
   "source": [
    "type(my_frozenset)"
   ]
  },
  {
   "cell_type": "code",
   "execution_count": 125,
   "id": "4e2e016c-3f9b-4a46-9178-3e14ab8ce173",
   "metadata": {},
   "outputs": [],
   "source": [
    "# another example :-\n",
    "sets = frozenset([1,2,3,4])"
   ]
  },
  {
   "cell_type": "code",
   "execution_count": 126,
   "id": "2ebe33ac-e4f3-4bdc-9a98-0eedeca1556d",
   "metadata": {},
   "outputs": [
    {
     "data": {
      "text/plain": [
       "frozenset({1, 2, 3, 4})"
      ]
     },
     "execution_count": 126,
     "metadata": {},
     "output_type": "execute_result"
    }
   ],
   "source": [
    "sets"
   ]
  },
  {
   "cell_type": "code",
   "execution_count": 127,
   "id": "0dcf693a-46db-43cc-aa07-d36dc2e9da82",
   "metadata": {},
   "outputs": [
    {
     "data": {
      "text/plain": [
       "frozenset"
      ]
     },
     "execution_count": 127,
     "metadata": {},
     "output_type": "execute_result"
    }
   ],
   "source": [
    "type(sets)"
   ]
  },
  {
   "cell_type": "code",
   "execution_count": null,
   "id": "dde62581-a4fa-47be-80f7-e7ec75ac05ef",
   "metadata": {},
   "outputs": [],
   "source": [
    "# So this is the complete process of frozen set."
   ]
  },
  {
   "cell_type": "code",
   "execution_count": null,
   "id": "1daac508-0453-479f-ae90-ee9c85f19bb9",
   "metadata": {},
   "outputs": [],
   "source": [
    "# This is the complete understanding of sets and frozensets."
   ]
  },
  {
   "cell_type": "markdown",
   "id": "35b0711d-7819-41e6-aa9c-df3c552df208",
   "metadata": {},
   "source": [
    "## Question 6 - Discuss the use cases of tuples and sets in python programming."
   ]
  },
  {
   "cell_type": "code",
   "execution_count": null,
   "id": "bf01a757-211e-40fd-98ee-269702b54472",
   "metadata": {},
   "outputs": [],
   "source": [
    "# Ans - # Use case of tuples :- Tuples have many use cases :-\n",
    "                            # Tuples used for maintaning the data , which can not be modify after creation like (employee id , aadhar card , pan card etc.)\n",
    "                            # Tuples are immutable. It helps to safe the elements by changing which present in the tuples.\n",
    "                            # tuples are hetrogenous in nature. (can have any type of data)\n",
    "                            # tuples are hashable type data structure.\n",
    "                            # tuples can also have tuples in tuples.\n",
    "                            # concatenation in tuples.\n",
    "                            # tuples have membership checking operator.\n",
    "                            # slicing of tuple."
   ]
  },
  {
   "cell_type": "code",
   "execution_count": 128,
   "id": "a0e7ebf8-3c06-43db-a869-130bde270096",
   "metadata": {},
   "outputs": [
    {
     "data": {
      "text/plain": [
       "tuple"
      ]
     },
     "execution_count": 128,
     "metadata": {},
     "output_type": "execute_result"
    }
   ],
   "source": [
    "# example :-\n",
    "data = (\"mohsin\" , \"swati\" , \"abhishek\" , 45 , 12 , 22.25 , True , False) # this is a tuple.\n",
    "type(data)"
   ]
  },
  {
   "cell_type": "code",
   "execution_count": 129,
   "id": "d7d0672c-cce4-4fe3-bf24-02bb00be272c",
   "metadata": {},
   "outputs": [
    {
     "data": {
      "text/plain": [
       "'swati'"
      ]
     },
     "execution_count": 129,
     "metadata": {},
     "output_type": "execute_result"
    }
   ],
   "source": [
    "# so if we want to change any elemens from this tuple :-\n",
    "data = (\"mohsin\" , \"swati\" , \"abhishek\" , 45 , 12 , 22.25 , True , False)\n",
    "data[1]"
   ]
  },
  {
   "cell_type": "code",
   "execution_count": 130,
   "id": "b7676a46-3b3d-4678-98a1-aca43bcc0fc1",
   "metadata": {},
   "outputs": [
    {
     "ename": "TypeError",
     "evalue": "'tuple' object does not support item assignment",
     "output_type": "error",
     "traceback": [
      "\u001b[0;31m---------------------------------------------------------------------------\u001b[0m",
      "\u001b[0;31mTypeError\u001b[0m                                 Traceback (most recent call last)",
      "Cell \u001b[0;32mIn[130], line 1\u001b[0m\n\u001b[0;32m----> 1\u001b[0m \u001b[43mdata\u001b[49m\u001b[43m[\u001b[49m\u001b[38;5;241;43m1\u001b[39;49m\u001b[43m]\u001b[49m \u001b[38;5;241m=\u001b[39m \u001b[38;5;124m\"\u001b[39m\u001b[38;5;124mzeba\u001b[39m\u001b[38;5;124m\"\u001b[39m\n",
      "\u001b[0;31mTypeError\u001b[0m: 'tuple' object does not support item assignment"
     ]
    }
   ],
   "source": [
    "data[1] = \"zeba\" # it cannot be changed, this is the use case of tuple."
   ]
  },
  {
   "cell_type": "code",
   "execution_count": 131,
   "id": "482b8d70-9263-4c7a-8c68-5089288cf10b",
   "metadata": {},
   "outputs": [
    {
     "data": {
      "text/plain": [
       "False"
      ]
     },
     "execution_count": 131,
     "metadata": {},
     "output_type": "execute_result"
    }
   ],
   "source": [
    "data[-1]"
   ]
  },
  {
   "cell_type": "code",
   "execution_count": 132,
   "id": "8ab465ac-9d4f-47c8-964f-7cc73f69d4f1",
   "metadata": {},
   "outputs": [
    {
     "ename": "TypeError",
     "evalue": "'tuple' object does not support item assignment",
     "output_type": "error",
     "traceback": [
      "\u001b[0;31m---------------------------------------------------------------------------\u001b[0m",
      "\u001b[0;31mTypeError\u001b[0m                                 Traceback (most recent call last)",
      "Cell \u001b[0;32mIn[132], line 1\u001b[0m\n\u001b[0;32m----> 1\u001b[0m \u001b[43mdata\u001b[49m\u001b[43m[\u001b[49m\u001b[38;5;241;43m-\u001b[39;49m\u001b[38;5;241;43m1\u001b[39;49m\u001b[43m]\u001b[49m\u001b[38;5;241m=\u001b[39m\u001b[38;5;28;01mTrue\u001b[39;00m\n",
      "\u001b[0;31mTypeError\u001b[0m: 'tuple' object does not support item assignment"
     ]
    }
   ],
   "source": [
    "data[-1]=True"
   ]
  },
  {
   "cell_type": "code",
   "execution_count": null,
   "id": "c71e6ba2-9316-4082-b033-4b37db53ff6a",
   "metadata": {},
   "outputs": [],
   "source": [
    "#example :-\n",
    "employees_id = (\"mk258\" , \"ak568\" , \"sn7865\" , \"ry1235\") # so these are some employees id."
   ]
  },
  {
   "cell_type": "code",
   "execution_count": 134,
   "id": "77b77f16-f07e-4908-ad43-c1462f89e858",
   "metadata": {},
   "outputs": [
    {
     "ename": "AttributeError",
     "evalue": "'list' object has no attribute 'add'",
     "output_type": "error",
     "traceback": [
      "\u001b[0;31m---------------------------------------------------------------------------\u001b[0m",
      "\u001b[0;31mAttributeError\u001b[0m                            Traceback (most recent call last)",
      "Cell \u001b[0;32mIn[134], line 1\u001b[0m\n\u001b[0;32m----> 1\u001b[0m \u001b[43memployees_id\u001b[49m\u001b[38;5;241;43m.\u001b[39;49m\u001b[43madd\u001b[49m(\u001b[38;5;124m\"\u001b[39m\u001b[38;5;124mak258\u001b[39m\u001b[38;5;124m\"\u001b[39m)\n",
      "\u001b[0;31mAttributeError\u001b[0m: 'list' object has no attribute 'add'"
     ]
    }
   ],
   "source": [
    "employees_id.add(\"ak258\") # it will give error , because we cannot add anything in the tuple,"
   ]
  },
  {
   "cell_type": "code",
   "execution_count": 136,
   "id": "67acf47e-70da-4344-b0bf-fa06a8dd519b",
   "metadata": {},
   "outputs": [
    {
     "ename": "ValueError",
     "evalue": "list.remove(x): x not in list",
     "output_type": "error",
     "traceback": [
      "\u001b[0;31m---------------------------------------------------------------------------\u001b[0m",
      "\u001b[0;31mValueError\u001b[0m                                Traceback (most recent call last)",
      "Cell \u001b[0;32mIn[136], line 1\u001b[0m\n\u001b[0;32m----> 1\u001b[0m \u001b[43memployees_id\u001b[49m\u001b[38;5;241;43m.\u001b[39;49m\u001b[43mremove\u001b[49m\u001b[43m(\u001b[49m\u001b[38;5;124;43m\"\u001b[39;49m\u001b[38;5;124;43mak568\u001b[39;49m\u001b[38;5;124;43m\"\u001b[39;49m\u001b[43m)\u001b[49m\n",
      "\u001b[0;31mValueError\u001b[0m: list.remove(x): x not in list"
     ]
    }
   ],
   "source": [
    "employees_id.remove(\"ak568\") # it will give error, because we cannot remove anything in the tuple."
   ]
  },
  {
   "cell_type": "code",
   "execution_count": 137,
   "id": "b40fefa7-e7fb-4cdb-abf6-4903b4ea1271",
   "metadata": {},
   "outputs": [
    {
     "ename": "AttributeError",
     "evalue": "'list' object has no attribute 'update'",
     "output_type": "error",
     "traceback": [
      "\u001b[0;31m---------------------------------------------------------------------------\u001b[0m",
      "\u001b[0;31mAttributeError\u001b[0m                            Traceback (most recent call last)",
      "Cell \u001b[0;32mIn[137], line 1\u001b[0m\n\u001b[0;32m----> 1\u001b[0m \u001b[43memployees_id\u001b[49m\u001b[38;5;241;43m.\u001b[39;49m\u001b[43mupdate\u001b[49m(\u001b[38;5;124m\"\u001b[39m\u001b[38;5;124mmohsin\u001b[39m\u001b[38;5;124m\"\u001b[39m)\n",
      "\u001b[0;31mAttributeError\u001b[0m: 'list' object has no attribute 'update'"
     ]
    }
   ],
   "source": [
    "employees_id.update(\"mohsin\") #  it will give error, because we cannot update anything in the tuple."
   ]
  },
  {
   "cell_type": "code",
   "execution_count": null,
   "id": "1c064c16-4ea4-4be0-a34b-c8f48a155f45",
   "metadata": {},
   "outputs": [],
   "source": [
    "# some usefull functions of tuple are :-"
   ]
  },
  {
   "cell_type": "code",
   "execution_count": 142,
   "id": "8f33d598-cde5-4cea-9585-fab48a3d8e11",
   "metadata": {},
   "outputs": [
    {
     "data": {
      "text/plain": [
       "tuple"
      ]
     },
     "execution_count": 142,
     "metadata": {},
     "output_type": "execute_result"
    }
   ],
   "source": [
    "employees_id = (\"mk258\" , \"ak568\" , \"sn7865\" , \"ry1235\" , \"mk258\")\n",
    "type(employees_id)"
   ]
  },
  {
   "cell_type": "code",
   "execution_count": 141,
   "id": "1b692a26-e73b-4f61-b48f-0cf2eb2eebb2",
   "metadata": {},
   "outputs": [
    {
     "data": {
      "text/plain": [
       "1"
      ]
     },
     "execution_count": 141,
     "metadata": {},
     "output_type": "execute_result"
    }
   ],
   "source": [
    "employees_id.index(\"ak568\") # so by the use of this index we can know the index of an element in the tuples."
   ]
  },
  {
   "cell_type": "code",
   "execution_count": 143,
   "id": "54554f5a-a798-4623-a957-6faab89d5bd1",
   "metadata": {},
   "outputs": [
    {
     "data": {
      "text/plain": [
       "1"
      ]
     },
     "execution_count": 143,
     "metadata": {},
     "output_type": "execute_result"
    }
   ],
   "source": [
    "employees_id.count(\"ak568\")"
   ]
  },
  {
   "cell_type": "code",
   "execution_count": 144,
   "id": "ff8a1acd-70e0-4dc4-ac0e-50a3fb8e83da",
   "metadata": {},
   "outputs": [
    {
     "data": {
      "text/plain": [
       "2"
      ]
     },
     "execution_count": 144,
     "metadata": {},
     "output_type": "execute_result"
    }
   ],
   "source": [
    "employees_id.count(\"mk258\") # this function helps to know the number of occurence of elements in tuple."
   ]
  },
  {
   "cell_type": "code",
   "execution_count": 145,
   "id": "65ac9cd6-56cb-4d49-a9ef-37dc87148432",
   "metadata": {},
   "outputs": [
    {
     "data": {
      "text/plain": [
       "'sn7865'"
      ]
     },
     "execution_count": 145,
     "metadata": {},
     "output_type": "execute_result"
    }
   ],
   "source": [
    "max(employees_id) # this help to know the biggest number in the tuple."
   ]
  },
  {
   "cell_type": "code",
   "execution_count": 146,
   "id": "ca9e4eca-0716-4f62-b767-fb3217e975a7",
   "metadata": {},
   "outputs": [
    {
     "data": {
      "text/plain": [
       "'ak568'"
      ]
     },
     "execution_count": 146,
     "metadata": {},
     "output_type": "execute_result"
    }
   ],
   "source": [
    "min(employees_id) # helps to know the smaller number in the tuple."
   ]
  },
  {
   "cell_type": "code",
   "execution_count": 147,
   "id": "c24f2a37-a99b-4764-9a88-bc8cc007c0e1",
   "metadata": {},
   "outputs": [
    {
     "data": {
      "text/plain": [
       "5"
      ]
     },
     "execution_count": 147,
     "metadata": {},
     "output_type": "execute_result"
    }
   ],
   "source": [
    "len(employees_id) # helps to know the complete length os the tuple."
   ]
  },
  {
   "cell_type": "code",
   "execution_count": null,
   "id": "8c981d32-88e5-4a9d-88e6-5158d9f2338a",
   "metadata": {},
   "outputs": [],
   "source": [
    "# slicing of tuples :-"
   ]
  },
  {
   "cell_type": "code",
   "execution_count": 170,
   "id": "476172cb-3f18-424d-9e6a-2ac32118e3d8",
   "metadata": {},
   "outputs": [],
   "source": [
    "data = (\"mohsin\" , \"swati\" , \"abhishek\" , 45 , 12 , 22.25 , True , False)"
   ]
  },
  {
   "cell_type": "code",
   "execution_count": 171,
   "id": "cce6c3a8-70ed-41a2-955d-f728ff7b51fe",
   "metadata": {},
   "outputs": [
    {
     "data": {
      "text/plain": [
       "('mohsin', 'swati', 'abhishek', 45, 12, 22.25, True, False)"
      ]
     },
     "execution_count": 171,
     "metadata": {},
     "output_type": "execute_result"
    }
   ],
   "source": [
    "data[::]"
   ]
  },
  {
   "cell_type": "code",
   "execution_count": 172,
   "id": "96febd96-32c2-4847-a4af-f2a8b2cc8b9b",
   "metadata": {},
   "outputs": [
    {
     "data": {
      "text/plain": [
       "('mohsin', 'swati', 'abhishek', 45, 12, 22.25, True, False)"
      ]
     },
     "execution_count": 172,
     "metadata": {},
     "output_type": "execute_result"
    }
   ],
   "source": [
    "data[0:]"
   ]
  },
  {
   "cell_type": "code",
   "execution_count": 173,
   "id": "5e1f7394-49d2-4512-b56a-fd5a98b2fe05",
   "metadata": {},
   "outputs": [
    {
     "data": {
      "text/plain": [
       "('abhishek', 45, 12)"
      ]
     },
     "execution_count": 173,
     "metadata": {},
     "output_type": "execute_result"
    }
   ],
   "source": [
    "data[2:5]"
   ]
  },
  {
   "cell_type": "code",
   "execution_count": 174,
   "id": "4415a867-459f-4021-9887-44e286648135",
   "metadata": {},
   "outputs": [
    {
     "data": {
      "text/plain": [
       "('abhishek',)"
      ]
     },
     "execution_count": 174,
     "metadata": {},
     "output_type": "execute_result"
    }
   ],
   "source": [
    "data[2:-5]"
   ]
  },
  {
   "cell_type": "code",
   "execution_count": 177,
   "id": "b4735860-77a9-4e17-a1bd-807f35db6a58",
   "metadata": {},
   "outputs": [
    {
     "data": {
      "text/plain": [
       "('abhishek', 12)"
      ]
     },
     "execution_count": 177,
     "metadata": {},
     "output_type": "execute_result"
    }
   ],
   "source": [
    "data[2:6:2]"
   ]
  },
  {
   "cell_type": "code",
   "execution_count": 178,
   "id": "51b4487a-047d-4b26-8224-78803f2859e1",
   "metadata": {},
   "outputs": [
    {
     "data": {
      "text/plain": [
       "(False, True, 22.25, 12, 45, 'abhishek', 'swati', 'mohsin')"
      ]
     },
     "execution_count": 178,
     "metadata": {},
     "output_type": "execute_result"
    }
   ],
   "source": [
    "data[::-1] # reverse the complete tuple."
   ]
  },
  {
   "cell_type": "code",
   "execution_count": null,
   "id": "f621be01-caa9-4572-927a-27ba80d0dac9",
   "metadata": {},
   "outputs": [],
   "source": [
    "# So this is the complete process of slicing / extracting of tuple."
   ]
  },
  {
   "cell_type": "code",
   "execution_count": 148,
   "id": "6599afca-eea5-4218-9e04-726d2524619f",
   "metadata": {},
   "outputs": [
    {
     "data": {
      "text/plain": [
       "('mk258',\n",
       " 'ak568',\n",
       " 'sn7865',\n",
       " 'ry1235',\n",
       " 'mk258',\n",
       " 'mk258',\n",
       " 'ak568',\n",
       " 'sn7865',\n",
       " 'ry1235',\n",
       " 'mk258',\n",
       " 'mk258',\n",
       " 'ak568',\n",
       " 'sn7865',\n",
       " 'ry1235',\n",
       " 'mk258')"
      ]
     },
     "execution_count": 148,
     "metadata": {},
     "output_type": "execute_result"
    }
   ],
   "source": [
    "# Repeating operators in tuple :- repeating operator helpd to print  repeatedly till the condition is satisfied. \n",
    "employees_id*3 # it will repeat and print again and gain to the  3 times, complete tuple."
   ]
  },
  {
   "cell_type": "code",
   "execution_count": 149,
   "id": "c2d0a6d7-e4dc-4ffe-b6b7-2b35a397f124",
   "metadata": {},
   "outputs": [
    {
     "data": {
      "text/plain": [
       "('mk258',\n",
       " 'ak568',\n",
       " 'sn7865',\n",
       " 'ry1235',\n",
       " 'mk258',\n",
       " 'mk258',\n",
       " 'ak568',\n",
       " 'sn7865',\n",
       " 'ry1235',\n",
       " 'mk258',\n",
       " 'mk258',\n",
       " 'ak568',\n",
       " 'sn7865',\n",
       " 'ry1235',\n",
       " 'mk258',\n",
       " 'mk258',\n",
       " 'ak568',\n",
       " 'sn7865',\n",
       " 'ry1235',\n",
       " 'mk258',\n",
       " 'mk258',\n",
       " 'ak568',\n",
       " 'sn7865',\n",
       " 'ry1235',\n",
       " 'mk258')"
      ]
     },
     "execution_count": 149,
     "metadata": {},
     "output_type": "execute_result"
    }
   ],
   "source": [
    "employees_id*5 # then it will print 5times complete tuple."
   ]
  },
  {
   "cell_type": "code",
   "execution_count": 150,
   "id": "73b40b7e-dac6-4676-af1c-8289bac2b831",
   "metadata": {},
   "outputs": [],
   "source": [
    "# tuples in tuples :-\n",
    "#ex :-\n",
    "name = (\"mohsin\" , \"swati\" , \"abhishek\" , \"sanjeev\")\n",
    "age = (27 , 29 , 28 , 30)\n",
    "name_age = ((name) , (age)) # so this method is called tuples in tuple."
   ]
  },
  {
   "cell_type": "code",
   "execution_count": 151,
   "id": "781f4ce5-2b39-4ecc-b9c5-4dd7250ed8b8",
   "metadata": {},
   "outputs": [
    {
     "data": {
      "text/plain": [
       "(('mohsin', 'swati', 'abhishek', 'sanjeev'), (27, 29, 28, 30))"
      ]
     },
     "execution_count": 151,
     "metadata": {},
     "output_type": "execute_result"
    }
   ],
   "source": [
    "name_age"
   ]
  },
  {
   "cell_type": "code",
   "execution_count": 154,
   "id": "06797b3c-b2f8-42c3-b404-626f50827390",
   "metadata": {},
   "outputs": [],
   "source": [
    "# another example :-\n",
    "name1 = (\"mohsin\" , \"swati\" , \"sanjeev\" , \"abhishek\" , \"ajay\")\n",
    "name2 = (\"bheema\" , \"gaurav\" , \"wahid\" , \"sasa\")\n",
    "names = (name1,name2)"
   ]
  },
  {
   "cell_type": "code",
   "execution_count": 155,
   "id": "01ba6590-3592-4a4f-b520-a49cef9fb358",
   "metadata": {},
   "outputs": [
    {
     "data": {
      "text/plain": [
       "(('mohsin', 'swati', 'sanjeev', 'abhishek', 'ajay'),\n",
       " ('bheema', 'gaurav', 'wahid', 'sasa'))"
      ]
     },
     "execution_count": 155,
     "metadata": {},
     "output_type": "execute_result"
    }
   ],
   "source": [
    "names"
   ]
  },
  {
   "cell_type": "code",
   "execution_count": 156,
   "id": "48f0229b-d65a-476a-bb79-4c3264990282",
   "metadata": {},
   "outputs": [
    {
     "name": "stdout",
     "output_type": "stream",
     "text": [
      "mohsin\n",
      "swati\n",
      "sanjeev\n",
      "abhishek\n",
      "ajay\n",
      "bheema\n",
      "gaurav\n",
      "wahid\n",
      "sasa\n"
     ]
    }
   ],
   "source": [
    "# iteration by using for loop :-\n",
    "for name in names:\n",
    "    for item in name:\n",
    "        print(item) "
   ]
  },
  {
   "cell_type": "code",
   "execution_count": null,
   "id": "2901ea41-7a52-4fc4-b71d-e7cf27e8eff3",
   "metadata": {},
   "outputs": [],
   "source": [
    "# This is the process of iteration in tuple."
   ]
  },
  {
   "cell_type": "code",
   "execution_count": 157,
   "id": "5d6ec695-343a-40f7-b730-60e48ab2569f",
   "metadata": {},
   "outputs": [],
   "source": [
    "# concatenation in tuple :-\n",
    "name1 = (\"mohsin\" , \"swati\" , \"sanjeev\" , \"abhishek\" , \"ajay\")\n",
    "name2 = (\"bheema\" , \"gaurav\" , \"wahid\" , \"sasa\")\n",
    "names = name1+name2"
   ]
  },
  {
   "cell_type": "code",
   "execution_count": 158,
   "id": "d4537253-3117-4618-ac79-984493dbaa3f",
   "metadata": {},
   "outputs": [
    {
     "data": {
      "text/plain": [
       "('mohsin',\n",
       " 'swati',\n",
       " 'sanjeev',\n",
       " 'abhishek',\n",
       " 'ajay',\n",
       " 'bheema',\n",
       " 'gaurav',\n",
       " 'wahid',\n",
       " 'sasa')"
      ]
     },
     "execution_count": 158,
     "metadata": {},
     "output_type": "execute_result"
    }
   ],
   "source": [
    "names # so this process is called concatenation of tuples."
   ]
  },
  {
   "cell_type": "code",
   "execution_count": null,
   "id": "f0dc948d-9cbc-4d7a-891f-3140575d07d6",
   "metadata": {},
   "outputs": [],
   "source": [
    "# membership operator in tuples :- (in , not in)"
   ]
  },
  {
   "cell_type": "code",
   "execution_count": 159,
   "id": "664a82e5-85f8-401e-ac8a-3d227dfa6614",
   "metadata": {},
   "outputs": [
    {
     "data": {
      "text/plain": [
       "True"
      ]
     },
     "execution_count": 159,
     "metadata": {},
     "output_type": "execute_result"
    }
   ],
   "source": [
    "name1 = (\"mohsin\" , \"swati\" , \"sanjeev\" , \"abhishek\" , \"ajay\")\n",
    "\"swati\" in name1"
   ]
  },
  {
   "cell_type": "code",
   "execution_count": 160,
   "id": "1315b0a4-94cc-48e3-bcc6-6f78aa83be52",
   "metadata": {},
   "outputs": [
    {
     "data": {
      "text/plain": [
       "False"
      ]
     },
     "execution_count": 160,
     "metadata": {},
     "output_type": "execute_result"
    }
   ],
   "source": [
    "\"swati\" not in name1"
   ]
  },
  {
   "cell_type": "code",
   "execution_count": 163,
   "id": "bc8937bc-91b9-47fc-93cc-c8378ff0bdf1",
   "metadata": {},
   "outputs": [
    {
     "data": {
      "text/plain": [
       "False"
      ]
     },
     "execution_count": 163,
     "metadata": {},
     "output_type": "execute_result"
    }
   ],
   "source": [
    "\"rashika\" in name1"
   ]
  },
  {
   "cell_type": "code",
   "execution_count": 162,
   "id": "3c6b6793-4348-4fd0-a755-89a52e651ff1",
   "metadata": {},
   "outputs": [
    {
     "data": {
      "text/plain": [
       "True"
      ]
     },
     "execution_count": 162,
     "metadata": {},
     "output_type": "execute_result"
    }
   ],
   "source": [
    "\"rashika\" not in name1"
   ]
  },
  {
   "cell_type": "code",
   "execution_count": null,
   "id": "3916e1ba-766a-4449-98da-7d24992de67a",
   "metadata": {},
   "outputs": [],
   "source": [
    "# So this is the use of membership operator , by which we can check any element availability in the tuple. It is used to check that element is present in the tuple or not."
   ]
  },
  {
   "cell_type": "code",
   "execution_count": null,
   "id": "e5f4de95-1a45-42b2-8d03-966db357d213",
   "metadata": {},
   "outputs": [],
   "source": [
    "# So , here we can see that , tuples are immutable and they are hetrogenous in nature , and they are hashable type data structure , that's why tuple is safe and secure for the elements which we want to not change at any cost.\n",
    "# it's make tuple important."
   ]
  },
  {
   "cell_type": "markdown",
   "id": "76594ce1-075e-4b1f-83f6-1531a9736df6",
   "metadata": {},
   "source": [
    "### Use case of sets in python programming :-"
   ]
  },
  {
   "cell_type": "code",
   "execution_count": null,
   "id": "934d367c-96be-4b59-bdf8-85597d39d637",
   "metadata": {},
   "outputs": [],
   "source": [
    "# Use case of sets :-  # sets are unordered collection of unique elements.\n",
    "                       # sets remove duplications automatically.\n",
    "                       # sets are mutable.\n",
    "                       # sets  cannot be accesseble.\n",
    "                       # sets are hetrogenous data type structure.\n",
    "                       # sets are unhashable type data , but contain only hashable type data.\n",
    "                       # sets also used membership operator to check the membership of elements.\n",
    "                       # iterable by using for loop\n",
    "                       # sets have set operation (union , intersection , diffrence , symmetric).\n",
    "                       # sets also have a diffrent special immutable set called as frozenset (frozenset({})).\n",
    "                       # syntax of set = {} curly bracket."
   ]
  },
  {
   "cell_type": "code",
   "execution_count": 164,
   "id": "d6c79787-1145-44b5-9108-ac1c41fe240e",
   "metadata": {},
   "outputs": [],
   "source": [
    "# Lets's discuss with examples :-"
   ]
  },
  {
   "cell_type": "code",
   "execution_count": 165,
   "id": "e358118e-c3df-4a18-a1cb-a7a5f7d275c7",
   "metadata": {},
   "outputs": [
    {
     "data": {
      "text/plain": [
       "set"
      ]
     },
     "execution_count": 165,
     "metadata": {},
     "output_type": "execute_result"
    }
   ],
   "source": [
    "sets = {1,2}\n",
    "type(sets)"
   ]
  },
  {
   "cell_type": "code",
   "execution_count": 181,
   "id": "874b1e96-99b3-4978-914b-07f4c851cc0e",
   "metadata": {},
   "outputs": [
    {
     "name": "stdout",
     "output_type": "stream",
     "text": [
      "{'swati', True, False, 15, 'mohsin', 50.55, 'rashika', 60}\n",
      "<class 'set'>\n"
     ]
    }
   ],
   "source": [
    "data = {\"mohsin\" , \"swati\" , \"rashika\" , \"swati\" , \"rashika\" , \"mohsin\" , \"swati\" , 50.55,15,60,15,50.55,15,True, False , False , \"mohsin\" , True}\n",
    "print(data)\n",
    "print(type(data))"
   ]
  },
  {
   "cell_type": "code",
   "execution_count": null,
   "id": "78c5d4bf-d456-4f3b-bedd-6f0d6eb88c76",
   "metadata": {},
   "outputs": [],
   "source": [
    "# so , here we can see , remove the duplicate element from the set so it menas ,set remove duplications automatically.\n",
    "# and it will remove the duplicate elements , hence it is proved that set is a unique collection of data.\n",
    "# and we can also see there is no order follow in the sets , that's why it's also proved that set is in umordered form.\n",
    "# here we can also see , that set is hetrogenous data structure."
   ]
  },
  {
   "cell_type": "code",
   "execution_count": 167,
   "id": "d7780aa8-6a24-4612-b8c9-699260e11ad9",
   "metadata": {},
   "outputs": [
    {
     "ename": "TypeError",
     "evalue": "'set' object is not subscriptable",
     "output_type": "error",
     "traceback": [
      "\u001b[0;31m---------------------------------------------------------------------------\u001b[0m",
      "\u001b[0;31mTypeError\u001b[0m                                 Traceback (most recent call last)",
      "Cell \u001b[0;32mIn[167], line 1\u001b[0m\n\u001b[0;32m----> 1\u001b[0m \u001b[43mdata\u001b[49m\u001b[43m[\u001b[49m\u001b[38;5;241;43m3\u001b[39;49m\u001b[43m]\u001b[49m\n",
      "\u001b[0;31mTypeError\u001b[0m: 'set' object is not subscriptable"
     ]
    }
   ],
   "source": [
    "data[3]"
   ]
  },
  {
   "cell_type": "code",
   "execution_count": 182,
   "id": "2bc55d05-22a4-4341-bc4d-ce22f305666f",
   "metadata": {},
   "outputs": [
    {
     "ename": "TypeError",
     "evalue": "'set' object is not subscriptable",
     "output_type": "error",
     "traceback": [
      "\u001b[0;31m---------------------------------------------------------------------------\u001b[0m",
      "\u001b[0;31mTypeError\u001b[0m                                 Traceback (most recent call last)",
      "Cell \u001b[0;32mIn[182], line 1\u001b[0m\n\u001b[0;32m----> 1\u001b[0m \u001b[43mdata\u001b[49m\u001b[43m[\u001b[49m\u001b[38;5;241;43m-\u001b[39;49m\u001b[38;5;241;43m3\u001b[39;49m\u001b[43m]\u001b[49m\n",
      "\u001b[0;31mTypeError\u001b[0m: 'set' object is not subscriptable"
     ]
    }
   ],
   "source": [
    "data[-3]"
   ]
  },
  {
   "cell_type": "code",
   "execution_count": null,
   "id": "f6845714-d494-4706-97a6-e594b76c2ebe",
   "metadata": {},
   "outputs": [],
   "source": [
    "# It means we cannot access the element in the set. proved"
   ]
  },
  {
   "cell_type": "code",
   "execution_count": 183,
   "id": "b00e5898-a90e-43dc-a955-4a0135113884",
   "metadata": {},
   "outputs": [],
   "source": [
    "# set is mutable :- by the use of its function :-"
   ]
  },
  {
   "cell_type": "code",
   "execution_count": null,
   "id": "01033922-1d6b-4bc5-b7f1-b4c3de2b625c",
   "metadata": {},
   "outputs": [],
   "source": [
    "# Functions os sets :-\n",
    "\n",
    "# 1 - set() >> helps to convert list into sets.\n",
    "# 2 - list() >> helps to convert sets into list.\n",
    "# 3 - .add() >> helps to add any elements at any place randomly.\n",
    "# 4 - .remove() >> helps to remove that purticular elements which is given in thr parenthesis.\n",
    "# 5 - .pop() >> helps to remove any elements randomly , because we cannot use index in sets.\n",
    "# 6 - del() >> helps to delete the complete stes.\n",
    "# 7 - .clear() >> helps to remove or clear all the elements from the sets.\n",
    "# 8 - .discard() >> helps to remove the elements from the stes , and if that element is not present in the sets , then it will not give error.\n",
    "# 9 - .update() >> helps to update any elements in the sets .\n",
    "\n",
    "# These are the complete functions which are used in the sets.\n",
    "# By the use of this function , we can manipulate or modify the elements of sets."
   ]
  },
  {
   "cell_type": "code",
   "execution_count": 184,
   "id": "067487bd-fbdf-4345-b2c1-7e15942d288e",
   "metadata": {},
   "outputs": [
    {
     "name": "stdout",
     "output_type": "stream",
     "text": [
      "{'swati', True, False, 15, 'mohsin', 50.55, 'rashika', 60}\n",
      "<class 'set'>\n"
     ]
    }
   ],
   "source": [
    "data = {\"mohsin\" , \"swati\" , \"rashika\" , \"swati\" , \"rashika\" , \"mohsin\" , \"swati\" , 50.55,15,60,15,50.55,15,True, False , False , \"mohsin\" , True}\n",
    "print(data)\n",
    "print(type(data))"
   ]
  },
  {
   "cell_type": "code",
   "execution_count": 185,
   "id": "fad7759f-e373-4b37-b19a-58b597ef8ccb",
   "metadata": {},
   "outputs": [],
   "source": [
    "data.add(\"ridhi\") # it will add a new element in the set."
   ]
  },
  {
   "cell_type": "code",
   "execution_count": 186,
   "id": "bc0e170e-4610-4959-b9fe-9e7a41221e2a",
   "metadata": {},
   "outputs": [
    {
     "data": {
      "text/plain": [
       "{15, 50.55, 60, False, True, 'mohsin', 'rashika', 'ridhi', 'swati'}"
      ]
     },
     "execution_count": 186,
     "metadata": {},
     "output_type": "execute_result"
    }
   ],
   "source": [
    "data"
   ]
  },
  {
   "cell_type": "code",
   "execution_count": 187,
   "id": "ba03e5e0-ebd4-4862-b4a5-2168c409ecb7",
   "metadata": {},
   "outputs": [],
   "source": [
    "data.update([\"ridhima\"]) # it will update a new element in the set."
   ]
  },
  {
   "cell_type": "code",
   "execution_count": 188,
   "id": "cd8079d7-3ad5-4fa9-8075-f01b33d33d5d",
   "metadata": {},
   "outputs": [
    {
     "data": {
      "text/plain": [
       "{15, 50.55, 60, False, True, 'mohsin', 'rashika', 'ridhi', 'ridhima', 'swati'}"
      ]
     },
     "execution_count": 188,
     "metadata": {},
     "output_type": "execute_result"
    }
   ],
   "source": [
    "data"
   ]
  },
  {
   "cell_type": "code",
   "execution_count": 189,
   "id": "512461ec-f391-4917-98ef-89d2a667c733",
   "metadata": {},
   "outputs": [],
   "source": [
    "data.remove(\"rashika\") # it will remove a purticular data in set."
   ]
  },
  {
   "cell_type": "code",
   "execution_count": 190,
   "id": "b5a39705-9487-4d72-9eea-f04754909eb9",
   "metadata": {},
   "outputs": [
    {
     "data": {
      "text/plain": [
       "{15, 50.55, 60, False, True, 'mohsin', 'ridhi', 'ridhima', 'swati'}"
      ]
     },
     "execution_count": 190,
     "metadata": {},
     "output_type": "execute_result"
    }
   ],
   "source": [
    "data"
   ]
  },
  {
   "cell_type": "code",
   "execution_count": 191,
   "id": "2dfde413-1977-4a82-b30b-85acc16c7a43",
   "metadata": {},
   "outputs": [
    {
     "data": {
      "text/plain": [
       "'swati'"
      ]
     },
     "execution_count": 191,
     "metadata": {},
     "output_type": "execute_result"
    }
   ],
   "source": [
    "data.pop() # it will remove randomly any data in set."
   ]
  },
  {
   "cell_type": "code",
   "execution_count": 192,
   "id": "f88bb85f-9c6e-49d2-a5c4-7484c59b231e",
   "metadata": {},
   "outputs": [
    {
     "data": {
      "text/plain": [
       "{15, 50.55, 60, False, True, 'mohsin', 'ridhi', 'ridhima'}"
      ]
     },
     "execution_count": 192,
     "metadata": {},
     "output_type": "execute_result"
    }
   ],
   "source": [
    "data"
   ]
  },
  {
   "cell_type": "code",
   "execution_count": 193,
   "id": "1e6396bb-bbaa-462a-a427-1d30188be1b9",
   "metadata": {},
   "outputs": [],
   "source": [
    "data.clear() # it will clear the all elements of the sets and make an empty set."
   ]
  },
  {
   "cell_type": "code",
   "execution_count": 194,
   "id": "025b4d5e-23e4-421b-9b94-0c5f8442f952",
   "metadata": {},
   "outputs": [
    {
     "data": {
      "text/plain": [
       "set()"
      ]
     },
     "execution_count": 194,
     "metadata": {},
     "output_type": "execute_result"
    }
   ],
   "source": [
    "data"
   ]
  },
  {
   "cell_type": "code",
   "execution_count": 195,
   "id": "dad80abd-82f7-45b5-9467-ee92ac7e49b7",
   "metadata": {},
   "outputs": [
    {
     "data": {
      "text/plain": [
       "{15, 50.55, 60, False, True, 'mohsin', 'rashika', 'swati'}"
      ]
     },
     "execution_count": 195,
     "metadata": {},
     "output_type": "execute_result"
    }
   ],
   "source": [
    "data = {\"mohsin\" , \"swati\" , \"rashika\" , \"swati\" , \"rashika\" , \"mohsin\" , \"swati\" , 50.55,15,60,15,50.55,15,True, False , False , \"mohsin\" , True}\n",
    "data"
   ]
  },
  {
   "cell_type": "code",
   "execution_count": null,
   "id": "44a5b990-9e0b-423b-9423-16147e3dcec5",
   "metadata": {},
   "outputs": [],
   "source": [
    "del data # it will delete  complete set permannently."
   ]
  },
  {
   "cell_type": "code",
   "execution_count": 197,
   "id": "4126f656-20d3-476e-a46f-13c3a407447c",
   "metadata": {},
   "outputs": [
    {
     "ename": "NameError",
     "evalue": "name 'data' is not defined",
     "output_type": "error",
     "traceback": [
      "\u001b[0;31m---------------------------------------------------------------------------\u001b[0m",
      "\u001b[0;31mNameError\u001b[0m                                 Traceback (most recent call last)",
      "Cell \u001b[0;32mIn[197], line 1\u001b[0m\n\u001b[0;32m----> 1\u001b[0m \u001b[43mdata\u001b[49m\n",
      "\u001b[0;31mNameError\u001b[0m: name 'data' is not defined"
     ]
    }
   ],
   "source": [
    "data"
   ]
  },
  {
   "cell_type": "code",
   "execution_count": 198,
   "id": "86edf4ea-2f45-4e18-8a1e-ae2efe92d9cb",
   "metadata": {},
   "outputs": [
    {
     "data": {
      "text/plain": [
       "{15, 50.55, 60, False, True, 'mohsin', 'rashika', 'swati'}"
      ]
     },
     "execution_count": 198,
     "metadata": {},
     "output_type": "execute_result"
    }
   ],
   "source": [
    "data = {\"mohsin\" , \"swati\" , \"rashika\" , \"swati\" , \"rashika\" , \"mohsin\" , \"swati\" , 50.55,15,60,15,50.55,15,True, False , False , \"mohsin\" , True}\n",
    "data"
   ]
  },
  {
   "cell_type": "code",
   "execution_count": 199,
   "id": "e80c8314-bc74-4408-b019-b2b6599ff968",
   "metadata": {},
   "outputs": [],
   "source": [
    "data.discard(\"swati\") # helps to delete any purticular element from the set."
   ]
  },
  {
   "cell_type": "code",
   "execution_count": 200,
   "id": "f8557a13-ccdd-41ac-83bb-a86160e88476",
   "metadata": {},
   "outputs": [
    {
     "data": {
      "text/plain": [
       "{15, 50.55, 60, False, True, 'mohsin', 'rashika'}"
      ]
     },
     "execution_count": 200,
     "metadata": {},
     "output_type": "execute_result"
    }
   ],
   "source": [
    "data"
   ]
  },
  {
   "cell_type": "code",
   "execution_count": 201,
   "id": "51cdd30a-4d8a-4b35-b11f-ee1e68c83896",
   "metadata": {},
   "outputs": [],
   "source": [
    "data.discard(\"lucknow\") # if element is not present , then it will not gic=ve error, while remove function gives keyerror."
   ]
  },
  {
   "cell_type": "code",
   "execution_count": 202,
   "id": "a2a8a234-dc78-4ff2-afb1-e67b6466c203",
   "metadata": {},
   "outputs": [
    {
     "data": {
      "text/plain": [
       "{15, 50.55, 60, False, True, 'mohsin', 'rashika'}"
      ]
     },
     "execution_count": 202,
     "metadata": {},
     "output_type": "execute_result"
    }
   ],
   "source": [
    "data"
   ]
  },
  {
   "cell_type": "code",
   "execution_count": 203,
   "id": "cf834190-07e2-4b3f-a8f3-7788cc62f4ad",
   "metadata": {},
   "outputs": [],
   "source": [
    "# we can also convert a list into set and a set into list :-"
   ]
  },
  {
   "cell_type": "code",
   "execution_count": 204,
   "id": "ec5e6e9a-5358-4b1f-85f8-9790cb2c0760",
   "metadata": {},
   "outputs": [
    {
     "data": {
      "text/plain": [
       "{15, 50.55, 60, False, True, 'mohsin', 'rashika', 'swati'}"
      ]
     },
     "execution_count": 204,
     "metadata": {},
     "output_type": "execute_result"
    }
   ],
   "source": [
    "data = {\"mohsin\" , \"swati\" , \"rashika\" , \"swati\" , \"rashika\" , \"mohsin\" , \"swati\" , 50.55,15,60,15,50.55,15,True, False , False , \"mohsin\" , True}\n",
    "data"
   ]
  },
  {
   "cell_type": "code",
   "execution_count": 205,
   "id": "bb666957-2e5f-4d4e-939d-ef639285ed07",
   "metadata": {},
   "outputs": [
    {
     "data": {
      "text/plain": [
       "['swati', True, False, 15, 'mohsin', 50.55, 'rashika', 60]"
      ]
     },
     "execution_count": 205,
     "metadata": {},
     "output_type": "execute_result"
    }
   ],
   "source": [
    "list(data) # it will convert set in list."
   ]
  },
  {
   "cell_type": "code",
   "execution_count": 206,
   "id": "da2abdf9-9256-4a7b-ae15-b7ba2e3f6c9e",
   "metadata": {},
   "outputs": [
    {
     "data": {
      "text/plain": [
       "{15, 50.55, 60, False, True, 'mohsin', 'rashika', 'swati'}"
      ]
     },
     "execution_count": 206,
     "metadata": {},
     "output_type": "execute_result"
    }
   ],
   "source": [
    "set(data) # it will convert list in set."
   ]
  },
  {
   "cell_type": "code",
   "execution_count": null,
   "id": "ad3e4121-a8d7-4827-829b-5401f4b02ccd",
   "metadata": {},
   "outputs": [],
   "source": [
    "# So , these are the functions of set , by which we can manipulate or we can say modifiy the elements of set.\n",
    "# so , set is mutable , its proved."
   ]
  },
  {
   "cell_type": "code",
   "execution_count": 207,
   "id": "b6c7d196-900d-4bcf-b808-d284fb42fcbf",
   "metadata": {},
   "outputs": [
    {
     "data": {
      "text/plain": [
       "{15, 50.55, 60, False, True, 'mohsin', 'rashika', 'swati'}"
      ]
     },
     "execution_count": 207,
     "metadata": {},
     "output_type": "execute_result"
    }
   ],
   "source": [
    "# membership operator in set :- (in , not in)\n",
    "data = {\"mohsin\" , \"swati\" , \"rashika\" , \"swati\" , \"rashika\" , \"mohsin\" , \"swati\" , 50.55,15,60,15,50.55,15,True, False , False , \"mohsin\" , True}\n",
    "data"
   ]
  },
  {
   "cell_type": "code",
   "execution_count": 208,
   "id": "50a9cbb3-bc0b-4ea6-8c2f-7d67e85589e2",
   "metadata": {},
   "outputs": [
    {
     "data": {
      "text/plain": [
       "True"
      ]
     },
     "execution_count": 208,
     "metadata": {},
     "output_type": "execute_result"
    }
   ],
   "source": [
    "True in data"
   ]
  },
  {
   "cell_type": "code",
   "execution_count": 209,
   "id": "ef3d94ae-c31b-4e92-a375-70d2e178390d",
   "metadata": {},
   "outputs": [
    {
     "data": {
      "text/plain": [
       "True"
      ]
     },
     "execution_count": 209,
     "metadata": {},
     "output_type": "execute_result"
    }
   ],
   "source": [
    "\"swati\" in data"
   ]
  },
  {
   "cell_type": "code",
   "execution_count": 211,
   "id": "df71d77b-e68a-4e82-a173-d2567bdc4af8",
   "metadata": {},
   "outputs": [
    {
     "data": {
      "text/plain": [
       "False"
      ]
     },
     "execution_count": 211,
     "metadata": {},
     "output_type": "execute_result"
    }
   ],
   "source": [
    "\"lucknow\" in data"
   ]
  },
  {
   "cell_type": "code",
   "execution_count": 212,
   "id": "bf0d0084-d8b4-462c-b56b-535b7912c93a",
   "metadata": {},
   "outputs": [
    {
     "data": {
      "text/plain": [
       "False"
      ]
     },
     "execution_count": 212,
     "metadata": {},
     "output_type": "execute_result"
    }
   ],
   "source": [
    "\"delhi\" in data"
   ]
  },
  {
   "cell_type": "code",
   "execution_count": null,
   "id": "2f9146db-2fc1-4574-8429-906fc6c8eb88",
   "metadata": {},
   "outputs": [],
   "source": [
    "# So this is the use of membership operator , by which we can check any element availability in the set. It is used to check that element is present in the set or not."
   ]
  },
  {
   "cell_type": "markdown",
   "id": "01101a7a-a549-4f01-adaa-cb093e6b774f",
   "metadata": {},
   "source": [
    "### Operations in set :-"
   ]
  },
  {
   "cell_type": "code",
   "execution_count": null,
   "id": "11eb3f82-868d-4966-96af-79aa3b435c95",
   "metadata": {},
   "outputs": [],
   "source": [
    "# Sets have four operations are :-\n",
    "\n",
    "# 1 - Union          # syntax of union operation = | (symbol of 'or' bitwise operator)\n",
    "# 2 - Intersection   # syntax of intersection    = & ( symbol of and)\n",
    "# 3 - Diffrence      # syntax of diffrence       = - (negative sign) \n",
    "# 4 - Symmetric      # syntax of symmetric       = ^ (symbol of hat or cap)"
   ]
  },
  {
   "cell_type": "code",
   "execution_count": 214,
   "id": "585315ac-8361-422f-aa81-bd502fa5240c",
   "metadata": {},
   "outputs": [],
   "source": [
    "# union operation >> combine of all elements from both the sets.\n",
    "A = {1,2,3,4}\n",
    "B = {3,4,5,6}"
   ]
  },
  {
   "cell_type": "code",
   "execution_count": 215,
   "id": "e1d56ec9-e8ef-4e97-9296-0a5467deb761",
   "metadata": {},
   "outputs": [
    {
     "data": {
      "text/plain": [
       "{1, 2, 3, 4, 5, 6}"
      ]
     },
     "execution_count": 215,
     "metadata": {},
     "output_type": "execute_result"
    }
   ],
   "source": [
    "A|B # this is union operation."
   ]
  },
  {
   "cell_type": "code",
   "execution_count": 216,
   "id": "1f6174d0-eb93-477c-a134-58172140da92",
   "metadata": {},
   "outputs": [
    {
     "data": {
      "text/plain": [
       "{3, 4}"
      ]
     },
     "execution_count": 216,
     "metadata": {},
     "output_type": "execute_result"
    }
   ],
   "source": [
    "# intersection operation >> only common elements from both the sets.\n",
    "A&B # this is intersection operation."
   ]
  },
  {
   "cell_type": "code",
   "execution_count": 218,
   "id": "a71cf12d-60ff-4063-a2bf-b18807f3131f",
   "metadata": {},
   "outputs": [
    {
     "data": {
      "text/plain": [
       "{1, 2}"
      ]
     },
     "execution_count": 218,
     "metadata": {},
     "output_type": "execute_result"
    }
   ],
   "source": [
    "# diffrence operation >> Only all elements of first set , but exclude the common elements as well as elements of second set also.\n",
    "A-B # diffrence operation."
   ]
  },
  {
   "cell_type": "code",
   "execution_count": 219,
   "id": "9176361d-2424-4646-ada2-ab7247f3d550",
   "metadata": {},
   "outputs": [
    {
     "data": {
      "text/plain": [
       "{1, 2, 5, 6}"
      ]
     },
     "execution_count": 219,
     "metadata": {},
     "output_type": "execute_result"
    }
   ],
   "source": [
    "# symmetric operation :- all elements from both the sets , only exclude common elements of both sets.\n",
    "A^B # this is symmetric operation."
   ]
  },
  {
   "cell_type": "markdown",
   "id": "2df5ccbf-b6db-4800-a939-1bd9412a50a5",
   "metadata": {},
   "source": [
    "#### Hashable and unhashable"
   ]
  },
  {
   "cell_type": "code",
   "execution_count": null,
   "id": "ac1bc8d7-e93a-467b-81a8-4b41b36f527e",
   "metadata": {},
   "outputs": [],
   "source": [
    "# Hashable means , that type of data structure , which have stable memory block address.\n",
    "# Unhashable means , that type of data structure , which have not stable block address."
   ]
  },
  {
   "cell_type": "code",
   "execution_count": 220,
   "id": "a16d232a-60cc-45ce-9060-da689f306645",
   "metadata": {},
   "outputs": [],
   "source": [
    "# Set is hashable type data but set only requires unhashable data type :-\n",
    "#ex:-"
   ]
  },
  {
   "cell_type": "code",
   "execution_count": 222,
   "id": "afa40fb7-c09d-42e1-8d20-1c59a8a5d53c",
   "metadata": {},
   "outputs": [
    {
     "ename": "TypeError",
     "evalue": "unhashable type: 'list'",
     "output_type": "error",
     "traceback": [
      "\u001b[0;31m---------------------------------------------------------------------------\u001b[0m",
      "\u001b[0;31mTypeError\u001b[0m                                 Traceback (most recent call last)",
      "Cell \u001b[0;32mIn[222], line 1\u001b[0m\n\u001b[0;32m----> 1\u001b[0m sets \u001b[38;5;241m=\u001b[39m {\u001b[38;5;241m1\u001b[39m,\u001b[38;5;241m2\u001b[39m,\u001b[38;5;241m3\u001b[39m,[\u001b[38;5;241m4\u001b[39m,\u001b[38;5;241m5\u001b[39m,\u001b[38;5;241m6\u001b[39m]}\n\u001b[1;32m      2\u001b[0m sets\n",
      "\u001b[0;31mTypeError\u001b[0m: unhashable type: 'list'"
     ]
    }
   ],
   "source": [
    "# list in set:-\n",
    "sets = {1,2,3,[4,5,6]} # it will give error , because list is unhashable type data.\n",
    "sets"
   ]
  },
  {
   "cell_type": "code",
   "execution_count": 223,
   "id": "e58c812a-0d1d-4d52-ade6-636b0855ec9d",
   "metadata": {},
   "outputs": [
    {
     "ename": "TypeError",
     "evalue": "unhashable type: 'set'",
     "output_type": "error",
     "traceback": [
      "\u001b[0;31m---------------------------------------------------------------------------\u001b[0m",
      "\u001b[0;31mTypeError\u001b[0m                                 Traceback (most recent call last)",
      "Cell \u001b[0;32mIn[223], line 2\u001b[0m\n\u001b[1;32m      1\u001b[0m \u001b[38;5;66;03m# set in set :-\u001b[39;00m\n\u001b[0;32m----> 2\u001b[0m sets \u001b[38;5;241m=\u001b[39m {\u001b[38;5;241m1\u001b[39m,\u001b[38;5;241m2\u001b[39m,\u001b[38;5;241m3\u001b[39m,{\u001b[38;5;241m4\u001b[39m,\u001b[38;5;241m5\u001b[39m,\u001b[38;5;241m6\u001b[39m}}\n\u001b[1;32m      3\u001b[0m sets\n",
      "\u001b[0;31mTypeError\u001b[0m: unhashable type: 'set'"
     ]
    }
   ],
   "source": [
    "# set in set :-\n",
    "sets = {1,2,3,{4,5,6}} # again we get error because sets is also a unhashable data, and set only require hashable data.\n",
    "sets"
   ]
  },
  {
   "cell_type": "code",
   "execution_count": 224,
   "id": "de28843d-adc2-49ac-9d40-b61194a0c62b",
   "metadata": {},
   "outputs": [
    {
     "data": {
      "text/plain": [
       "{(4, 5, 6), 1, 2, 3}"
      ]
     },
     "execution_count": 224,
     "metadata": {},
     "output_type": "execute_result"
    }
   ],
   "source": [
    "# tuples in set :-\n",
    "sets = {1,2,3,(4,5,6)} # it will not give error , because tuples are unhashable type data.\n",
    "sets"
   ]
  },
  {
   "cell_type": "code",
   "execution_count": null,
   "id": "40be5f21-46a4-40bb-988c-44791049197d",
   "metadata": {},
   "outputs": [],
   "source": [
    "# we also proved that set is unhashable type data , because set in set is not possible.\n",
    "# so , set can contain only unhashable type data stucture."
   ]
  },
  {
   "cell_type": "code",
   "execution_count": 225,
   "id": "9213aad6-e72c-4e42-8153-89653c3230ae",
   "metadata": {},
   "outputs": [],
   "source": [
    "# Iteration of set using for loop :-"
   ]
  },
  {
   "cell_type": "code",
   "execution_count": 226,
   "id": "025e20cb-e9bc-4ede-aada-63416bfcbe6b",
   "metadata": {},
   "outputs": [
    {
     "data": {
      "text/plain": [
       "{15, 50.55, 60, False, True, 'mohsin', 'rashika', 'swati'}"
      ]
     },
     "execution_count": 226,
     "metadata": {},
     "output_type": "execute_result"
    }
   ],
   "source": [
    "data = {\"mohsin\" , \"swati\" , \"rashika\" , \"swati\" , \"rashika\" , \"mohsin\" , \"swati\" , 50.55,15,60,15,50.55,15,True, False , False , \"mohsin\" , True}\n",
    "data"
   ]
  },
  {
   "cell_type": "code",
   "execution_count": 227,
   "id": "d971c2ee-5251-43ad-a01b-77a3bb400563",
   "metadata": {},
   "outputs": [
    {
     "name": "stdout",
     "output_type": "stream",
     "text": [
      "swati\n",
      "True\n",
      "False\n",
      "15\n",
      "mohsin\n",
      "50.55\n",
      "rashika\n",
      "60\n"
     ]
    }
   ],
   "source": [
    "for item in data:\n",
    "    print(item)"
   ]
  },
  {
   "cell_type": "markdown",
   "id": "bebdab4f-2609-48d7-a7f5-7c8a8337a837",
   "metadata": {},
   "source": [
    "### Frozen set :-"
   ]
  },
  {
   "cell_type": "code",
   "execution_count": 228,
   "id": "0db0b4ba-b5a4-48e6-b5f1-bd475db9d348",
   "metadata": {},
   "outputs": [],
   "source": [
    "# frozen set :- a diffrent version of immutability set is known as frozen set. Build an immutable unordered collection of unique elements.\n",
    "# syntax of frozen set >> frozenset({})."
   ]
  },
  {
   "cell_type": "code",
   "execution_count": 229,
   "id": "fd97ae57-b756-43a4-80fc-3cec4eab1849",
   "metadata": {},
   "outputs": [
    {
     "data": {
      "text/plain": [
       "{15, 50.55, 60, False, True, 'mohsin', 'rashika', 'swati'}"
      ]
     },
     "execution_count": 229,
     "metadata": {},
     "output_type": "execute_result"
    }
   ],
   "source": [
    "data = {\"mohsin\" , \"swati\" , \"rashika\" , \"swati\" , \"rashika\" , \"mohsin\" , \"swati\" , 50.55,15,60,15,50.55,15,True, False , False , \"mohsin\" , True}\n",
    "data"
   ]
  },
  {
   "cell_type": "code",
   "execution_count": 233,
   "id": "608dba54-6e91-46c4-b94b-2cf98f5b6c27",
   "metadata": {},
   "outputs": [],
   "source": [
    "new_data = frozenset(data)"
   ]
  },
  {
   "cell_type": "code",
   "execution_count": 234,
   "id": "66d76a56-1a8d-48b3-950c-c311215c6b07",
   "metadata": {},
   "outputs": [
    {
     "data": {
      "text/plain": [
       "frozenset({15, 50.55, 60, False, True, 'mohsin', 'rashika', 'swati'})"
      ]
     },
     "execution_count": 234,
     "metadata": {},
     "output_type": "execute_result"
    }
   ],
   "source": [
    "new_data"
   ]
  },
  {
   "cell_type": "code",
   "execution_count": 235,
   "id": "2f3dc8b1-ccf5-4508-8f82-33af01cbc88d",
   "metadata": {},
   "outputs": [
    {
     "data": {
      "text/plain": [
       "frozenset"
      ]
     },
     "execution_count": 235,
     "metadata": {},
     "output_type": "execute_result"
    }
   ],
   "source": [
    "type(new_data)"
   ]
  },
  {
   "cell_type": "code",
   "execution_count": 237,
   "id": "22a0bb0b-7bcd-4888-a766-beb91464a5ed",
   "metadata": {},
   "outputs": [],
   "source": [
    "# if we have any list :-\n",
    "lis = [1,2,3,4,5]\n",
    "new_list = frozenset(lis)"
   ]
  },
  {
   "cell_type": "code",
   "execution_count": 238,
   "id": "86c5d10a-6690-499e-891b-9c1a45147aa9",
   "metadata": {},
   "outputs": [
    {
     "data": {
      "text/plain": [
       "frozenset({1, 2, 3, 4, 5})"
      ]
     },
     "execution_count": 238,
     "metadata": {},
     "output_type": "execute_result"
    }
   ],
   "source": [
    "new_list"
   ]
  },
  {
   "cell_type": "code",
   "execution_count": 239,
   "id": "f5437dd2-becf-4d25-b831-e2e3ea056815",
   "metadata": {},
   "outputs": [
    {
     "data": {
      "text/plain": [
       "frozenset"
      ]
     },
     "execution_count": 239,
     "metadata": {},
     "output_type": "execute_result"
    }
   ],
   "source": [
    "type(new_list)"
   ]
  },
  {
   "cell_type": "code",
   "execution_count": 240,
   "id": "d68a71af-2eb6-40b0-856e-03f6be29c46f",
   "metadata": {},
   "outputs": [
    {
     "ename": "TypeError",
     "evalue": "'frozenset' object is not subscriptable",
     "output_type": "error",
     "traceback": [
      "\u001b[0;31m---------------------------------------------------------------------------\u001b[0m",
      "\u001b[0;31mTypeError\u001b[0m                                 Traceback (most recent call last)",
      "Cell \u001b[0;32mIn[240], line 2\u001b[0m\n\u001b[1;32m      1\u001b[0m \u001b[38;5;66;03m# if we want to manipulate the frozen set data :-\u001b[39;00m\n\u001b[0;32m----> 2\u001b[0m \u001b[43mnew_list\u001b[49m\u001b[43m[\u001b[49m\u001b[38;5;241;43m2\u001b[39;49m\u001b[43m]\u001b[49m\n",
      "\u001b[0;31mTypeError\u001b[0m: 'frozenset' object is not subscriptable"
     ]
    }
   ],
   "source": [
    "# if we want to manipulate the frozen set data :-\n",
    "new_list[2] # it give error , because frozen set cannot be accesse afyter creation."
   ]
  },
  {
   "cell_type": "code",
   "execution_count": 241,
   "id": "37a39c21-1ed3-4ef4-9c3d-4e2241b3dceb",
   "metadata": {},
   "outputs": [
    {
     "ename": "TypeError",
     "evalue": "'frozenset' object does not support item assignment",
     "output_type": "error",
     "traceback": [
      "\u001b[0;31m---------------------------------------------------------------------------\u001b[0m",
      "\u001b[0;31mTypeError\u001b[0m                                 Traceback (most recent call last)",
      "Cell \u001b[0;32mIn[241], line 1\u001b[0m\n\u001b[0;32m----> 1\u001b[0m \u001b[43mnew_list\u001b[49m\u001b[43m[\u001b[49m\u001b[38;5;241;43m2\u001b[39;49m\u001b[43m]\u001b[49m \u001b[38;5;241m=\u001b[39m \u001b[38;5;241m5\u001b[39m\n",
      "\u001b[0;31mTypeError\u001b[0m: 'frozenset' object does not support item assignment"
     ]
    }
   ],
   "source": [
    "new_list[2] = 5 # it will again give error , because frozen set are immutable. They can not be manipulated by anyways."
   ]
  },
  {
   "cell_type": "code",
   "execution_count": null,
   "id": "8fe18216-af96-40c3-9f29-01659a8d888f",
   "metadata": {},
   "outputs": [],
   "source": [
    "# This is the complete understanding of frozen set."
   ]
  },
  {
   "cell_type": "code",
   "execution_count": null,
   "id": "fcca448a-b6ff-46e6-a8cc-e4fae5acc12c",
   "metadata": {},
   "outputs": [],
   "source": [
    "# This is the complete discussion of use case  of tuples and sets."
   ]
  },
  {
   "cell_type": "markdown",
   "id": "219c42d1-1ae4-492d-97be-08aa6f18b022",
   "metadata": {},
   "source": [
    "### Question 7 - Discuss how to add , modify , and delete items in a dictionary with examples."
   ]
  },
  {
   "cell_type": "code",
   "execution_count": null,
   "id": "4e9a37ac-9476-4ae9-9242-648a58bf261d",
   "metadata": {},
   "outputs": [],
   "source": [
    "# Ans - Dictionary :- Dictionary is a collection of ordered data in the form of keys and values pair.\n",
    "                   # Dictionary is a mutable data structure.\n",
    "                   # keys are unique and immutable.\n",
    "                   # Dictionary is a hetrogenous type of data structure.\n",
    "                   # Dictionary is Unhashable type data.\n",
    "                   # Syntax of dictionary >> my_dict{key:pair}."
   ]
  },
  {
   "cell_type": "code",
   "execution_count": null,
   "id": "42f5f936-605a-4493-810a-d7d228a9b98a",
   "metadata": {},
   "outputs": [],
   "source": [
    "# We can add , modify and delete items from dictionary by the using of its functions are :-\n",
    "\n",
    "# 1 - [key] = \"value\" # this helps to add any new pair of keys and values in the dictionary.\n",
    "# 2 - .update()       # helps to update a dictionary in other dictionary.\n",
    "# 3 - .get()          # help to get the complete details of values refere to that purticular keys.\n",
    "# 4 - .copy()         # helps to make a copy of dictionary with other memory space name.(deep copy)\n",
    "# 5 - .keys()         # helps to know the keys available in the dictionary.\n",
    "# 6 - .values()       # helps to know the values available in the dictionary.\n",
    "# 7 - .items()        # helps to know the complete keys and values available in the dictionary.\n",
    "# 8 - len()           # helps to know the total length of the dictionary.\n",
    "# 9 - del()           # helps to delete the complete dictionary.\n",
    "# 10 - .clear()       # helps to clear all the keys and values from the dictionary.\n",
    "# 11 - .pop()         # helps to delete any purticular key and value from the dictionary\n",
    "# 12 - .fromkeys()    # helps to make a new dictionary from the given sequences of elements.\n",
    "# 13 - zip function   # helps to make a  correspondence values to the two diffrence value with together.(zip(key,value))"
   ]
  },
  {
   "cell_type": "code",
   "execution_count": 3,
   "id": "7fbe32a5-7433-42f2-97a0-bab2cd3053fa",
   "metadata": {},
   "outputs": [],
   "source": [
    "d = {\"name\":\"mohsin\"} # this is the presentation of dictionary."
   ]
  },
  {
   "cell_type": "code",
   "execution_count": 5,
   "id": "72b2cccf-b696-4a86-8e8b-5aff38daebcb",
   "metadata": {},
   "outputs": [
    {
     "name": "stdout",
     "output_type": "stream",
     "text": [
      "{'name': 'mohsin'}\n",
      "<class 'dict'>\n"
     ]
    }
   ],
   "source": [
    "print(d)\n",
    "print(type(d))"
   ]
  },
  {
   "cell_type": "code",
   "execution_count": 7,
   "id": "fd0d4ba0-7214-4b8c-baac-a0b703462263",
   "metadata": {},
   "outputs": [
    {
     "name": "stdout",
     "output_type": "stream",
     "text": [
      "{'name': 'mohsin', 'address': 'Eldeco saubhagyam', 'contact': 63888, 'Location': 'Lucknow'}\n",
      "<class 'dict'>\n"
     ]
    }
   ],
   "source": [
    "data = {\"name\":\"mohsin\",\"address\":\"Eldeco saubhagyam\",\"contact\":63888,\"Location\":\"Lucknow\"}\n",
    "print(data)\n",
    "print(type(data))"
   ]
  },
  {
   "cell_type": "code",
   "execution_count": 8,
   "id": "712d15ac-5c56-4b21-a7a9-053ac1ed0092",
   "metadata": {},
   "outputs": [
    {
     "data": {
      "text/plain": [
       "'Eldeco saubhagyam'"
      ]
     },
     "execution_count": 8,
     "metadata": {},
     "output_type": "execute_result"
    }
   ],
   "source": [
    "# if we want to access any value :-\n",
    "data[\"address\"]"
   ]
  },
  {
   "cell_type": "code",
   "execution_count": 9,
   "id": "1c1ea0aa-cc40-4de6-8444-48ffaeff5ec4",
   "metadata": {},
   "outputs": [
    {
     "data": {
      "text/plain": [
       "63888"
      ]
     },
     "execution_count": 9,
     "metadata": {},
     "output_type": "execute_result"
    }
   ],
   "source": [
    "data[\"contact\"]"
   ]
  },
  {
   "cell_type": "code",
   "execution_count": 10,
   "id": "d49a265f-de58-4816-a59b-e6bae6934c1b",
   "metadata": {},
   "outputs": [
    {
     "ename": "KeyError",
     "evalue": "'mohsin'",
     "output_type": "error",
     "traceback": [
      "\u001b[0;31m---------------------------------------------------------------------------\u001b[0m",
      "\u001b[0;31mKeyError\u001b[0m                                  Traceback (most recent call last)",
      "Cell \u001b[0;32mIn[10], line 1\u001b[0m\n\u001b[0;32m----> 1\u001b[0m \u001b[43mdata\u001b[49m\u001b[43m[\u001b[49m\u001b[38;5;124;43m\"\u001b[39;49m\u001b[38;5;124;43mmohsin\u001b[39;49m\u001b[38;5;124;43m\"\u001b[39;49m\u001b[43m]\u001b[49m\n",
      "\u001b[0;31mKeyError\u001b[0m: 'mohsin'"
     ]
    }
   ],
   "source": [
    "data[\"mohsin\"] # here we get keyerror , because we cannot access keys by using values."
   ]
  },
  {
   "cell_type": "code",
   "execution_count": null,
   "id": "dbe4c803-672f-49d4-817d-404c1abedf66",
   "metadata": {},
   "outputs": [],
   "source": [
    "# So , this is the process of accessing the values by using keys.But we cannot access the keys by using values."
   ]
  },
  {
   "cell_type": "markdown",
   "id": "c29d8a76-1ac5-4dbd-aeca-2b8c16db4279",
   "metadata": {},
   "source": [
    "### Addition of items in dictionary :-"
   ]
  },
  {
   "cell_type": "code",
   "execution_count": 2,
   "id": "31e92e5c-92eb-437f-854a-760307224691",
   "metadata": {},
   "outputs": [],
   "source": [
    "# If we want to add any keys and value in dictionary :-"
   ]
  },
  {
   "cell_type": "code",
   "execution_count": 11,
   "id": "0258e182-895a-462b-91ba-10f547f9a803",
   "metadata": {},
   "outputs": [],
   "source": [
    "data = {\"name\":\"mohsin\",\"address\":\"Eldeco saubhagyam\",\"contact\":63888,\"Location\":\"Lucknow\"}\n",
    "data[\"Area\"] = \"Vrindavan Yojna\" # this is the process by which we can add any keys and values in the dictionary."
   ]
  },
  {
   "cell_type": "code",
   "execution_count": 12,
   "id": "4a7ad7c2-226b-4a67-a0d1-794c2f616bb8",
   "metadata": {},
   "outputs": [
    {
     "data": {
      "text/plain": [
       "{'name': 'mohsin',\n",
       " 'address': 'Eldeco saubhagyam',\n",
       " 'contact': 63888,\n",
       " 'Location': 'Lucknow',\n",
       " 'Area': 'Vrindavan Yojna'}"
      ]
     },
     "execution_count": 12,
     "metadata": {},
     "output_type": "execute_result"
    }
   ],
   "source": [
    "data  # here we can see key and value both are added in the dictionary."
   ]
  },
  {
   "cell_type": "code",
   "execution_count": 13,
   "id": "48684647-367a-4698-bd20-94291aeb9f0b",
   "metadata": {},
   "outputs": [],
   "source": [
    "data[528] = \"co-ordinates\" # so we can add any key and value like this also."
   ]
  },
  {
   "cell_type": "code",
   "execution_count": 14,
   "id": "11134cca-6269-4c87-b3ff-157f38ca0ae2",
   "metadata": {},
   "outputs": [
    {
     "data": {
      "text/plain": [
       "{'name': 'mohsin',\n",
       " 'address': 'Eldeco saubhagyam',\n",
       " 'contact': 63888,\n",
       " 'Location': 'Lucknow',\n",
       " 'Area': 'Vrindavan Yojna',\n",
       " 528: 'co-ordinates'}"
      ]
     },
     "execution_count": 14,
     "metadata": {},
     "output_type": "execute_result"
    }
   ],
   "source": [
    "data"
   ]
  },
  {
   "cell_type": "code",
   "execution_count": null,
   "id": "942bdf15-06f6-4fca-b891-7b763b48fd8f",
   "metadata": {},
   "outputs": [],
   "source": [
    "# So these are the process by which we can add any pair of keys and values in the dictionary."
   ]
  },
  {
   "cell_type": "markdown",
   "id": "50c466ae-48ef-4e99-ab49-2e42d38573b0",
   "metadata": {},
   "source": [
    "### Modify items in dictionary :-"
   ]
  },
  {
   "cell_type": "code",
   "execution_count": null,
   "id": "ec26aaaf-c44a-4ced-960b-4d1c6bae79df",
   "metadata": {},
   "outputs": [],
   "source": [
    "# We can modify items in dictionary by using different function of dictionary are :-"
   ]
  },
  {
   "cell_type": "code",
   "execution_count": 24,
   "id": "642e7469-39e9-4495-8757-fd7f64ca9bb9",
   "metadata": {},
   "outputs": [],
   "source": [
    "data = {\"name\":\"mohsin\",\"address\":\"Eldeco saubhagyam\",\"contact\":63888,\"Location\":\"Lucknow\"} # This is a dictionary."
   ]
  },
  {
   "cell_type": "code",
   "execution_count": 16,
   "id": "ef2652f3-dddd-4e1f-b4b7-e28f5b4914eb",
   "metadata": {},
   "outputs": [],
   "source": [
    "# use of .update() function :- helps to update a new dictionary in other dictionary."
   ]
  },
  {
   "cell_type": "code",
   "execution_count": 25,
   "id": "629f9093-c102-4f68-8b13-0c3f23cfa39e",
   "metadata": {},
   "outputs": [
    {
     "name": "stdout",
     "output_type": "stream",
     "text": [
      "{'name1': 'abhishek', 'address1': 'bijnour', 'contact1': 926096, 'Location1': 'lucknow'}\n",
      "<class 'dict'>\n"
     ]
    }
   ],
   "source": [
    "d = {\"name1\":\"abhishek\" , \"address1\":\"bijnour\",\"contact1\":926096,\"Location1\":\"lucknow\"}\n",
    "print(d)\n",
    "print(type(d))"
   ]
  },
  {
   "cell_type": "code",
   "execution_count": 26,
   "id": "61a25d59-82c9-49ae-a443-df0d6a738216",
   "metadata": {},
   "outputs": [],
   "source": [
    "data.update(d) # this is the process of using .update() function."
   ]
  },
  {
   "cell_type": "code",
   "execution_count": 27,
   "id": "4cb160e7-d5c4-472b-86fc-edcdbe081061",
   "metadata": {},
   "outputs": [
    {
     "data": {
      "text/plain": [
       "{'name': 'mohsin',\n",
       " 'address': 'Eldeco saubhagyam',\n",
       " 'contact': 63888,\n",
       " 'Location': 'Lucknow',\n",
       " 'name1': 'abhishek',\n",
       " 'address1': 'bijnour',\n",
       " 'contact1': 926096,\n",
       " 'Location1': 'lucknow'}"
      ]
     },
     "execution_count": 27,
     "metadata": {},
     "output_type": "execute_result"
    }
   ],
   "source": [
    "data # so here we can see data will updated by 'd' dictionary"
   ]
  },
  {
   "cell_type": "code",
   "execution_count": null,
   "id": "0df34e6b-4ca9-41a4-b3d7-da33c7169d04",
   "metadata": {},
   "outputs": [],
   "source": [
    "# This is the process of updating a new dictionary in other dictionary."
   ]
  },
  {
   "cell_type": "code",
   "execution_count": 28,
   "id": "ab5b9751-2d23-43b5-86c4-cbc743724efb",
   "metadata": {},
   "outputs": [],
   "source": [
    "# .copy() function :- is used to make a copy of dictionary with new memory space."
   ]
  },
  {
   "cell_type": "code",
   "execution_count": 29,
   "id": "f7a4da02-2ea5-4bec-8064-778b47c66841",
   "metadata": {},
   "outputs": [],
   "source": [
    "data = {\"name\":\"mohsin\",\"address\":\"Eldeco saubhagyam\",\"contact\":63888,\"Location\":\"Lucknow\"}\n",
    "data1 = data.copy() # so this is the process by which we can make a copy of dictionary with a new memory space."
   ]
  },
  {
   "cell_type": "code",
   "execution_count": 30,
   "id": "20a04eef-49e4-460c-8b6a-8e45bbc7837a",
   "metadata": {},
   "outputs": [
    {
     "data": {
      "text/plain": [
       "{'name': 'mohsin',\n",
       " 'address': 'Eldeco saubhagyam',\n",
       " 'contact': 63888,\n",
       " 'Location': 'Lucknow'}"
      ]
     },
     "execution_count": 30,
     "metadata": {},
     "output_type": "execute_result"
    }
   ],
   "source": [
    "data1"
   ]
  },
  {
   "cell_type": "code",
   "execution_count": 31,
   "id": "31ffbe4b-82bd-48e1-8213-4c7fdb3d1f0b",
   "metadata": {},
   "outputs": [
    {
     "data": {
      "text/plain": [
       "{'name': 'mohsin',\n",
       " 'address': 'Eldeco saubhagyam',\n",
       " 'contact': 63888,\n",
       " 'Location': 'Lucknow'}"
      ]
     },
     "execution_count": 31,
     "metadata": {},
     "output_type": "execute_result"
    }
   ],
   "source": [
    "data"
   ]
  },
  {
   "cell_type": "code",
   "execution_count": 32,
   "id": "22878f6a-75ea-4ca3-af2a-9c4fb5ba5350",
   "metadata": {},
   "outputs": [],
   "source": [
    "# now if we edit anything in data1 , it will not impact on data, because now they both are different memory space."
   ]
  },
  {
   "cell_type": "code",
   "execution_count": 33,
   "id": "83deb00c-17ae-4696-b3b5-73c63c0bdfbf",
   "metadata": {},
   "outputs": [],
   "source": [
    "data1[\"contact\"] = 123456"
   ]
  },
  {
   "cell_type": "code",
   "execution_count": 34,
   "id": "3fc81cf4-3651-4358-aafb-411d0f17abaa",
   "metadata": {},
   "outputs": [
    {
     "data": {
      "text/plain": [
       "{'name': 'mohsin',\n",
       " 'address': 'Eldeco saubhagyam',\n",
       " 'contact': 123456,\n",
       " 'Location': 'Lucknow'}"
      ]
     },
     "execution_count": 34,
     "metadata": {},
     "output_type": "execute_result"
    }
   ],
   "source": [
    "data1 # so it will change the contact."
   ]
  },
  {
   "cell_type": "code",
   "execution_count": 35,
   "id": "e1092805-2af7-4cfc-a252-3ec2854df1ca",
   "metadata": {},
   "outputs": [
    {
     "data": {
      "text/plain": [
       "{'name': 'mohsin',\n",
       " 'address': 'Eldeco saubhagyam',\n",
       " 'contact': 63888,\n",
       " 'Location': 'Lucknow'}"
      ]
     },
     "execution_count": 35,
     "metadata": {},
     "output_type": "execute_result"
    }
   ],
   "source": [
    "data # but it will not change anyhting in the data dictionary."
   ]
  },
  {
   "cell_type": "code",
   "execution_count": null,
   "id": "072dd30d-64a3-434c-872f-864c04ba9760",
   "metadata": {},
   "outputs": [],
   "source": [
    "# This is the process of using .copy() function (deep copy)."
   ]
  },
  {
   "cell_type": "code",
   "execution_count": null,
   "id": "874aad5d-2fbf-4f23-a665-97753bc79dfa",
   "metadata": {},
   "outputs": [],
   "source": [
    "# .get() function :- used to get the complete values of any purticular key."
   ]
  },
  {
   "cell_type": "code",
   "execution_count": 36,
   "id": "3a0506c5-8723-4ff9-8230-2ce37419b6f8",
   "metadata": {},
   "outputs": [],
   "source": [
    "# Example:-\n",
    "my_dict = {\"E001\":{\"name\":\"mohsin\",\"department\":\"Analayst\",\"Salary\":100000},\n",
    "           \"E002\":{\"name\":\"swati\",\"department\":\"HR\",\"Salary\":85000},\n",
    "           \"E003\":{\"name\":\"abhishek\",\"department\":\"Accounts\",\"Salary\":85000}}"
   ]
  },
  {
   "cell_type": "code",
   "execution_count": 37,
   "id": "1cdcac23-8800-4815-b365-8e3d46f4635a",
   "metadata": {},
   "outputs": [
    {
     "name": "stdout",
     "output_type": "stream",
     "text": [
      "{'E001': {'name': 'mohsin', 'department': 'Analayst', 'Salary': 100000}, 'E002': {'name': 'swati', 'department': 'HR', 'Salary': 85000}, 'E003': {'name': 'abhishek', 'department': 'Accounts', 'Salary': 85000}}\n",
      "<class 'dict'>\n"
     ]
    }
   ],
   "source": [
    "print(my_dict)\n",
    "print(type(my_dict))"
   ]
  },
  {
   "cell_type": "code",
   "execution_count": 38,
   "id": "78f63de9-9a0d-4422-81de-3df56d0d3e42",
   "metadata": {},
   "outputs": [
    {
     "data": {
      "text/plain": [
       "{'name': 'swati', 'department': 'HR', 'Salary': 85000}"
      ]
     },
     "execution_count": 38,
     "metadata": {},
     "output_type": "execute_result"
    }
   ],
   "source": [
    "my_dict.get(\"E002\") # this is the use of .get() function."
   ]
  },
  {
   "cell_type": "code",
   "execution_count": 39,
   "id": "0c97960b-3430-4b04-a185-e603d852ef6b",
   "metadata": {},
   "outputs": [
    {
     "data": {
      "text/plain": [
       "{'name': 'abhishek', 'department': 'Accounts', 'Salary': 85000}"
      ]
     },
     "execution_count": 39,
     "metadata": {},
     "output_type": "execute_result"
    }
   ],
   "source": [
    "my_dict.get(\"E003\")"
   ]
  },
  {
   "cell_type": "code",
   "execution_count": 40,
   "id": "65f2b165-2779-42f4-8dcc-03fa99b587ee",
   "metadata": {},
   "outputs": [
    {
     "data": {
      "text/plain": [
       "{'name': 'swati', 'department': 'HR', 'Salary': 85000}"
      ]
     },
     "execution_count": 40,
     "metadata": {},
     "output_type": "execute_result"
    }
   ],
   "source": [
    "# we can also do this by :-\n",
    "my_dict[\"E002\"] # this is also a process , by which we can get the complete values of any keys."
   ]
  },
  {
   "cell_type": "code",
   "execution_count": null,
   "id": "9ee84712-cd22-42eb-8ac1-be0961e6cdfd",
   "metadata": {},
   "outputs": [],
   "source": [
    "# We can check any purticular complete values of any purticular keys."
   ]
  },
  {
   "cell_type": "code",
   "execution_count": 45,
   "id": "393f8faa-73f2-48f1-9dc7-49c8e6c2b8d9",
   "metadata": {},
   "outputs": [
    {
     "data": {
      "text/plain": [
       "dict_keys(['name', 'address', 'contact', 'Location'])"
      ]
     },
     "execution_count": 45,
     "metadata": {},
     "output_type": "execute_result"
    }
   ],
   "source": [
    "# .keys() function :- helps to know the complete keys available in the dictionary:-\n",
    "data = {\"name\":\"mohsin\",\"address\":\"Eldeco saubhagyam\",\"contact\":63888,\"Location\":\"Lucknow\"}\n",
    "data.keys() # we can get the complete keys available in the dictionary."
   ]
  },
  {
   "cell_type": "code",
   "execution_count": 46,
   "id": "3dcf43ac-4598-4c3f-ad4f-601384b451c8",
   "metadata": {},
   "outputs": [
    {
     "data": {
      "text/plain": [
       "dict_values(['mohsin', 'Eldeco saubhagyam', 63888, 'Lucknow'])"
      ]
     },
     "execution_count": 46,
     "metadata": {},
     "output_type": "execute_result"
    }
   ],
   "source": [
    "# .values() function :- helps to know the complete values present in the dictionary:-\n",
    "data = {\"name\":\"mohsin\",\"address\":\"Eldeco saubhagyam\",\"contact\":63888,\"Location\":\"Lucknow\"}\n",
    "data.values() # these are the complete values present in the dictionary."
   ]
  },
  {
   "cell_type": "code",
   "execution_count": 47,
   "id": "840647d5-abe3-4b50-97f4-e4fbe9fdfbd7",
   "metadata": {},
   "outputs": [],
   "source": [
    "# .items() function :- helps to know the complete keys and values present in the dictionary."
   ]
  },
  {
   "cell_type": "code",
   "execution_count": 48,
   "id": "f9db75fa-26b6-479f-9bbf-2aedf90f94b2",
   "metadata": {},
   "outputs": [
    {
     "data": {
      "text/plain": [
       "dict_items([('name', 'mohsin'), ('address', 'Eldeco saubhagyam'), ('contact', 63888), ('Location', 'Lucknow')])"
      ]
     },
     "execution_count": 48,
     "metadata": {},
     "output_type": "execute_result"
    }
   ],
   "source": [
    "data = {\"name\":\"mohsin\",\"address\":\"Eldeco saubhagyam\",\"contact\":63888,\"Location\":\"Lucknow\"}\n",
    "data.items() # these are the items available in this purticular dictionary."
   ]
  },
  {
   "cell_type": "code",
   "execution_count": 49,
   "id": "5c5b324e-e55a-4c5d-8f51-ae9457202d98",
   "metadata": {},
   "outputs": [
    {
     "data": {
      "text/plain": [
       "4"
      ]
     },
     "execution_count": 49,
     "metadata": {},
     "output_type": "execute_result"
    }
   ],
   "source": [
    "# len() function :- used to know the complete length of the dictionary :-\n",
    "data = {\"name\":\"mohsin\",\"address\":\"Eldeco saubhagyam\",\"contact\":63888,\"Location\":\"Lucknow\"}\n",
    "len(data) # so here we have 4 keys , that's why the length of the dictionary is 4."
   ]
  },
  {
   "cell_type": "code",
   "execution_count": 50,
   "id": "c8d96765-c4a6-4ddd-8d54-e7645beb99eb",
   "metadata": {},
   "outputs": [],
   "source": [
    "# .fromkeys() >> helps to make a new dictionary from the given sequences of elements."
   ]
  },
  {
   "cell_type": "code",
   "execution_count": 51,
   "id": "75bec555-6ab4-4f45-a844-e1100fe3fc44",
   "metadata": {},
   "outputs": [],
   "source": [
    "# they are the two simple list , by which we want to make dictionary :-\n",
    "a = [1,2,3,4]\n",
    "b = [\"a\", \"b\" , \"c\" , \"d\" , \"e\"]"
   ]
  },
  {
   "cell_type": "code",
   "execution_count": 56,
   "id": "ee58aeb7-61b2-4ea2-8313-f1bcd6d5b015",
   "metadata": {},
   "outputs": [
    {
     "data": {
      "text/plain": [
       "{1: ('a', 'b', 'c', 'd', 'e'),\n",
       " 2: ('a', 'b', 'c', 'd', 'e'),\n",
       " 3: ('a', 'b', 'c', 'd', 'e')}"
      ]
     },
     "execution_count": 56,
     "metadata": {},
     "output_type": "execute_result"
    }
   ],
   "source": [
    "data.fromkeys((1,2,3),(\"a\", \"b\" , \"c\" , \"d\" , \"e\")) # so this is the process by which we can make two random lists into dictinary."
   ]
  },
  {
   "cell_type": "code",
   "execution_count": null,
   "id": "06a6bbd9-63da-44db-a2de-e3c0e02fad07",
   "metadata": {},
   "outputs": [],
   "source": [
    "# This is the process of using .fromkeys() function."
   ]
  },
  {
   "cell_type": "markdown",
   "id": "1dc46f40-2a39-4682-8da3-d0dcf24befd9",
   "metadata": {},
   "source": [
    "### Zip function :-"
   ]
  },
  {
   "cell_type": "code",
   "execution_count": null,
   "id": "2593c825-0007-4294-8816-13d143764200",
   "metadata": {},
   "outputs": [],
   "source": [
    "# Zip function :- helps to make a correspondence values to the two diffrence value with together.(zip(key,value))"
   ]
  },
  {
   "cell_type": "code",
   "execution_count": 57,
   "id": "145d6edd-ef7d-4737-b408-7e5867cf5247",
   "metadata": {},
   "outputs": [],
   "source": [
    "# suppose we have two diffrent data , and we have to make correspondence by using that data , then we use zip function :-"
   ]
  },
  {
   "cell_type": "code",
   "execution_count": 58,
   "id": "794576ba-5cff-4f1f-a4dd-127aca0e0613",
   "metadata": {},
   "outputs": [],
   "source": [
    "names = [\"mohsin\" , \"swati\" , \"rashika\" , \"zeba\" , \"abhishek\", \"sanjeev\"] \n",
    "ages = [27 , 29 , 29 , 30 , 28 , 30]\n",
    "# so these are the given data by which we have to make a dictionary."
   ]
  },
  {
   "cell_type": "code",
   "execution_count": 59,
   "id": "b733f342-edba-4b3b-bfc1-2439dd8329f2",
   "metadata": {},
   "outputs": [],
   "source": [
    "# so for zip function we have to use for loop :-"
   ]
  },
  {
   "cell_type": "code",
   "execution_count": 60,
   "id": "2c322e9e-1443-461d-803a-965ff02ccbd4",
   "metadata": {},
   "outputs": [
    {
     "name": "stdout",
     "output_type": "stream",
     "text": [
      "mohsin 27\n",
      "swati 29\n",
      "rashika 29\n",
      "zeba 30\n",
      "abhishek 28\n",
      "sanjeev 30\n"
     ]
    }
   ],
   "source": [
    "for name,age in zip(names,ages):\n",
    "    print(name,age) # so this is the process by which we can make a proper correspondence details."
   ]
  },
  {
   "cell_type": "code",
   "execution_count": null,
   "id": "b2c95763-4d22-48d9-bda1-9314a25d9bb2",
   "metadata": {},
   "outputs": [],
   "source": [
    "# This is the complete process of zip function."
   ]
  },
  {
   "cell_type": "markdown",
   "id": "07c69cf9-c603-44e6-8804-2520bc9ad119",
   "metadata": {},
   "source": [
    "### Dictionary comprehension :-"
   ]
  },
  {
   "cell_type": "code",
   "execution_count": null,
   "id": "7ff5408d-9ea4-44f3-899e-c7c3349fd6ce",
   "metadata": {},
   "outputs": [],
   "source": [
    "# Dictionary comprehension :- used to concise the code."
   ]
  },
  {
   "cell_type": "code",
   "execution_count": 72,
   "id": "6ee9355a-150e-474c-97c6-261dab90b3d7",
   "metadata": {},
   "outputs": [
    {
     "data": {
      "text/plain": [
       "{'mohsin': 27,\n",
       " 'swati': 29,\n",
       " 'rashika': 29,\n",
       " 'zeba': 30,\n",
       " 'abhishek': 28,\n",
       " 'sanjeev': 30}"
      ]
     },
     "execution_count": 72,
     "metadata": {},
     "output_type": "execute_result"
    }
   ],
   "source": [
    "names = [\"mohsin\" , \"swati\" , \"rashika\" , \"zeba\" , \"abhishek\", \"sanjeev\"] \n",
    "ages = [27 , 29 , 29 , 30 , 28 , 30]\n",
    "{name:age for name,age in zip(names,ages)} # This is the process of dictionary comprehension."
   ]
  },
  {
   "cell_type": "code",
   "execution_count": 73,
   "id": "5d9dd1ab-b2a4-40d4-82da-1bb4efbd67a9",
   "metadata": {},
   "outputs": [],
   "source": [
    "# Another example :-\n",
    "students = [\"mohsin\" , \"abhishek\" , \"swati\" , \"zeba\" , \"rashika\" , \"sanjeev\"]\n",
    "marks = [75 , 70 , 85 , 88 , 80 , 73]"
   ]
  },
  {
   "cell_type": "code",
   "execution_count": 74,
   "id": "dad41580-067d-452e-8962-0ea8872dcc48",
   "metadata": {},
   "outputs": [
    {
     "name": "stdout",
     "output_type": "stream",
     "text": [
      "{'mohsin': 75, 'abhishek': 70, 'swati': 85, 'zeba': 88, 'rashika': 80, 'sanjeev': 73}\n"
     ]
    }
   ],
   "source": [
    "print({student:mark for student,mark in zip(students,marks)}) # this is the use of dictionary comprehension."
   ]
  },
  {
   "cell_type": "code",
   "execution_count": null,
   "id": "c7406794-22ed-4ae8-854d-7100fc40ab1c",
   "metadata": {},
   "outputs": [],
   "source": [
    "# This is the complete use of dictionary comprehension."
   ]
  },
  {
   "cell_type": "code",
   "execution_count": 61,
   "id": "63b83ead-e828-4bfd-a335-218b08293d5e",
   "metadata": {},
   "outputs": [],
   "source": [
    "# iteration in dictionary :-"
   ]
  },
  {
   "cell_type": "code",
   "execution_count": 62,
   "id": "0f9f3f48-1758-4b2c-ae08-6ffb25f65b6e",
   "metadata": {},
   "outputs": [],
   "source": [
    "data = {\"name\":\"mohsin\",\"address\":\"Eldeco saubhagyam\",\"contact\":63888,\"Location\":\"Lucknow\"}"
   ]
  },
  {
   "cell_type": "code",
   "execution_count": 64,
   "id": "a1519d2f-7510-4bfd-bb99-96a8e4889b9a",
   "metadata": {},
   "outputs": [
    {
     "name": "stdout",
     "output_type": "stream",
     "text": [
      "name\n",
      "address\n",
      "contact\n",
      "Location\n"
     ]
    }
   ],
   "source": [
    "for key in data.keys():\n",
    "    print(key)"
   ]
  },
  {
   "cell_type": "code",
   "execution_count": 65,
   "id": "dd343a09-7d99-44ff-b06f-b7e8caa89b94",
   "metadata": {},
   "outputs": [
    {
     "name": "stdout",
     "output_type": "stream",
     "text": [
      "mohsin\n",
      "Eldeco saubhagyam\n",
      "63888\n",
      "Lucknow\n"
     ]
    }
   ],
   "source": [
    "for value in data.values():\n",
    "    print(value)"
   ]
  },
  {
   "cell_type": "code",
   "execution_count": 67,
   "id": "4a9bc2e0-ad03-4e69-9282-81f183a455c6",
   "metadata": {},
   "outputs": [
    {
     "name": "stdout",
     "output_type": "stream",
     "text": [
      "name mohsin\n",
      "address Eldeco saubhagyam\n",
      "contact 63888\n",
      "Location Lucknow\n"
     ]
    }
   ],
   "source": [
    "for key,value in data.items():\n",
    "    print(key,value)"
   ]
  },
  {
   "cell_type": "code",
   "execution_count": null,
   "id": "a71059e4-34e1-48e8-b494-b6220fc2ff0b",
   "metadata": {},
   "outputs": [],
   "source": [
    "# This is the process of iteration in dictionary."
   ]
  },
  {
   "cell_type": "code",
   "execution_count": null,
   "id": "e2032aeb-02f6-4665-8e95-74ac83193721",
   "metadata": {},
   "outputs": [],
   "source": [
    "# This is the complete process of modification of items in dictionary."
   ]
  },
  {
   "cell_type": "markdown",
   "id": "fdbfab6f-b187-44ae-9118-3f0c3dcab758",
   "metadata": {},
   "source": [
    "### Deleting of items in dictionary :-"
   ]
  },
  {
   "cell_type": "code",
   "execution_count": 75,
   "id": "41aff219-e555-4f79-aaa6-2a5750447fee",
   "metadata": {},
   "outputs": [],
   "source": [
    "# by using .pop() function :- helps to delete any purticular keys and values."
   ]
  },
  {
   "cell_type": "code",
   "execution_count": 77,
   "id": "af54cc41-0e79-4edc-9f72-fabe115453a0",
   "metadata": {},
   "outputs": [
    {
     "data": {
      "text/plain": [
       "'Eldeco saubhagyam'"
      ]
     },
     "execution_count": 77,
     "metadata": {},
     "output_type": "execute_result"
    }
   ],
   "source": [
    "data = {\"name\":\"mohsin\",\"address\":\"Eldeco saubhagyam\",\"contact\":63888,\"Location\":\"Lucknow\"}\n",
    "data.pop(\"address\") #it will delete address key and its value."
   ]
  },
  {
   "cell_type": "code",
   "execution_count": 78,
   "id": "ab040e17-6282-4f8f-aa4a-6afe8fafd0b3",
   "metadata": {},
   "outputs": [
    {
     "data": {
      "text/plain": [
       "{'name': 'mohsin', 'contact': 63888, 'Location': 'Lucknow'}"
      ]
     },
     "execution_count": 78,
     "metadata": {},
     "output_type": "execute_result"
    }
   ],
   "source": [
    "data"
   ]
  },
  {
   "cell_type": "code",
   "execution_count": 80,
   "id": "ca41752f-3ed1-4f85-8f12-c8ea5b86e39f",
   "metadata": {},
   "outputs": [
    {
     "data": {
      "text/plain": [
       "63888"
      ]
     },
     "execution_count": 80,
     "metadata": {},
     "output_type": "execute_result"
    }
   ],
   "source": [
    "data.pop(\"contact\") # it will delete the contact and key and its value."
   ]
  },
  {
   "cell_type": "code",
   "execution_count": 81,
   "id": "95685158-cb49-4bfe-901f-437455a9669e",
   "metadata": {},
   "outputs": [
    {
     "data": {
      "text/plain": [
       "{'name': 'mohsin', 'Location': 'Lucknow'}"
      ]
     },
     "execution_count": 81,
     "metadata": {},
     "output_type": "execute_result"
    }
   ],
   "source": [
    "data"
   ]
  },
  {
   "cell_type": "code",
   "execution_count": 82,
   "id": "e08373a4-6f72-4ec6-8896-6654dc2a4107",
   "metadata": {},
   "outputs": [],
   "source": [
    "# by using .clear() function :- helps to clear the complete keys and their values from the dictionary."
   ]
  },
  {
   "cell_type": "code",
   "execution_count": 83,
   "id": "bb972391-ca96-4315-b04b-8e0e1d338ee6",
   "metadata": {},
   "outputs": [],
   "source": [
    "data = {\"name\":\"mohsin\",\"address\":\"Eldeco saubhagyam\",\"contact\":63888,\"Location\":\"Lucknow\"}\n",
    "data.clear() # by the use of this process we can remove the complete keys and their values from the dictionary."
   ]
  },
  {
   "cell_type": "code",
   "execution_count": 84,
   "id": "249933a8-f2f9-4d0f-bd2e-abb29452b01c",
   "metadata": {},
   "outputs": [
    {
     "data": {
      "text/plain": [
       "{}"
      ]
     },
     "execution_count": 84,
     "metadata": {},
     "output_type": "execute_result"
    }
   ],
   "source": [
    "data # it makes an empty dictionary."
   ]
  },
  {
   "cell_type": "code",
   "execution_count": 85,
   "id": "371c2b2c-253a-4836-adeb-49bed7939bee",
   "metadata": {},
   "outputs": [],
   "source": [
    "# use of del() function :- it will delete the complete dictionary."
   ]
  },
  {
   "cell_type": "code",
   "execution_count": 86,
   "id": "3f1b221a-91c1-4a53-9d2a-c87886e33d87",
   "metadata": {},
   "outputs": [],
   "source": [
    "data = {\"name\":\"mohsin\",\"address\":\"Eldeco saubhagyam\",\"contact\":63888,\"Location\":\"Lucknow\"}\n",
    "del(data)"
   ]
  },
  {
   "cell_type": "code",
   "execution_count": 87,
   "id": "c87f156c-4812-4ad5-9d77-b0535d97db7b",
   "metadata": {},
   "outputs": [
    {
     "ename": "NameError",
     "evalue": "name 'data' is not defined",
     "output_type": "error",
     "traceback": [
      "\u001b[0;31m---------------------------------------------------------------------------\u001b[0m",
      "\u001b[0;31mNameError\u001b[0m                                 Traceback (most recent call last)",
      "Cell \u001b[0;32mIn[87], line 1\u001b[0m\n\u001b[0;32m----> 1\u001b[0m \u001b[43mdata\u001b[49m\n",
      "\u001b[0;31mNameError\u001b[0m: name 'data' is not defined"
     ]
    }
   ],
   "source": [
    "data"
   ]
  },
  {
   "cell_type": "code",
   "execution_count": 88,
   "id": "896d4d70-f4c5-42ea-91bc-e526875c36c2",
   "metadata": {},
   "outputs": [],
   "source": [
    "# del function can also delete any purticular key from the dictionary :-"
   ]
  },
  {
   "cell_type": "code",
   "execution_count": 89,
   "id": "f2047246-0828-4bf5-9c8b-a9802fd9ea25",
   "metadata": {},
   "outputs": [],
   "source": [
    "data = {\"name\":\"mohsin\",\"address\":\"Eldeco saubhagyam\",\"contact\":63888,\"Location\":\"Lucknow\"}\n",
    "del data[\"Location\"] # so by using this method with del function , it will also helps to delete any purticular key and its value from the dictionary."
   ]
  },
  {
   "cell_type": "code",
   "execution_count": 90,
   "id": "388b8095-4d74-47b8-bce5-66c1e3c68be9",
   "metadata": {},
   "outputs": [
    {
     "data": {
      "text/plain": [
       "{'name': 'mohsin', 'address': 'Eldeco saubhagyam', 'contact': 63888}"
      ]
     },
     "execution_count": 90,
     "metadata": {},
     "output_type": "execute_result"
    }
   ],
   "source": [
    "data"
   ]
  },
  {
   "cell_type": "code",
   "execution_count": null,
   "id": "e4719fb4-8592-4cbd-9772-a59ddf009ae0",
   "metadata": {},
   "outputs": [],
   "source": [
    "# So , this is the complete understanding of adding , modifying and deleting of items from the dictionary."
   ]
  },
  {
   "cell_type": "markdown",
   "id": "890e7c0d-35b4-4c3a-b559-9e51738d49b3",
   "metadata": {},
   "source": [
    "## Question 8 - Discuss the importance of dictionary keys being immutable and provide examples."
   ]
  },
  {
   "cell_type": "code",
   "execution_count": null,
   "id": "d4ce6d2b-c597-4a1e-b68f-09bd54290b24",
   "metadata": {},
   "outputs": [],
   "source": [
    "# Ans - Keys are immutable , because if the key were a mutable object, its value could change, and thus its hash could also change.\n",
    "\n",
    "# Keys cannot be a mutable , because if keys are mutable , then it can be chnaged , and if keys becomes changable , then its hash also can be changed.\n",
    "# keys are immutable , means have stable hash value, means keys are hashable type data.\n",
    "# This is the reason that's why keys cannot be use mutable or we can say unhashable type data, because if the keys are changable , then dictionary cannot be execute in python ,  or always get error.\n",
    "\n",
    "# So this is the complete reason , for the importance of dictionary keys being immutable."
   ]
  },
  {
   "cell_type": "code",
   "execution_count": 1,
   "id": "858431e4-e6f0-4da4-8b63-e1802c64e492",
   "metadata": {},
   "outputs": [],
   "source": [
    "# Examples :- Valid data used as keys in dictionary:-"
   ]
  },
  {
   "cell_type": "code",
   "execution_count": 2,
   "id": "97e9cd30-f753-4f7a-a0e5-81eeec2dcfe1",
   "metadata": {},
   "outputs": [],
   "source": [
    "# use numbers(integers and float) as keys :-"
   ]
  },
  {
   "cell_type": "code",
   "execution_count": 3,
   "id": "647f550f-2aca-4be6-bdc7-504d3bcf5835",
   "metadata": {},
   "outputs": [],
   "source": [
    "data = {12:\"mohsin\",12.55:\"abhishek\",15:\"zeba\",15.55:\"swati\"}"
   ]
  },
  {
   "cell_type": "code",
   "execution_count": 4,
   "id": "729a733d-d70d-421d-8cf0-09aa406872ac",
   "metadata": {},
   "outputs": [
    {
     "name": "stdout",
     "output_type": "stream",
     "text": [
      "{12: 'mohsin', 12.55: 'abhishek', 15: 'zeba', 15.55: 'swati'}\n",
      "<class 'dict'>\n"
     ]
    }
   ],
   "source": [
    "print(data)\n",
    "print(type(data))"
   ]
  },
  {
   "cell_type": "code",
   "execution_count": 5,
   "id": "16c478d4-aa76-4d33-ab39-9e0b417c37f8",
   "metadata": {},
   "outputs": [
    {
     "data": {
      "text/plain": [
       "dict_keys([12, 12.55, 15, 15.55])"
      ]
     },
     "execution_count": 5,
     "metadata": {},
     "output_type": "execute_result"
    }
   ],
   "source": [
    "data.keys() # so here we can see integers or float can be used as keys."
   ]
  },
  {
   "cell_type": "code",
   "execution_count": 7,
   "id": "d78c5de5-8c22-4ffd-b218-d20150e40484",
   "metadata": {},
   "outputs": [
    {
     "data": {
      "text/plain": [
       "dict_values(['mohsin', 'abhishek', 'zeba', 'swati'])"
      ]
     },
     "execution_count": 7,
     "metadata": {},
     "output_type": "execute_result"
    }
   ],
   "source": [
    "data.values() # these are the values."
   ]
  },
  {
   "cell_type": "code",
   "execution_count": 8,
   "id": "3340a529-5f0e-44f6-aa2f-782c2c1bf15c",
   "metadata": {},
   "outputs": [],
   "source": [
    "# if we use boolean value as keys :-"
   ]
  },
  {
   "cell_type": "code",
   "execution_count": 9,
   "id": "f0e5dc7d-653c-41d4-bf6d-3bb4261cac9b",
   "metadata": {},
   "outputs": [
    {
     "name": "stdout",
     "output_type": "stream",
     "text": [
      "{True: 'mohsin', False: 'swati'}\n",
      "<class 'dict'>\n"
     ]
    }
   ],
   "source": [
    "data = {True:\"mohsin\" ,False:\"swati\"}\n",
    "print(data)\n",
    "print(type(data))"
   ]
  },
  {
   "cell_type": "code",
   "execution_count": 10,
   "id": "b11e3fb4-552d-481c-be9e-f5903794b2cd",
   "metadata": {},
   "outputs": [
    {
     "data": {
      "text/plain": [
       "dict_keys([True, False])"
      ]
     },
     "execution_count": 10,
     "metadata": {},
     "output_type": "execute_result"
    }
   ],
   "source": [
    "data.keys() # so here we can see boolean value also works as keys in dictionary."
   ]
  },
  {
   "cell_type": "code",
   "execution_count": 11,
   "id": "5d6364e9-c254-4565-bdb7-79266b9596ce",
   "metadata": {},
   "outputs": [
    {
     "data": {
      "text/plain": [
       "dict_values(['mohsin', 'swati'])"
      ]
     },
     "execution_count": 11,
     "metadata": {},
     "output_type": "execute_result"
    }
   ],
   "source": [
    "data.values()"
   ]
  },
  {
   "cell_type": "code",
   "execution_count": 12,
   "id": "4629eb47-5629-4f16-9bc0-3fb15ccb9d5b",
   "metadata": {},
   "outputs": [],
   "source": [
    "# if we use string as a key :-"
   ]
  },
  {
   "cell_type": "code",
   "execution_count": 13,
   "id": "fbb17a72-d023-41bc-8226-51202bedd168",
   "metadata": {},
   "outputs": [
    {
     "name": "stdout",
     "output_type": "stream",
     "text": [
      "{'name': 'mohsin', 'address': 'lko'}\n",
      "<class 'dict'>\n"
     ]
    }
   ],
   "source": [
    "data = {\"name\":\"mohsin\",\"address\":\"lko\"}\n",
    "print(data)\n",
    "print(type(data))"
   ]
  },
  {
   "cell_type": "code",
   "execution_count": 14,
   "id": "ea3fe430-5ea5-4a75-aae5-3cc5f5b8051f",
   "metadata": {},
   "outputs": [
    {
     "data": {
      "text/plain": [
       "dict_keys(['name', 'address'])"
      ]
     },
     "execution_count": 14,
     "metadata": {},
     "output_type": "execute_result"
    }
   ],
   "source": [
    "data.keys() # so we can also use strings as keys in dictionary."
   ]
  },
  {
   "cell_type": "code",
   "execution_count": 15,
   "id": "2c82c9dd-59c0-489f-b3a0-8246e4b44172",
   "metadata": {},
   "outputs": [
    {
     "data": {
      "text/plain": [
       "dict_values(['mohsin', 'lko'])"
      ]
     },
     "execution_count": 15,
     "metadata": {},
     "output_type": "execute_result"
    }
   ],
   "source": [
    "data.values()"
   ]
  },
  {
   "cell_type": "code",
   "execution_count": 16,
   "id": "d9dc28dd-78a0-4978-a1c2-f072aa0e72b6",
   "metadata": {},
   "outputs": [],
   "source": [
    "# If we use tuples as keys in dictionary :-"
   ]
  },
  {
   "cell_type": "code",
   "execution_count": 17,
   "id": "d2925a82-220f-4130-b066-2e4234e4d010",
   "metadata": {},
   "outputs": [],
   "source": [
    "data = {(1,2,3):\"mohsin\",(5,6,7):\"swati\",(8910):\"abhishek\"}"
   ]
  },
  {
   "cell_type": "code",
   "execution_count": 18,
   "id": "9f966aa9-96b1-4265-b839-f4646408ad2f",
   "metadata": {},
   "outputs": [
    {
     "name": "stdout",
     "output_type": "stream",
     "text": [
      "{(1, 2, 3): 'mohsin', (5, 6, 7): 'swati', 8910: 'abhishek'}\n",
      "<class 'dict'>\n"
     ]
    }
   ],
   "source": [
    "print(data)\n",
    "print(type(data))"
   ]
  },
  {
   "cell_type": "code",
   "execution_count": 19,
   "id": "a93f2d41-9527-44cc-80e8-d4da79b1b271",
   "metadata": {},
   "outputs": [
    {
     "data": {
      "text/plain": [
       "dict_keys([(1, 2, 3), (5, 6, 7), 8910])"
      ]
     },
     "execution_count": 19,
     "metadata": {},
     "output_type": "execute_result"
    }
   ],
   "source": [
    "data.keys() # it means we can also use tuples as keys , because tuples are also immutable."
   ]
  },
  {
   "cell_type": "code",
   "execution_count": 20,
   "id": "ab118612-a693-4271-9732-2876744f7c3a",
   "metadata": {},
   "outputs": [
    {
     "data": {
      "text/plain": [
       "dict_values(['mohsin', 'swati', 'abhishek'])"
      ]
     },
     "execution_count": 20,
     "metadata": {},
     "output_type": "execute_result"
    }
   ],
   "source": [
    "data.values()"
   ]
  },
  {
   "cell_type": "code",
   "execution_count": null,
   "id": "f1cb62ee-25ed-4195-90bc-32fad811598e",
   "metadata": {},
   "outputs": [],
   "source": [
    "# So , the complete conclusion is , keys only use immutable data.\n",
    "# We can use immutable data like (string , integers , float , boolean and tuple data structure) , they all are immutable and have a stable hash value. and keys only use the data who have stable hash value. Because keys also have stable hash value , and keys never can be change in dictionary."
   ]
  },
  {
   "cell_type": "markdown",
   "id": "bfce1a6f-b571-4959-9fc2-ef9a2da49ef5",
   "metadata": {},
   "source": [
    "#### Invalid data which cannot be used as keys in dictionary :-"
   ]
  },
  {
   "cell_type": "code",
   "execution_count": 21,
   "id": "59d192fa-a82a-4120-8755-873b107cc408",
   "metadata": {},
   "outputs": [],
   "source": [
    "# example :-"
   ]
  },
  {
   "cell_type": "code",
   "execution_count": 22,
   "id": "4b3cb4ce-f6a0-4536-b403-9b575755c8e6",
   "metadata": {},
   "outputs": [
    {
     "ename": "SyntaxError",
     "evalue": "incomplete input (3347267319.py, line 3)",
     "output_type": "error",
     "traceback": [
      "\u001b[0;36m  Cell \u001b[0;32mIn[22], line 3\u001b[0;36m\u001b[0m\n\u001b[0;31m    data\u001b[0m\n\u001b[0m        ^\u001b[0m\n\u001b[0;31mSyntaxError\u001b[0m\u001b[0;31m:\u001b[0m incomplete input\n"
     ]
    }
   ],
   "source": [
    "# if we want to use any special characters as keys :-\n",
    "data = {#:\"mohsin\",#:\"swati\"} # so we get error because # is used to write comments in python , and we cannot use it as keys in dictionary.\n",
    "data"
   ]
  },
  {
   "cell_type": "code",
   "execution_count": 23,
   "id": "7bf5940c-b85b-4ba6-a22d-d9dfd33c7bed",
   "metadata": {},
   "outputs": [],
   "source": [
    "# if we use _ (underscore character) :-"
   ]
  },
  {
   "cell_type": "code",
   "execution_count": 25,
   "id": "25855e55-21cb-48bf-8a3f-2bea160be10a",
   "metadata": {},
   "outputs": [
    {
     "name": "stdout",
     "output_type": "stream",
     "text": [
      "{dict_values(['mohsin', 'swati', 'abhishek']): 'swati'}\n",
      "<class 'dict'>\n"
     ]
    }
   ],
   "source": [
    "data = {_:\"mohsin\",_:\"swati\"}\n",
    "print(data)\n",
    "print(type(data))"
   ]
  },
  {
   "cell_type": "code",
   "execution_count": 26,
   "id": "c7f3088b-5692-42a0-8eb9-4130311488b6",
   "metadata": {},
   "outputs": [
    {
     "data": {
      "text/plain": [
       "dict_keys([dict_values(['mohsin', 'swati', 'abhishek'])])"
      ]
     },
     "execution_count": 26,
     "metadata": {},
     "output_type": "execute_result"
    }
   ],
   "source": [
    "data.keys()"
   ]
  },
  {
   "cell_type": "code",
   "execution_count": 27,
   "id": "584593db-2502-466a-beb2-c21cc36a001b",
   "metadata": {},
   "outputs": [
    {
     "data": {
      "text/plain": [
       "dict_values(['swati'])"
      ]
     },
     "execution_count": 27,
     "metadata": {},
     "output_type": "execute_result"
    }
   ],
   "source": [
    "data.values()"
   ]
  },
  {
   "cell_type": "code",
   "execution_count": null,
   "id": "ffdf9f92-d634-45a9-80f0-b18341c1d403",
   "metadata": {},
   "outputs": [],
   "source": [
    "# so here we can see , it will not give error , but it also cannot able to work properly.That's why we also cannot use underscore character as keys.\n",
    "# Because underscore character helps in writting code in python , it cannot be use as keys in dictionary."
   ]
  },
  {
   "cell_type": "code",
   "execution_count": 28,
   "id": "1d943aa9-2111-4b5d-8b4b-239f635f1427",
   "metadata": {},
   "outputs": [],
   "source": [
    "# Now if we use @ as keys in dictionary :-"
   ]
  },
  {
   "cell_type": "code",
   "execution_count": 29,
   "id": "ef4e49fd-ffeb-438d-8023-384d253e6ccf",
   "metadata": {},
   "outputs": [
    {
     "ename": "SyntaxError",
     "evalue": "invalid syntax (2083327523.py, line 1)",
     "output_type": "error",
     "traceback": [
      "\u001b[0;36m  Cell \u001b[0;32mIn[29], line 1\u001b[0;36m\u001b[0m\n\u001b[0;31m    data = {@:\"mohsin\"}\u001b[0m\n\u001b[0m            ^\u001b[0m\n\u001b[0;31mSyntaxError\u001b[0m\u001b[0;31m:\u001b[0m invalid syntax\n"
     ]
    }
   ],
   "source": [
    "data = {@:\"mohsin\"} # so here we get error , because @ also cannot be used as keys in dictionary."
   ]
  },
  {
   "cell_type": "code",
   "execution_count": null,
   "id": "a01fcd78-5fca-4731-ada8-ec57537d6ed3",
   "metadata": {},
   "outputs": [],
   "source": [
    "# So , the complete conclusion according to the special character is that , special character cannot be used as keys in dictionary."
   ]
  },
  {
   "cell_type": "code",
   "execution_count": 30,
   "id": "009fdd72-b695-483b-a585-50b9ec90c87b",
   "metadata": {},
   "outputs": [],
   "source": [
    "# Now if we use list data structure as keys :-"
   ]
  },
  {
   "cell_type": "code",
   "execution_count": 31,
   "id": "f1e904c8-5c5c-4b05-9612-653d7cf95c99",
   "metadata": {},
   "outputs": [
    {
     "ename": "TypeError",
     "evalue": "unhashable type: 'list'",
     "output_type": "error",
     "traceback": [
      "\u001b[0;31m---------------------------------------------------------------------------\u001b[0m",
      "\u001b[0;31mTypeError\u001b[0m                                 Traceback (most recent call last)",
      "Cell \u001b[0;32mIn[31], line 1\u001b[0m\n\u001b[0;32m----> 1\u001b[0m data \u001b[38;5;241m=\u001b[39m {[\u001b[38;5;241m1\u001b[39m,\u001b[38;5;241m2\u001b[39m,\u001b[38;5;241m3\u001b[39m]:\u001b[38;5;124m\"\u001b[39m\u001b[38;5;124mmohsin\u001b[39m\u001b[38;5;124m\"\u001b[39m}\n\u001b[1;32m      2\u001b[0m data\n",
      "\u001b[0;31mTypeError\u001b[0m: unhashable type: 'list'"
     ]
    }
   ],
   "source": [
    "data = {[1,2,3]:\"mohsin\"} # so it will again give error , because list is mutable , where as keys are immutable.\n",
    "data"
   ]
  },
  {
   "cell_type": "code",
   "execution_count": null,
   "id": "e9aef5ef-81dc-4008-b76b-fe9349712edb",
   "metadata": {},
   "outputs": [],
   "source": [
    "# list are unhashable type of data , it means list have not stable hash value , and we can only use stable hash value type of data as keys in dictionary."
   ]
  },
  {
   "cell_type": "code",
   "execution_count": 32,
   "id": "b6e98916-6701-44ce-bf50-4568fd88ebe7",
   "metadata": {},
   "outputs": [],
   "source": [
    "# Now if we use sets as keys in dictionary :-"
   ]
  },
  {
   "cell_type": "code",
   "execution_count": 33,
   "id": "b0d74c89-80a1-4214-a41d-fd9f5c91e65e",
   "metadata": {},
   "outputs": [
    {
     "ename": "TypeError",
     "evalue": "unhashable type: 'set'",
     "output_type": "error",
     "traceback": [
      "\u001b[0;31m---------------------------------------------------------------------------\u001b[0m",
      "\u001b[0;31mTypeError\u001b[0m                                 Traceback (most recent call last)",
      "Cell \u001b[0;32mIn[33], line 1\u001b[0m\n\u001b[0;32m----> 1\u001b[0m data \u001b[38;5;241m=\u001b[39m {{\u001b[38;5;241m1\u001b[39m,\u001b[38;5;241m2\u001b[39m,\u001b[38;5;241m3\u001b[39m}:\u001b[38;5;124m\"\u001b[39m\u001b[38;5;124mmohsin\u001b[39m\u001b[38;5;124m\"\u001b[39m}\n\u001b[1;32m      2\u001b[0m data\n",
      "\u001b[0;31mTypeError\u001b[0m: unhashable type: 'set'"
     ]
    }
   ],
   "source": [
    "data = {{1,2,3}:\"mohsin\"} # again we get error , because set only require immutable data , but set is a mutable data , that's set also cannot use as keys.\n",
    "data"
   ]
  },
  {
   "cell_type": "code",
   "execution_count": null,
   "id": "33940987-f359-4db7-be31-b58ce246e764",
   "metadata": {},
   "outputs": [],
   "source": [
    "# sets are unhashable type of data , it means sets have not stable hash value , and we can only use stable hash value type of data as keys in dictionary.\n",
    "# Sets  requires immutable data structure in set , but set is a mutable data , and have unhashable type data."
   ]
  },
  {
   "cell_type": "code",
   "execution_count": 34,
   "id": "c1ea4efb-4fa7-4459-a530-be67b3e93c01",
   "metadata": {},
   "outputs": [],
   "source": [
    "# Now if we use dictionary as keys in dictionary :-"
   ]
  },
  {
   "cell_type": "code",
   "execution_count": 36,
   "id": "1370ad39-5c98-4c10-8f72-4a5bd5ce186f",
   "metadata": {},
   "outputs": [
    {
     "ename": "TypeError",
     "evalue": "unhashable type: 'dict'",
     "output_type": "error",
     "traceback": [
      "\u001b[0;31m---------------------------------------------------------------------------\u001b[0m",
      "\u001b[0;31mTypeError\u001b[0m                                 Traceback (most recent call last)",
      "Cell \u001b[0;32mIn[36], line 1\u001b[0m\n\u001b[0;32m----> 1\u001b[0m data \u001b[38;5;241m=\u001b[39m {{\u001b[38;5;124m\"\u001b[39m\u001b[38;5;124mname\u001b[39m\u001b[38;5;124m\"\u001b[39m:\u001b[38;5;124m\"\u001b[39m\u001b[38;5;124mmohsin\u001b[39m\u001b[38;5;124m\"\u001b[39m}:\u001b[38;5;124m\"\u001b[39m\u001b[38;5;124mabhishek\u001b[39m\u001b[38;5;124m\"\u001b[39m}\n\u001b[1;32m      2\u001b[0m data\n",
      "\u001b[0;31mTypeError\u001b[0m: unhashable type: 'dict'"
     ]
    }
   ],
   "source": [
    "data = {{\"name\":\"mohsin\"}:\"abhishek\"} # again we get error , because dictionary is also a mutable data type , that's why it's also cannot use as keys.\n",
    "data"
   ]
  },
  {
   "cell_type": "code",
   "execution_count": null,
   "id": "fbe59355-b2df-4fce-826d-5431a3c2276d",
   "metadata": {},
   "outputs": [],
   "source": [
    "# So , dictionary as keys cannot be used , because dictionary is a mutable type data , means dictionary is unhashable type data , means it's also have not stable hash value. and we can use as keys in dictionary , only immutable type data , means who have stable hash value.\n",
    "# hash value >> memory block have some address , and that address is called hash value."
   ]
  },
  {
   "cell_type": "code",
   "execution_count": null,
   "id": "cbe6ad7b-fc22-44dc-8511-3ce4c7fa21e7",
   "metadata": {},
   "outputs": [],
   "source": [
    "# This is the complete understanding about the importance of keys immutable in dictionary with examples."
   ]
  },
  {
   "cell_type": "markdown",
   "id": "bb5a44fe-c304-4717-af21-0283f2f0e999",
   "metadata": {},
   "source": [
    "#### This is the complete assignment from my end."
   ]
  },
  {
   "cell_type": "code",
   "execution_count": null,
   "id": "83a3ad5a-1c9f-4b79-8263-44c0b506ff92",
   "metadata": {},
   "outputs": [],
   "source": []
  }
 ],
 "metadata": {
  "kernelspec": {
   "display_name": "Python 3 (ipykernel)",
   "language": "python",
   "name": "python3"
  },
  "language_info": {
   "codemirror_mode": {
    "name": "ipython",
    "version": 3
   },
   "file_extension": ".py",
   "mimetype": "text/x-python",
   "name": "python",
   "nbconvert_exporter": "python",
   "pygments_lexer": "ipython3",
   "version": "3.10.8"
  }
 },
 "nbformat": 4,
 "nbformat_minor": 5
}
